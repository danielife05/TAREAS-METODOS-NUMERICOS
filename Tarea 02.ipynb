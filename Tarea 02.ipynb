{
 "cells": [
  {
   "cell_type": "markdown",
   "id": "c9c54e54-bd07-49dc-9588-4132e45ca183",
   "metadata": {},
   "source": [
    "# ESCUELA POLITÉCNICA NACIONAL\n",
    "# FACULTAD DE INGENIERÍA EN SISTEMAS\n",
    "# MATERIA: MÉTODOS NUMÉRICOS\n",
    "# NOMBRE: DANIEL ISMAEL FLORES ESPÍN"
   ]
  },
  {
   "cell_type": "markdown",
   "id": "07e9266a-4029-4b20-97b0-84f01e104f71",
   "metadata": {},
   "source": [
    "#### 1. Calcule los errores absoluto y relativo en las aproximaciones de p por p*\n"
   ]
  },
  {
   "cell_type": "markdown",
   "id": "d2294001-8566-4744-b8dc-600cf2aa6925",
   "metadata": {},
   "source": [
    "#### a) $p =\\pi,  p*=\\frac{22}{7}$ "
   ]
  },
  {
   "cell_type": "markdown",
   "id": "b7ad539d-b022-47ea-b8bd-0097ab0c295f",
   "metadata": {},
   "source": [
    "$E_a = |p - p^*| = |\\pi - \\frac{22}{7}|$"
   ]
  },
  {
   "cell_type": "code",
   "execution_count": 2,
   "id": "64fcc3fd-8e74-4d6f-9398-d2a7e3cde9ba",
   "metadata": {},
   "outputs": [
    {
     "name": "stdout",
     "output_type": "stream",
     "text": [
      "0.0012644893\n"
     ]
    }
   ],
   "source": [
    "import math\n",
    "abs1 = abs(math.pi-(22/7))\n",
    "print(f\"{abs1:.10f}\")"
   ]
  },
  {
   "cell_type": "markdown",
   "id": "dea452b8-14ea-4364-8b66-c32a5e312492",
   "metadata": {},
   "source": [
    "0.0012644893% de Error"
   ]
  },
  {
   "cell_type": "markdown",
   "id": "55487383-6fd0-491e-a4d2-3773139648cd",
   "metadata": {},
   "source": [
    "$E_r = \\frac{|p - p^*|}{|p|} = \\frac{|\\pi - \\frac{22}{7}|}{|\\pi|}$"
   ]
  },
  {
   "cell_type": "code",
   "execution_count": 7,
   "id": "1c3fb205-e88c-4697-91fa-f7060c85c17b",
   "metadata": {},
   "outputs": [
    {
     "name": "stdout",
     "output_type": "stream",
     "text": [
      "0.0004024994\n"
     ]
    }
   ],
   "source": [
    "rel1 = abs((math.pi-(22/7))/(math.pi))\n",
    "print(f\"{rel1:.10f}\")"
   ]
  },
  {
   "cell_type": "markdown",
   "id": "e7edab84-26f5-420c-a4ab-5dc5ca9a7abf",
   "metadata": {},
   "source": [
    "0.04024994% de Error"
   ]
  },
  {
   "cell_type": "markdown",
   "id": "206fce06-f0cc-4924-9eab-c4dd3b9b1bbe",
   "metadata": {},
   "source": [
    "#### b) $p =\\pi,  p*=3.1416$ "
   ]
  },
  {
   "cell_type": "markdown",
   "id": "caa00f5a-1f13-4871-9bf9-806de3706753",
   "metadata": {},
   "source": [
    "$E_a = |p - p^*| = |\\pi - 3.1416|$"
   ]
  },
  {
   "cell_type": "code",
   "execution_count": 8,
   "id": "e0bcd9fe-3e3d-457f-9b67-39df9b3187c1",
   "metadata": {},
   "outputs": [
    {
     "name": "stdout",
     "output_type": "stream",
     "text": [
      "0.0000073464\n"
     ]
    }
   ],
   "source": [
    "abs2 = abs(math.pi-3.1416)\n",
    "print(f\"{abs2:.10f}\")"
   ]
  },
  {
   "cell_type": "markdown",
   "id": "1b8f4e9c-3ead-4c86-9b93-033ba0c3e295",
   "metadata": {},
   "source": [
    "0.00073464% de Error"
   ]
  },
  {
   "cell_type": "markdown",
   "id": "c3996af6-7b9a-4c48-a01b-87d345fb3206",
   "metadata": {},
   "source": [
    "$E_r = \\frac{|p - p^*|}{|p|} = \\frac{|\\pi - 3.1416|}{|\\pi|}$"
   ]
  },
  {
   "cell_type": "code",
   "execution_count": 17,
   "id": "3885885d-4e0d-4f27-aed1-6dba1ca0c5ab",
   "metadata": {},
   "outputs": [
    {
     "name": "stdout",
     "output_type": "stream",
     "text": [
      "0.0000023384\n"
     ]
    }
   ],
   "source": [
    "rel2 = abs((math.pi-3.1416)/(math.pi))\n",
    "print(f\"{rel2:.10f}\")"
   ]
  },
  {
   "cell_type": "markdown",
   "id": "ac3a82c3-38b7-4fc0-be55-ece461acee23",
   "metadata": {},
   "source": [
    " 0.00023384% de Error"
   ]
  },
  {
   "cell_type": "markdown",
   "id": "d81d86f4-a4c1-4d64-b63a-fdcc18e6a36c",
   "metadata": {},
   "source": [
    "#### c) $p =e,  p*=2.718$ 8"
   ]
  },
  {
   "cell_type": "markdown",
   "id": "80931975-89a8-4b44-bb48-0de126e3d65d",
   "metadata": {},
   "source": [
    "$E_a = |p - p^*| = |e - 2.718|$"
   ]
  },
  {
   "cell_type": "code",
   "execution_count": 20,
   "id": "b8a47df7-600d-488e-ba33-eaa6213d4315",
   "metadata": {},
   "outputs": [
    {
     "name": "stdout",
     "output_type": "stream",
     "text": [
      "0.0002818285\n"
     ]
    }
   ],
   "source": [
    "abs3 = abs(math.e-2.718)\n",
    "print(f\"{abs3:.10f}\")"
   ]
  },
  {
   "cell_type": "markdown",
   "id": "9e4a9283-70e8-44e7-89ba-39879f112387",
   "metadata": {},
   "source": [
    " 0.02818285% de Error"
   ]
  },
  {
   "cell_type": "markdown",
   "id": "64e8307e-a18b-4812-8c97-97417ba2918e",
   "metadata": {},
   "source": [
    "$E_r = \\frac{|p - p^*|}{|p|} = \\frac{|e - 2.718|}{|e|}$"
   ]
  },
  {
   "cell_type": "code",
   "execution_count": 21,
   "id": "1b45e0c3-0a52-41d3-9442-d0519932cc57",
   "metadata": {},
   "outputs": [
    {
     "name": "stdout",
     "output_type": "stream",
     "text": [
      "0.0001036789\n"
     ]
    }
   ],
   "source": [
    "rel3 = abs((math.e-2.718)/(math.e))\n",
    "print(f\"{rel3:.10f}\")"
   ]
  },
  {
   "cell_type": "markdown",
   "id": "9e3112ed-d2f9-4390-b57f-5456d2352c6c",
   "metadata": {},
   "source": [
    " 0.01036789% de Error"
   ]
  },
  {
   "cell_type": "markdown",
   "id": "980069b3-d7ef-4541-9fe1-5ee2e41ed19e",
   "metadata": {},
   "source": [
    "#### d) $p =\\sqrt{2},  p*=1.414$ "
   ]
  },
  {
   "cell_type": "markdown",
   "id": "f6bb3622-0d5a-4309-97d9-19c0e2eeecda",
   "metadata": {},
   "source": [
    "$E_a = |p - p^*| = |\\sqrt{2} - 1.414|$"
   ]
  },
  {
   "cell_type": "code",
   "execution_count": 31,
   "id": "364a226a-6ce1-4601-8792-b2d8a5fe3af8",
   "metadata": {},
   "outputs": [
    {
     "name": "stdout",
     "output_type": "stream",
     "text": [
      "0.0002135624\n"
     ]
    }
   ],
   "source": [
    "abs4 = abs(math.sqrt(2)-1.414)\n",
    "print(f\"{abs4:.10f}\")"
   ]
  },
  {
   "cell_type": "markdown",
   "id": "ec40c7f2-a85d-4a74-94e2-3453dcc75b77",
   "metadata": {},
   "source": [
    "0.02135624% de Error"
   ]
  },
  {
   "cell_type": "markdown",
   "id": "61c4c56f-52a6-45d6-b480-4758577d6f6d",
   "metadata": {},
   "source": [
    "$E_r = \\frac{|p - p^*|}{|p|} = \\frac{|\\sqrt{2} - 1.414|}{|\\sqrt{2}|}$"
   ]
  },
  {
   "cell_type": "code",
   "execution_count": 34,
   "id": "88deb098-891a-43b5-8359-f7e6f77ff7e7",
   "metadata": {},
   "outputs": [
    {
     "name": "stdout",
     "output_type": "stream",
     "text": [
      "0.0001510114\n"
     ]
    }
   ],
   "source": [
    "rel4 = abs((math.sqrt(2)-1.414)/(math.sqrt(2)))\n",
    "print(f\"{rel4:.10f}\")"
   ]
  },
  {
   "cell_type": "markdown",
   "id": "8a87ba36-fa37-4bca-baf9-4dd41757badc",
   "metadata": {},
   "source": [
    "0.01510114% de Error"
   ]
  },
  {
   "cell_type": "markdown",
   "id": "4a30e2c5-b18c-4c3e-994e-9b7bdb8a11af",
   "metadata": {},
   "source": [
    "#### 2. Calcule los errores absoluto y relativo en las aproximaciones de p por p*"
   ]
  },
  {
   "cell_type": "markdown",
   "id": "7aee7735-b55f-49fd-b951-8025df36bfec",
   "metadata": {},
   "source": [
    "#### a) $p =e^{10},  p*=22000$ "
   ]
  },
  {
   "cell_type": "markdown",
   "id": "db90a433-d83e-482b-abea-9897bd05273b",
   "metadata": {},
   "source": [
    "$E_a = |p - p^*| = |e^{10} - 22000|$"
   ]
  },
  {
   "cell_type": "code",
   "execution_count": 39,
   "id": "38868e2d-bca6-46e7-9821-95f34c902a81",
   "metadata": {},
   "outputs": [
    {
     "name": "stdout",
     "output_type": "stream",
     "text": [
      "26.4657948067\n"
     ]
    }
   ],
   "source": [
    "abs5 = abs(math.pow(math.e,10)-22000)\n",
    "print(f\"{abs5:.10f}\")"
   ]
  },
  {
   "cell_type": "markdown",
   "id": "b2e3ff24-9da0-49e9-802b-1c61c49096c8",
   "metadata": {},
   "source": [
    "2646.57948067% de Error"
   ]
  },
  {
   "cell_type": "markdown",
   "id": "2b680d41-9e80-4018-acde-91c6efe0a3ca",
   "metadata": {},
   "source": [
    "$E_r = \\frac{|p - p^*|}{|p|} = \\frac{|e^{10} - 22000|}{|e^{10}|}$"
   ]
  },
  {
   "cell_type": "code",
   "execution_count": 42,
   "id": "ec14a273-de2e-4644-a463-edcf796699cb",
   "metadata": {},
   "outputs": [
    {
     "name": "stdout",
     "output_type": "stream",
     "text": [
      "0.0012015452\n"
     ]
    }
   ],
   "source": [
    "rel5 = abs((math.pow(math.e,10)-22000)/(math.pow(math.e,10)))\n",
    "print(f\"{rel5:.10f}\")"
   ]
  },
  {
   "cell_type": "markdown",
   "id": "f3b90d32-346e-4ed3-821a-1fbc438c92dd",
   "metadata": {},
   "source": [
    "0.0012015452% de Error"
   ]
  },
  {
   "cell_type": "markdown",
   "id": "a28f50a7-ce48-4915-a14e-cf58c9bd387a",
   "metadata": {},
   "source": [
    "#### b) $p =10^{\\pi},  p*=1400$ "
   ]
  },
  {
   "cell_type": "markdown",
   "id": "f769a7cd-f100-46e7-b036-153a670e1f61",
   "metadata": {},
   "source": [
    "$E_a = |p - p^*| = |10^{\\pi} - 1400|$"
   ]
  },
  {
   "cell_type": "code",
   "execution_count": 43,
   "id": "92d04dc5-2456-4942-bb13-9eed4cb6780d",
   "metadata": {},
   "outputs": [
    {
     "name": "stdout",
     "output_type": "stream",
     "text": [
      "14.5442686330\n"
     ]
    }
   ],
   "source": [
    "abs6 = abs(math.pow(10,math.pi)-1400)\n",
    "print(f\"{abs6:.10f}\")"
   ]
  },
  {
   "cell_type": "markdown",
   "id": "b45daaa8-7a55-4344-b4ae-ed2bd2ab9546",
   "metadata": {},
   "source": [
    "1454.42686330% de Error"
   ]
  },
  {
   "cell_type": "markdown",
   "id": "ce31ed43-9f3b-415f-884c-9ac9253c9128",
   "metadata": {},
   "source": [
    "$E_r = \\frac{|p - p^*|}{|p|} = \\frac{|10^{\\pi} - 1400|}{|10^{\\pi}|}$"
   ]
  },
  {
   "cell_type": "code",
   "execution_count": 47,
   "id": "806b04e4-151e-447b-b65a-6d9091b61c0c",
   "metadata": {},
   "outputs": [
    {
     "name": "stdout",
     "output_type": "stream",
     "text": [
      "0.0104978227\n"
     ]
    }
   ],
   "source": [
    "rel6 = abs((math.pow(10,math.pi)-1400)/(math.pow(10,math.pi)))\n",
    "print(f\"{rel6:.10f}\")"
   ]
  },
  {
   "cell_type": "markdown",
   "id": "6620827a-6143-4e04-bb16-240237d41b60",
   "metadata": {},
   "source": [
    "0.0104978227% de Error"
   ]
  },
  {
   "cell_type": "markdown",
   "id": "547c98de-a944-42c9-973b-a39910af9dd8",
   "metadata": {},
   "source": [
    "#### c) $p =8!,  p*=39900$ "
   ]
  },
  {
   "cell_type": "markdown",
   "id": "61040e8d-de9c-4cb5-886a-553a1578d76d",
   "metadata": {},
   "source": [
    "$E_a = |p - p^*| = |8! - 39900|$"
   ]
  },
  {
   "cell_type": "code",
   "execution_count": 45,
   "id": "3e69fdde-5f66-4684-ada6-0e2d80ca7d58",
   "metadata": {},
   "outputs": [
    {
     "name": "stdout",
     "output_type": "stream",
     "text": [
      "420.0000000000\n"
     ]
    }
   ],
   "source": [
    "abs7 = abs(math.factorial(8)-39900)\n",
    "print(f\"{abs7:.10f}\")"
   ]
  },
  {
   "cell_type": "markdown",
   "id": "5cfaf8b0-6f2a-4d34-baba-cc30351d0684",
   "metadata": {},
   "source": [
    "42000.00000000% de Error"
   ]
  },
  {
   "cell_type": "markdown",
   "id": "bf5a961c-cb9a-4afa-a6d9-01ac18801b4b",
   "metadata": {},
   "source": [
    "$E_r = \\frac{|p - p^*|}{|p|} = \\frac{|8! - 39900|}{|8!|}$"
   ]
  },
  {
   "cell_type": "code",
   "execution_count": 50,
   "id": "2a395cbd-3367-45ba-89d2-c5573bca73f0",
   "metadata": {
    "scrolled": true
   },
   "outputs": [
    {
     "name": "stdout",
     "output_type": "stream",
     "text": [
      "0.0104166667\n"
     ]
    }
   ],
   "source": [
    "rel7 = abs((math.factorial(8)-39900)/(math.factorial(8)))\n",
    "print(f\"{rel7:.10f}\")"
   ]
  },
  {
   "cell_type": "markdown",
   "id": "c3651e2e-daeb-4711-9e8a-1c68bb6ffc6b",
   "metadata": {},
   "source": [
    "1.04166667% de Error"
   ]
  },
  {
   "cell_type": "markdown",
   "id": "83b92c80-9316-40dd-81fd-8e2ec502ffd1",
   "metadata": {},
   "source": [
    "#### d) $p =9!,  p*=\\sqrt{18\\pi}(\\frac{9}{e})^9$ "
   ]
  },
  {
   "cell_type": "markdown",
   "id": "3da627c6-ec69-40ba-8475-b1a6524529c5",
   "metadata": {},
   "source": [
    "$E_a = |p - p^*| = |9! - \\sqrt{18\\pi}(\\frac{9}{e})^9|$"
   ]
  },
  {
   "cell_type": "code",
   "execution_count": 55,
   "id": "be040990-1650-48c6-adcf-5b1ff6afad74",
   "metadata": {},
   "outputs": [
    {
     "name": "stdout",
     "output_type": "stream",
     "text": [
      "3343.1271580516\n"
     ]
    }
   ],
   "source": [
    "abs8 = abs(math.factorial(9)-(math.sqrt(18*math.pi)*math.pow((9/math.e),9)))\n",
    "print(f\"{abs8:.10f}\")"
   ]
  },
  {
   "cell_type": "markdown",
   "id": "e6a5d96a-1532-4ec3-998b-cf25c13c37c8",
   "metadata": {},
   "source": [
    "334312.71580516% de Error"
   ]
  },
  {
   "cell_type": "markdown",
   "id": "f19bd060-a931-4e1f-89db-8d75f3e4151e",
   "metadata": {},
   "source": [
    "$E_r = \\frac{|p - p^*|}{|p|} = \\frac{|8! - 39900|}{|8!|}$"
   ]
  },
  {
   "cell_type": "code",
   "execution_count": 56,
   "id": "5b2df80a-177b-4d40-b573-b9938601d524",
   "metadata": {
    "scrolled": true
   },
   "outputs": [
    {
     "name": "stdout",
     "output_type": "stream",
     "text": [
      "0.0092127622\n"
     ]
    }
   ],
   "source": [
    "rel8 = abs((math.factorial(9)-(math.sqrt(18*math.pi)*math.pow((9/math.e),9)))/(math.factorial(9)))\n",
    "print(f\"{rel8:.10f}\")"
   ]
  },
  {
   "cell_type": "markdown",
   "id": "87782699-4523-4212-b679-858bd008d1d2",
   "metadata": {},
   "source": [
    "0.92127622% de Error"
   ]
  },
  {
   "cell_type": "markdown",
   "id": "d4a66736-c042-4d46-bb29-4a9c78fac36f",
   "metadata": {},
   "source": [
    "#### 3. Encuentre el intervalo más largo en el que se debe encontrar 𝑝* para aproximarse a 𝑝 con error relativo máximo de  $10^{−4}$ para cada valor de 𝑝. "
   ]
  },
  {
   "cell_type": "markdown",
   "id": "333c7be1-30d4-43c9-adce-b232d1df0f1d",
   "metadata": {},
   "source": [
    "$\\text{Error relativo} = \\frac{|p^* - p|}{|p|}$"
   ]
  },
  {
   "cell_type": "markdown",
   "id": "c39debd9-ac4d-4121-98dd-8179e76c2bfb",
   "metadata": {},
   "source": [
    "$\\frac{|p^* - p|}{|p|} \\leq 10^{-4}$"
   ]
  },
  {
   "cell_type": "markdown",
   "id": "8acf4476-da5b-4a50-a979-4fe6e913e7c7",
   "metadata": {},
   "source": [
    "$p - 10^{-4} \\cdot p \\leq p^* \\leq p + 10^{-4} \\cdot p$"
   ]
  },
  {
   "cell_type": "markdown",
   "id": "8d8cc2f9-3888-42f1-a985-745f10bc496e",
   "metadata": {},
   "source": [
    "#### a) ${\\pi}$"
   ]
  },
  {
   "cell_type": "markdown",
   "id": "048b0a46-f2f3-48ff-a2b3-9fddc5cd8d57",
   "metadata": {},
   "source": [
    "$p = \\pi$"
   ]
  },
  {
   "cell_type": "markdown",
   "id": "f81f5307-1b1f-4d3c-bdf2-fa88b5ca51f0",
   "metadata": {},
   "source": [
    "$\\pi - 10^{-4} \\cdot \\pi \\leq p^* \\leq \\pi + 10^{-4} \\cdot \\pi$"
   ]
  },
  {
   "cell_type": "markdown",
   "id": "6901b4b9-4b3e-4fe9-b812-ee7a617c1dcb",
   "metadata": {},
   "source": [
    "$\\pi - 3.1415926536 \\cdot 10^{-4} \\leq p^* \\leq \\pi + 3.1415926536 \\cdot 10^{-4}$"
   ]
  },
  {
   "cell_type": "markdown",
   "id": "d391c349-8858-43bf-9b41-21e97ee84244",
   "metadata": {},
   "source": [
    "$3.1412784943 \\leq p^* \\leq 3.1419068129$"
   ]
  },
  {
   "cell_type": "markdown",
   "id": "d1cfe418-4196-402e-afb8-4be5d663fba2",
   "metadata": {},
   "source": [
    "#### b)$e$"
   ]
  },
  {
   "cell_type": "markdown",
   "id": "430caf76-ec25-4f13-b4e3-3657bc8c60ae",
   "metadata": {},
   "source": [
    "$p = e$"
   ]
  },
  {
   "cell_type": "markdown",
   "id": "d0338af2-e032-4c25-8cea-f7232f799130",
   "metadata": {},
   "source": [
    "$e - 10^{-4} \\cdot e \\leq p^* \\leq e + 10^{-4} \\cdot e$"
   ]
  },
  {
   "cell_type": "markdown",
   "id": "5698f23c-229e-4742-b5be-8dbff5c238a4",
   "metadata": {},
   "source": [
    "$2.7182818285 - 2.7182818285 \\cdot 10^{-4} \\leq p^* \\leq 2.7182818285 + 2.7182818285 \\cdot 10^{-4}$"
   ]
  },
  {
   "cell_type": "markdown",
   "id": "75d7b8a4-23bb-49e4-8c5d-c082ed07de1b",
   "metadata": {},
   "source": [
    "$2.7180090000 \\leq p^* \\leq 2.7185546567$"
   ]
  },
  {
   "cell_type": "markdown",
   "id": "d71ca3ed-4e3c-4aac-91f7-9cf74fe8aff0",
   "metadata": {},
   "source": [
    "#### c) $\\sqrt{2}$"
   ]
  },
  {
   "cell_type": "markdown",
   "id": "874acb15-8908-4164-aa5f-6a0409b7bf94",
   "metadata": {},
   "source": [
    "$\\sqrt{2} - 10^{-4} \\cdot \\sqrt{2} \\leq p^* \\leq \\sqrt{2} + 10^{-4} \\cdot \\sqrt{2}$"
   ]
  },
  {
   "cell_type": "markdown",
   "id": "d09e1f17-469e-408f-9b78-584d252882ac",
   "metadata": {},
   "source": [
    "$1.4142135624 - 1.4142135624 \\cdot 10^{-4} \\leq p^* \\leq 1.4142135624 + 1.4142135624 \\cdot 10^{-4}$"
   ]
  },
  {
   "cell_type": "markdown",
   "id": "8e407537-00b5-4b01-b1c1-45ad88e7e31b",
   "metadata": {},
   "source": [
    "$1.4140721411 \\leq p^* \\leq 1.4143549836$"
   ]
  },
  {
   "cell_type": "markdown",
   "id": "f6da51be-e1fb-4473-aeeb-c0be6f0e33d3",
   "metadata": {},
   "source": [
    "#### d) $\\sqrt[3]{7}$"
   ]
  },
  {
   "cell_type": "markdown",
   "id": "678ef8be-c854-45d7-9a58-6bbf2ff8393e",
   "metadata": {},
   "source": [
    "$\\sqrt{7} - 10^{-4} \\cdot \\sqrt{7} \\leq p^* \\leq \\sqrt{7} + 10^{-4} \\cdot \\sqrt{7}$"
   ]
  },
  {
   "cell_type": "markdown",
   "id": "74aefb4f-2757-4c7e-96f5-2ccd64ec0ccb",
   "metadata": {},
   "source": [
    "$2.6457513111 - 2.6457513111 \\cdot 10^{-4} \\leq p^* \\leq 2.6457513111 + 2.6457513111 \\cdot 10^{-4}$"
   ]
  },
  {
   "cell_type": "markdown",
   "id": "bf763b3b-d71c-41e2-ad22-6fc27a38cfca",
   "metadata": {},
   "source": [
    "$2.6454867360 \\leq p^* \\leq 2.6460158862$"
   ]
  },
  {
   "cell_type": "markdown",
   "id": "0de1d290-fed3-42a5-9a36-509d867d21d4",
   "metadata": {},
   "source": [
    "#### 4. Use la aritmética de redondeo de tres dígitos para realizar lo siguiente. Calcule los errores absoluto y relativo \n",
    "con el valor exacto determinado para por lo menos cinco dígitos."
   ]
  },
  {
   "cell_type": "markdown",
   "id": "883f7674-a324-4002-b86b-d812b37a14e4",
   "metadata": {},
   "source": [
    "#### a) $\\frac{\\frac{13}{14}-\\frac{5}{7}}{2e-5.4}$"
   ]
  },
  {
   "cell_type": "markdown",
   "id": "33ff5d9a-6b84-41a1-ba66-b20c2f365b13",
   "metadata": {},
   "source": [
    "$\\frac{13}{14} = 0.9285714286$ → 0.929"
   ]
  },
  {
   "cell_type": "markdown",
   "id": "0b205501-2b89-4836-bd6f-2494d91212ce",
   "metadata": {},
   "source": [
    "$\\frac{5}{7} = 0.7142857143$ → 0.714"
   ]
  },
  {
   "cell_type": "markdown",
   "id": "cca18022-c447-457f-8990-7b9b1bcfed15",
   "metadata": {},
   "source": [
    "$\\frac{13}{14}-\\frac{5}{7} = 0.9285714286−0.7142857143=0.2142857143$ → 0.929 − 0.714=0.215"
   ]
  },
  {
   "cell_type": "markdown",
   "id": "9ec92b13-b990-44fb-aae8-b805c23caca3",
   "metadata": {},
   "source": [
    "$2e−5.4=2×2.71828−5.4=5.43656−5.4=0.03656$"
   ]
  },
  {
   "cell_type": "markdown",
   "id": "8c76c481-e1d3-497b-8e9b-1194b81671f5",
   "metadata": {},
   "source": [
    "$2e=2×2.72=5.44\n",
    "5.44−5.4=0.04$"
   ]
  },
  {
   "cell_type": "markdown",
   "id": "bf4bf798-2758-4842-af17-8fa392707272",
   "metadata": {},
   "source": [
    "$\\frac{0.215}{0.04} =5.375$"
   ]
  },
  {
   "cell_type": "markdown",
   "id": "ecfeb0f0-766f-4540-8e2d-7bd474352e6f",
   "metadata": {},
   "source": [
    "$E \n",
    "a\n",
    "​\n",
    " =∣Valor Aproximado−Valor Exacto∣=∣5.375−5.86247∣=0.48747$"
   ]
  },
  {
   "cell_type": "markdown",
   "id": "354b7088-303a-4776-8c75-617f4a93333c",
   "metadata": {},
   "source": [
    "$E_r = \\frac{0.48747}{5.86247} = 0.08319$"
   ]
  },
  {
   "cell_type": "markdown",
   "id": "4dbd6101-d916-4790-ac28-9b26b51e8e15",
   "metadata": {},
   "source": [
    "#### b) $-10\\pi+6e-\\frac{3}{61}$"
   ]
  },
  {
   "cell_type": "markdown",
   "id": "4189f4c2-2e81-4d18-b516-4f73104f69b3",
   "metadata": {},
   "source": [
    "$-10\\pi = -10 \\times 3.1415926536 = -31.4159265360$"
   ]
  },
  {
   "cell_type": "markdown",
   "id": "ef04e79f-2051-4d55-8124-2daba12293d2",
   "metadata": {},
   "source": [
    "$6e = 6 \\times 2.7182818285 = 16.3096909710$"
   ]
  },
  {
   "cell_type": "markdown",
   "id": "d922fcb7-7d16-427e-a8dd-a3612c172ade",
   "metadata": {},
   "source": [
    "$\\frac{3}{61} = 0.0491803279$"
   ]
  },
  {
   "cell_type": "markdown",
   "id": "12763216-57ee-40e3-b750-bbf4655a56b0",
   "metadata": {},
   "source": [
    "$-31.4159265360 + 16.3096909710 - 0.0491803279 = -15.1554158929$"
   ]
  },
  {
   "cell_type": "markdown",
   "id": "5efa0e4b-a73c-48f1-89cc-bd4617e45926",
   "metadata": {},
   "source": [
    "$-15.2$"
   ]
  },
  {
   "cell_type": "markdown",
   "id": "979f25af-bd6a-4ee8-88b4-905439ff72d7",
   "metadata": {},
   "source": [
    "$|-15.1554158929 - (-15.2)| = 0.0445841071$"
   ]
  },
  {
   "cell_type": "markdown",
   "id": "4478e259-5324-40af-b304-49de5af59031",
   "metadata": {},
   "source": [
    "$\\frac{0.0445841071}{15.1554158929} = 2.9414620453 \\times 10^{-3}$"
   ]
  },
  {
   "cell_type": "markdown",
   "id": "a98b1a1e-295c-4f4e-b0e1-1d7cb888bf71",
   "metadata": {},
   "source": [
    "c) $(\\frac{2}{9})(\\frac{9}{11})$"
   ]
  },
  {
   "cell_type": "markdown",
   "id": "36b72bee-748f-4814-8245-71fc5fd4eedf",
   "metadata": {},
   "source": [
    "$\\frac{2}{9} = 0.2222222222$"
   ]
  },
  {
   "cell_type": "markdown",
   "id": "af58c821-d450-4204-ab35-3a2731bf8c14",
   "metadata": {},
   "source": [
    "$\\frac{9}{11} = 0.8181818182$"
   ]
  },
  {
   "cell_type": "markdown",
   "id": "f1065122-c0b5-4de8-87ec-db1265acabf2",
   "metadata": {},
   "source": [
    "$0.2222222222 \\times 0.8181818182 = 0.1818181818$"
   ]
  },
  {
   "cell_type": "markdown",
   "id": "cd9b5d22-7986-493e-8a4f-6ea24a8206c5",
   "metadata": {},
   "source": [
    "$0.182$"
   ]
  },
  {
   "cell_type": "markdown",
   "id": "f47cbac7-e5a4-4366-a85f-4271d1ef3356",
   "metadata": {},
   "source": [
    "$|0.1818181818 - 0.182| = 0.0001818182$"
   ]
  },
  {
   "cell_type": "markdown",
   "id": "64e981bf-96db-4c95-a744-4055df1b8ea5",
   "metadata": {},
   "source": [
    "$\\frac{0.0001818182}{0.1818181818} = 9.9999999991 \\times 10^{-4}$"
   ]
  },
  {
   "cell_type": "markdown",
   "id": "3862f316-5cec-4dbb-8aad-df8cddadcad0",
   "metadata": {},
   "source": [
    "d) $\\frac{\\sqrt{13}+\\sqrt{11}}{\\sqrt{13}-\\sqrt{11}}$"
   ]
  },
  {
   "cell_type": "markdown",
   "id": "7e952bff-8c99-40f5-8f3e-c4e2a3fbd04e",
   "metadata": {},
   "source": [
    "$\\sqrt{13} = 3.6055512755$"
   ]
  },
  {
   "cell_type": "markdown",
   "id": "d7668429-8618-410f-8acf-28c306fc91b5",
   "metadata": {},
   "source": [
    "$\\sqrt{11} = 3.3166247904$"
   ]
  },
  {
   "cell_type": "markdown",
   "id": "a5dc0d36-1e75-46f2-b23e-5ab440ff1d60",
   "metadata": {},
   "source": [
    "$3.6055512755 + 3.3166247904 = 6.9221760659$"
   ]
  },
  {
   "cell_type": "markdown",
   "id": "bd8766e4-6173-45f1-8125-4a24acc8f3cd",
   "metadata": {},
   "source": [
    "$3.6055512755 - 3.3166247904 = 0.2889264851$"
   ]
  },
  {
   "cell_type": "markdown",
   "id": "de9adb0a-650d-4090-8612-ceaf21c72a45",
   "metadata": {},
   "source": [
    "$\\frac{6.9221760659}{0.2889264851} = 23.9600672727$"
   ]
  },
  {
   "cell_type": "markdown",
   "id": "35bbacd2-69e9-46ca-9ce7-488db843e110",
   "metadata": {},
   "source": [
    "$24.0$"
   ]
  },
  {
   "cell_type": "markdown",
   "id": "cbb5f731-e74e-4d2e-bc77-6034accfc54a",
   "metadata": {},
   "source": [
    "$|23.9600672727 - 24.0| = 0.0399327273$"
   ]
  },
  {
   "cell_type": "markdown",
   "id": "6895ad7d-5287-4a72-98e1-4375a60d6a92",
   "metadata": {},
   "source": [
    "$\\frac{0.0399327273}{23.9600672727} = 1.6668306113 \\times 10^{-3}$"
   ]
  },
  {
   "cell_type": "markdown",
   "id": "acf52148-5911-433f-9b01-bbe87b79992e",
   "metadata": {},
   "source": [
    "#### 5.Los primeros tres términos diferentes a cero de la serie de Maclaurin para la función arcotangente son:\n",
    "$x-(\\frac{1}{3}) x^{3} + (\\frac{1}{5}) x^{5}$ \n",
    "Calcule los errores absoluto y relativo en las siguientes aproximaciones de $\\pi$ mediante el polinomio en lugar del arcotangente:"
   ]
  },
  {
   "cell_type": "markdown",
   "id": "a22e88ad-b156-4ad6-82fe-86dee437c421",
   "metadata": {},
   "source": [
    "a. $4[arctan(\\frac{1}{2})+arctan(\\frac{1}{3})]$"
   ]
  },
  {
   "cell_type": "markdown",
   "id": "9ecb020f-22fc-40f2-9a0d-cf3bb9d705c5",
   "metadata": {},
   "source": [
    "$\\arctan(x) = x - \\frac{1}{3}x^3 + \\frac{1}{5}x^5 + \\dots$"
   ]
  },
  {
   "cell_type": "markdown",
   "id": "283f9458-2257-43cb-bbbc-e53fcc6f36d5",
   "metadata": {},
   "source": [
    "$\\arctan\\left( \\frac{1}{2} \\right) \\approx \\frac{1}{2} - \\frac{1}{3} \\left( \\frac{1}{2} \\right)^3 + \\frac{1}{5} \\left( \\frac{1}{2} \\right)^5$"
   ]
  },
  {
   "cell_type": "markdown",
   "id": "ef53f69d-9f7b-48ca-a825-674aa7aae959",
   "metadata": {},
   "source": [
    "$\\arctan\\left( \\frac{1}{2} \\right) \\approx 0.5000000000 - 0.0416666667 + 0.0062500000 = 0.4645833333$"
   ]
  },
  {
   "cell_type": "markdown",
   "id": "08811fa5-e92b-40e4-9005-65e218a73c16",
   "metadata": {},
   "source": [
    "$\\arctan\\left( \\frac{1}{3} \\right) \\approx \\frac{1}{3} - \\frac{1}{3} \\left( \\frac{1}{3} \\right)^3 + \\frac{1}{5} \\left( \\frac{1}{3} \\right)^5$"
   ]
  },
  {
   "cell_type": "markdown",
   "id": "8d201b0f-33f7-42fd-a99d-92b842e01184",
   "metadata": {},
   "source": [
    "$\\arctan\\left( \\frac{1}{3} \\right) \\approx 0.3333333333 - 0.0123456790 + 0.0008230453 = 0.3218106996$"
   ]
  },
  {
   "cell_type": "markdown",
   "id": "fa7086f2-5329-4ded-8e6a-4cd86e7665d9",
   "metadata": {},
   "source": [
    "$\\arctan\\left( \\frac{1}{2} \\right) + \\arctan\\left( \\frac{1}{3} \\right) = 0.4645833333 + 0.3218106996 = 0.7863940329$"
   ]
  },
  {
   "cell_type": "markdown",
   "id": "adfa677a-0aed-49fc-94fc-a65ff46e8d34",
   "metadata": {},
   "source": [
    "$4 \\times 0.7863940329 = 3.1455761316$"
   ]
  },
  {
   "cell_type": "markdown",
   "id": "03f241ca-731a-4706-a08c-f9522034a01f",
   "metadata": {},
   "source": [
    "ERROR:"
   ]
  },
  {
   "cell_type": "markdown",
   "id": "f72bee17-1b97-42a6-816f-13c363867223",
   "metadata": {},
   "source": [
    "$\\pi = 3.1415926536$"
   ]
  },
  {
   "cell_type": "markdown",
   "id": "685c8999-cc49-4333-a1f5-1989a3f4dcb7",
   "metadata": {},
   "source": [
    "$|3.1455761316 - 3.1415926536| = 0.0039834780$"
   ]
  },
  {
   "cell_type": "markdown",
   "id": "3d868d93-6aed-4480-827d-23215706579e",
   "metadata": {},
   "source": [
    "$\\frac{0.0039834780}{3.1415926536} = 1.2681963481 \\times 10^{-3}$"
   ]
  },
  {
   "cell_type": "markdown",
   "id": "e91f5c00-e1d6-4844-846e-56d45e038cdb",
   "metadata": {},
   "source": [
    "b. $16 acrtan(\\frac{1}{5}) - 4 arctan(\\frac{1}{239})$"
   ]
  },
  {
   "cell_type": "markdown",
   "id": "3ee89fb3-5991-4593-8d80-bbe94fc46288",
   "metadata": {},
   "source": [
    "$\\arctan\\left( \\frac{1}{5} \\right) \\approx \\frac{1}{5} - \\frac{1}{3} \\left( \\frac{1}{5} \\right)^3 + \\frac{1}{5} \\left( \\frac{1}{5} \\right)^5$"
   ]
  },
  {
   "cell_type": "markdown",
   "id": "3eac745c-bb28-412c-903f-c01d67e16933",
   "metadata": {},
   "source": [
    "$\\arctan\\left( \\frac{1}{5} \\right) \\approx 0.2000000000 - 0.0013333333 + 0.0000320000 = 0.1986986667$"
   ]
  },
  {
   "cell_type": "markdown",
   "id": "9636c0b8-568c-48ce-8c19-f6fdbcd20146",
   "metadata": {},
   "source": [
    "$\\arctan\\left( \\frac{1}{239} \\right) \\approx \\frac{1}{239} - \\frac{1}{3} \\left( \\frac{1}{239} \\right)^3 + \\frac{1}{5} \\left( \\frac{1}{239} \\right)^5$"
   ]
  },
  {
   "cell_type": "markdown",
   "id": "c7648eb4-a5e8-4fe3-b32a-fdbd88844c89",
   "metadata": {},
   "source": [
    "$\\arctan\\left( \\frac{1}{239} \\right) \\approx 0.0041841004 - 1.0310096 \\times 10^{-7} + 2.4373424 \\times 10^{-12} = 0.0041840003$"
   ]
  },
  {
   "cell_type": "markdown",
   "id": "788d6593-81f3-48d1-a1a6-13f95d581cfe",
   "metadata": {},
   "source": [
    "$16 \\times 0.1986986667 = 3.1791786667$"
   ]
  },
  {
   "cell_type": "markdown",
   "id": "2089983c-359b-47b8-8984-8d726c923fce",
   "metadata": {},
   "source": [
    "$4 \\times 0.0041840003 = 0.0167360012$"
   ]
  },
  {
   "cell_type": "markdown",
   "id": "49f2c6d6-c46e-429b-8869-a4db594580fe",
   "metadata": {},
   "source": [
    "$3.1791786667 - 0.0167360012 = 3.1624426655$"
   ]
  },
  {
   "cell_type": "markdown",
   "id": "6d3311bd-2ce3-49f2-a66c-5c1082006d4e",
   "metadata": {},
   "source": [
    "ERROR:"
   ]
  },
  {
   "cell_type": "markdown",
   "id": "3647c202-ea5a-4ad8-bce2-1ce160cb4117",
   "metadata": {},
   "source": [
    "$|3.1624426655 - 3.1415926536| = 0.0208500119$"
   ]
  },
  {
   "cell_type": "markdown",
   "id": "1ce55814-fa0f-4dd1-95bc-e808307a9d24",
   "metadata": {},
   "source": [
    "$\\frac{0.0208500119}{3.1415926536} = 6.6372267515 \\times 10^{-3}$"
   ]
  },
  {
   "cell_type": "markdown",
   "id": "51eb264f-ad20-4cce-bd34-fdef338fff32",
   "metadata": {},
   "source": [
    "#### 6. El número $e$ se puede definir por medio de $\\displaystyle\\sum_{n=0}^\\infty (\\frac{1}{n!})$  , donde $ 𝑛!n n(𝑛 − 1) ⋅⋅⋅ 2 $⋅ 1 pa$n 𝑛 $≠  $ y\n",
    "0!$ = 1. Calcule los errores absoluto y relativo en la siguiente aproximació $e$ de "
   ]
  },
  {
   "cell_type": "markdown",
   "id": "98632553-866a-4dce-9d94-d947a9ddc27e",
   "metadata": {},
   "source": [
    "a. $\\displaystyle\\sum_{n=0}^{5} (\\frac{1}{n!})$"
   ]
  },
  {
   "cell_type": "markdown",
   "id": "6a63e4c9-132a-4280-b3a9-119cdf289f21",
   "metadata": {},
   "source": [
    "$e = \\sum_{n=0}^{\\infty} \\frac{1}{n!}$"
   ]
  },
  {
   "cell_type": "markdown",
   "id": "47c60b46-523a-4d8e-b332-db0ca0cc0a6d",
   "metadata": {},
   "source": [
    "$\\frac{1}{0!} = 1$"
   ]
  },
  {
   "cell_type": "markdown",
   "id": "217b9b90-7b4a-42a3-a874-e08a263cda36",
   "metadata": {},
   "source": [
    "$\\frac{1}{1!} = 1$"
   ]
  },
  {
   "cell_type": "markdown",
   "id": "78823eb8-494f-4178-a73f-8dc0c538dc80",
   "metadata": {},
   "source": [
    "$\\frac{1}{2!} = 0.5$"
   ]
  },
  {
   "cell_type": "markdown",
   "id": "29266276-8f6d-4004-a63b-4864d4034fa1",
   "metadata": {},
   "source": [
    "$\\frac{1}{3!} = 0.1666666667$"
   ]
  },
  {
   "cell_type": "markdown",
   "id": "3f670d60-97f2-4d8e-ab25-163bb7f83cb1",
   "metadata": {},
   "source": [
    "$1 + 1 + 0.5 + 0.1666666667 + 0.0416666667 + 0.0083333333 = 2.7183333333$"
   ]
  },
  {
   "cell_type": "markdown",
   "id": "63f3c9e6-3881-4213-84b8-79b46ac533e8",
   "metadata": {},
   "source": [
    "$e = 2.7182818285$"
   ]
  },
  {
   "cell_type": "markdown",
   "id": "89e794c6-fa30-4d7e-ba32-10b976cb5ac0",
   "metadata": {},
   "source": [
    "$|2.7183333333 - 2.7182818285| = 0.0000515048$"
   ]
  },
  {
   "cell_type": "markdown",
   "id": "397eeee4-c6c1-457b-8c45-785af50994f2",
   "metadata": {},
   "source": [
    "$\\frac{0.0000515048}{2.7182818285} = 1.8950519840 \\times 10^{-5}$"
   ]
  },
  {
   "cell_type": "markdown",
   "id": "0d07f6bb-c361-4d2f-8eaf-bcc29208e0d5",
   "metadata": {},
   "source": [
    "b. $\\displaystyle\\sum_{n=0}^{10} (\\frac{1}{n!})$"
   ]
  },
  {
   "cell_type": "markdown",
   "id": "2977a3e5-e019-44cf-bc05-92213188d9ee",
   "metadata": {},
   "source": [
    "$\\frac{1}{6!} = 0.0013888889$"
   ]
  },
  {
   "cell_type": "markdown",
   "id": "7fe06271-7f19-4055-83bc-a00a4ffd0df0",
   "metadata": {},
   "source": [
    "$\\frac{1}{7!} = 0.0001984127$"
   ]
  },
  {
   "cell_type": "markdown",
   "id": "60c89df0-03db-4b2e-b781-f03866cc355a",
   "metadata": {},
   "source": [
    "$\\frac{1}{8!} = 0.0000248016$"
   ]
  },
  {
   "cell_type": "markdown",
   "id": "1009164d-2fdf-4262-8571-123d08eb3169",
   "metadata": {},
   "source": [
    "$\\frac{1}{9!} = 0.0000027557$"
   ]
  },
  {
   "cell_type": "markdown",
   "id": "f952808c-209d-4bac-880b-d338b2e4cf89",
   "metadata": {},
   "source": [
    "$\\frac{1}{10!} = 0.0000002756$"
   ]
  },
  {
   "cell_type": "markdown",
   "id": "2b536803-8b9e-47a5-809d-ec6911b925e4",
   "metadata": {},
   "source": [
    "$2.7183333333 + 0.0013888889 + 0.0001984127 + 0.0000248016 + 0.0000027557 + 0.0000002756 = 2.7182818011$"
   ]
  },
  {
   "cell_type": "markdown",
   "id": "9fe29416-820f-4f9b-9c01-442da6ef5e66",
   "metadata": {},
   "source": [
    "$|2.7182818011 - 2.7182818285| = 0.0000000274$"
   ]
  },
  {
   "cell_type": "markdown",
   "id": "d49c40e4-b4b3-4ce9-a88c-23b41914aebc",
   "metadata": {},
   "source": [
    "$\\frac{0.0000000274}{2.7182818285} = 1.0073743100 \\times 10^{-8}$"
   ]
  },
  {
   "cell_type": "markdown",
   "id": "8c6f3ec7-02d0-418a-a366-9bacdf9dde15",
   "metadata": {},
   "source": [
    "#### 7. Suponga que dos puntos ($x_0$,$y_0$ se encuentran en línea racta con $y_1 \\neq y_0$. Existen dos fórmulas para encontrar la intersección x de la línea:\n",
    "$x = \\frac{x_0y_1-x_1y_0}{y_1-y_0}$ y $x=x_0-\\frac{(x_1-x_0)y_0}{y_1-y_0}$"
   ]
  },
  {
   "cell_type": "markdown",
   "id": "a7f8da3c-e1d3-40fa-bfc7-b4ece27151b4",
   "metadata": {},
   "source": [
    "a. Use los datos $(x_0,y_0)$=(1.31,3.24) y $(x_1,y_1)$ = (1.93,5.76) y la aritmética de redondeo de tres dígitos para calcular la intersección con x de ambas manera ¿Cuál método es mejor y por qué?"
   ]
  },
  {
   "cell_type": "markdown",
   "id": "84cb9400-022a-441e-b2a1-7f9cac7b86a5",
   "metadata": {},
   "source": [
    "$(x_0, y_0) = (1.31, 3.24) \\quad \\text{y} \\quad (x_1, y_1) = (1.93, 5.76)$"
   ]
  },
  {
   "cell_type": "markdown",
   "id": "594a5604-fefc-40d5-aa0b-0c32d12effc9",
   "metadata": {},
   "source": [
    "$x = \\frac{x_0 y_1 - x_1 y_0}{y_1 - y_0} \\quad \\text{y} \\quad x = x_0 - \\frac{(x_1 - x_0) y_0}{y_1 - y_0}$"
   ]
  },
  {
   "cell_type": "markdown",
   "id": "0ff3f287-b32a-47bb-b691-b40e69332406",
   "metadata": {},
   "source": [
    "$x = \\frac{x_0 y_1 - x_1 y_0}{y_1 - y_0}$"
   ]
  },
  {
   "cell_type": "markdown",
   "id": "74a868db-deee-4647-b439-5bcd467ed60c",
   "metadata": {},
   "source": [
    "$x_0 y_1 = 1.31 \\times 5.76 = 7.5456 \\quad \\text{(redondeado: 7.55)}$"
   ]
  },
  {
   "cell_type": "markdown",
   "id": "02927a6b-aca4-4a81-9e31-a274e7912ce4",
   "metadata": {},
   "source": [
    "$x_1 y_0 = 1.93 \\times 3.24 = 6.2532 \\quad \\text{(redondeado: 6.25)}$"
   ]
  },
  {
   "cell_type": "markdown",
   "id": "8d53e0af-f47a-49ec-80b3-e4e45a6e1d53",
   "metadata": {},
   "source": [
    "$x_0 y_1 - x_1 y_0 = 7.55 - 6.25 = 1.30$"
   ]
  },
  {
   "cell_type": "markdown",
   "id": "3c674a91-f462-4d47-8588-4123864bbeba",
   "metadata": {},
   "source": [
    "$y_1 - y_0 = 5.76 - 3.24 = 2.52$"
   ]
  },
  {
   "cell_type": "markdown",
   "id": "4a9759c4-c2cc-4cec-ba5f-4b5d7edb7f82",
   "metadata": {},
   "source": [
    "$x = \\frac{1.30}{2.52} = 0.5159 \\quad \\text{(redondeado: 0.516)}$"
   ]
  },
  {
   "cell_type": "markdown",
   "id": "7b3a0040-c5a6-44a5-bad2-1af28f8a1817",
   "metadata": {},
   "source": [
    "Segunda Fórmula:"
   ]
  },
  {
   "cell_type": "markdown",
   "id": "874db87f-73e5-4bcb-8fc2-c1485aeb0c59",
   "metadata": {},
   "source": [
    "$x = x_0 - \\frac{(x_1 - x_0) y_0}{y_1 - y_0}$"
   ]
  },
  {
   "cell_type": "markdown",
   "id": "4f8d1c49-6097-4885-bbda-2df10d0871bd",
   "metadata": {},
   "source": [
    "$x_1 - x_0 = 1.93 - 1.31 = 0.62$"
   ]
  },
  {
   "cell_type": "markdown",
   "id": "78a4a7ba-c344-49f2-8f59-0e97d3bffcbc",
   "metadata": {},
   "source": [
    "$0.62 \\times 3.24 = 2.0088 \\quad \\text{(redondeado: 2.01)}$"
   ]
  },
  {
   "cell_type": "markdown",
   "id": "1dbb46a0-d83a-4526-8c11-9239a95a8de4",
   "metadata": {},
   "source": [
    "$\\frac{2.01}{2.52} = 0.7976 \\quad \\text{(redondeado: 0.798)}$"
   ]
  },
  {
   "cell_type": "markdown",
   "id": "6668803b-32cc-4943-8e46-616ccff8c813",
   "metadata": {},
   "source": [
    "$x = 1.31 - 0.798 = 0.512$"
   ]
  },
  {
   "cell_type": "markdown",
   "id": "5c556e4b-6d4a-4e81-b50b-49dc055c3345",
   "metadata": {},
   "source": [
    "### ¿Cuál método es mejor y por qué?\n",
    "\n",
    "- La primera fórmula es más directa y tiende a ser más precisa cuando los valores de \\(x_0\\) y \\(x_1\\) son pequeños, ya que evita multiplicaciones adicionales con \\(y_0\\).\n",
    "- La segunda fórmula puede introducir más error de redondeo porque involucra más operaciones intermedias.\n",
    "\n",
    "Por lo tanto, en este caso, la primera fórmula es preferible porque es más sencilla y menos propensa a errores acumulativos en los pasos de cálculo."
   ]
  }
 ],
 "metadata": {
  "kernelspec": {
   "display_name": "Python 3 (ipykernel)",
   "language": "python",
   "name": "python3"
  },
  "language_info": {
   "codemirror_mode": {
    "name": "ipython",
    "version": 3
   },
   "file_extension": ".py",
   "mimetype": "text/x-python",
   "name": "python",
   "nbconvert_exporter": "python",
   "pygments_lexer": "ipython3",
   "version": "3.12.3"
  }
 },
 "nbformat": 4,
 "nbformat_minor": 5
}
