{
 "cells": [
  {
   "cell_type": "markdown",
   "metadata": {},
   "source": [
    "# Escuela Politécnica Nacional\n",
    "## Facultad de Ingeniería en Sistemas\n",
    "## Materia: Métodos Numéricos\n",
    "## Nombre: Daniel Ismael Flores Espín"
   ]
  },
  {
   "cell_type": "markdown",
   "metadata": {},
   "source": [
    "1. Realice las siguientes multiplicaciones matriz-matriz:\n",
    "\n",
    "a. $$\\begin{bmatrix}\n",
    "2 & -3\\\\\n",
    "3 & -1\\\\\n",
    "\\end{bmatrix}$$\n",
    "$$\\begin{bmatrix}\n",
    "1 & 5\\\\\n",
    "2 & 0\\\\\n",
    "\\end{bmatrix}$$ "
   ]
  },
  {
   "cell_type": "code",
   "execution_count": 5,
   "metadata": {},
   "outputs": [],
   "source": [
    "import numpy as np\n",
    "\n",
    "def mult_mats(A, B):\n",
    "    filA, colA = len(A), len(A[0])\n",
    "    filB, colB = len(B), len(B[0])\n",
    "    res = [[0]*colB for _ in range(filA)]\n",
    "    for i in range(filA):\n",
    "        for j in range(colB):\n",
    "            for k in range(colA):\n",
    "                res[i][j] += A[i][k]*B[k][j]\n",
    "    # Convertir cada elemento a float\n",
    "    for i in range(filA):\n",
    "        for j in range(colB):\n",
    "            res[i][j] = float(res[i][j])\n",
    "    return res"
   ]
  },
  {
   "cell_type": "code",
   "execution_count": 15,
   "metadata": {},
   "outputs": [
    {
     "data": {
      "text/plain": [
       "[[-4.0, 10.0], [1.0, 15.0]]"
      ]
     },
     "execution_count": 15,
     "metadata": {},
     "output_type": "execute_result"
    }
   ],
   "source": [
    "A = np.array([\n",
    "    [2, -3],\n",
    "    [3, -1]\n",
    "], dtype=float)\n",
    "B = np.array([\n",
    "    [1, 5],\n",
    "    [2, 0]\n",
    "], dtype=float)\n",
    "mult_mats(A, B)"
   ]
  },
  {
   "cell_type": "markdown",
   "metadata": {},
   "source": [
    "b. $$\\begin{bmatrix}\n",
    "2 & -3\\\\\n",
    "3 & -1\\\\\n",
    "\\end{bmatrix}$$\n",
    "$$\\begin{bmatrix}\n",
    "1 & 5 & -4\\\\\n",
    "-3 & 2 & 0\\\\\n",
    "\\end{bmatrix}$$ "
   ]
  },
  {
   "cell_type": "code",
   "execution_count": 18,
   "metadata": {},
   "outputs": [
    {
     "data": {
      "text/plain": [
       "[[11.0, 4.0, -8.0], [6.0, 13.0, -12.0]]"
      ]
     },
     "execution_count": 18,
     "metadata": {},
     "output_type": "execute_result"
    }
   ],
   "source": [
    "A = np.array([\n",
    "    [2, -3],\n",
    "    [3, -1]\n",
    "], dtype=float)\n",
    "B = np.array([\n",
    "    [1, 5, -4],\n",
    "    [-3, 2, 0]\n",
    "], dtype=float)\n",
    "mult_mats(A, B)"
   ]
  },
  {
   "cell_type": "markdown",
   "metadata": {},
   "source": [
    "c. $$\\begin{bmatrix}\n",
    "2 & -3 & 1\\\\\n",
    "4 & 3 & 0\\\\\n",
    "5 & 2 & -4\\\\\n",
    "\\end{bmatrix}$$\n",
    "$$\\begin{bmatrix}\n",
    "0 & 1 & -2\\\\\n",
    "1 & 0 & -1\\\\\n",
    "2 & 3 & -2\\\\\n",
    "\\end{bmatrix}$$ "
   ]
  },
  {
   "cell_type": "code",
   "execution_count": 20,
   "metadata": {},
   "outputs": [
    {
     "data": {
      "text/plain": [
       "[[-1.0, 5.0, -3.0], [3.0, 4.0, -11.0], [-6.0, -7.0, -4.0]]"
      ]
     },
     "execution_count": 20,
     "metadata": {},
     "output_type": "execute_result"
    }
   ],
   "source": [
    "A = np.array([\n",
    "    [2, -3, 1],\n",
    "    [4, 3, 0],\n",
    "    [5, 2, -4]\n",
    "], dtype=float)\n",
    "B = np.array([\n",
    "    [0, 1, -2],\n",
    "    [1, 0, -1],\n",
    "    [2, 3, -2]\n",
    "], dtype=float)\n",
    "mult_mats(A, B)"
   ]
  },
  {
   "cell_type": "markdown",
   "metadata": {},
   "source": [
    "d. $$\\begin{bmatrix}\n",
    "2 & 1 & 2\\\\\n",
    "-2 & 3 & 0\\\\\n",
    "2 & -1 & 3\\\\\n",
    "\\end{bmatrix}$$\n",
    "$$\\begin{bmatrix}\n",
    "1 & -2\\\\\n",
    "-4 & 1\\\\\n",
    "0 & 2\\\\\n",
    "\\end{bmatrix}$$ "
   ]
  },
  {
   "cell_type": "code",
   "execution_count": 23,
   "metadata": {},
   "outputs": [
    {
     "data": {
      "text/plain": [
       "[[-2.0, 1.0], [-14.0, 7.0], [6.0, 1.0]]"
      ]
     },
     "execution_count": 23,
     "metadata": {},
     "output_type": "execute_result"
    }
   ],
   "source": [
    "A = np.array([\n",
    "    [2, 1, 2],\n",
    "    [-2, 3, 0],\n",
    "    [2, -1, 3]\n",
    "], dtype=float)\n",
    "B = np.array([\n",
    "    [1, -2],\n",
    "    [-4, 1],\n",
    "    [0, 2]\n",
    "], dtype=float)\n",
    "mult_mats(A, B)"
   ]
  },
  {
   "cell_type": "markdown",
   "metadata": {},
   "source": [
    "2. Determine cuáles de las siguientes matrices son no singulares y calcule la inversa de esas matrices:\n",
    "\n",
    "a. \n",
    "$$\\begin{bmatrix}\n",
    "4 & 2 & 6\\\\\n",
    "3 & 0 & 7\\\\\n",
    "-2 & -1 & -3\\\\\n",
    "\\end{bmatrix}$$"
   ]
  },
  {
   "cell_type": "code",
   "execution_count": 3,
   "metadata": {},
   "outputs": [],
   "source": [
    "def verificar_inversa(matriz):\n",
    "    try:\n",
    "        det = np.linalg.det(matriz)\n",
    "        print(f\"Determinante: {det}\")\n",
    "        if np.isclose(det, 0):\n",
    "            print(\"La matriz no tiene inversa\")\n",
    "        inversa = np.linalg.inv(matriz)\n",
    "        print(\"La matriz tiene Inversa:\")\n",
    "        return inversa\n",
    "    except np.linalg.LinAlgError:\n",
    "        print(\"\")"
   ]
  },
  {
   "cell_type": "code",
   "execution_count": 6,
   "metadata": {},
   "outputs": [
    {
     "name": "stdout",
     "output_type": "stream",
     "text": [
      "Determinante: 0.0\n",
      "La matriz no tiene inversa\n",
      "\n"
     ]
    }
   ],
   "source": [
    "A = np.array([\n",
    "    [4, 2, 6],\n",
    "    [3, 0, 7],\n",
    "    [-2, -1, -3]\n",
    "], dtype=float)\n",
    "verificar_inversa(A)"
   ]
  },
  {
   "cell_type": "markdown",
   "metadata": {},
   "source": [
    "b. \n",
    "$$\\begin{bmatrix}\n",
    "1 & 2 & 0\\\\\n",
    "2 & 1 & -1\\\\\n",
    "3 & 1 & 1\\\\\n",
    "\\end{bmatrix}$$"
   ]
  },
  {
   "cell_type": "code",
   "execution_count": 7,
   "metadata": {},
   "outputs": [
    {
     "name": "stdout",
     "output_type": "stream",
     "text": [
      "Determinante: -8.000000000000002\n",
      "La matriz tiene Inversa:\n"
     ]
    },
    {
     "data": {
      "text/plain": [
       "array([[-0.25 ,  0.25 ,  0.25 ],\n",
       "       [ 0.625, -0.125, -0.125],\n",
       "       [ 0.125, -0.625,  0.375]])"
      ]
     },
     "execution_count": 7,
     "metadata": {},
     "output_type": "execute_result"
    }
   ],
   "source": [
    "A = np.array([\n",
    "    [1, 2, 0],\n",
    "    [2, 1, -1],\n",
    "    [3, 1, 1]\n",
    "], dtype=float)\n",
    "verificar_inversa(A)"
   ]
  },
  {
   "cell_type": "markdown",
   "metadata": {},
   "source": [
    "c. \n",
    "$$\\begin{bmatrix}\n",
    "1 & 1 & -1 & 1\\\\\n",
    "1 & 2 & -4 & -2\\\\\n",
    "-2 & 1 & 1 & 5\\\\\n",
    "-1 & 0 & -2 & 4\\\\\n",
    "\\end{bmatrix}$$"
   ]
  },
  {
   "cell_type": "code",
   "execution_count": 8,
   "metadata": {},
   "outputs": [
    {
     "name": "stdout",
     "output_type": "stream",
     "text": [
      "Determinante: 64.00000000000003\n",
      "La matriz tiene Inversa:\n"
     ]
    },
    {
     "data": {
      "text/plain": [
       "array([[ 7.50000000e-01, -2.50000000e-01, -2.50000000e-01,\n",
       "         1.11022302e-16],\n",
       "       [ 1.25000000e-01,  2.50000000e-01,  3.75000000e-01,\n",
       "        -3.75000000e-01],\n",
       "       [ 1.25000000e-01, -1.25000000e-01,  1.25000000e-01,\n",
       "        -2.50000000e-01],\n",
       "       [ 2.50000000e-01, -1.25000000e-01, -3.60822483e-17,\n",
       "         1.25000000e-01]])"
      ]
     },
     "execution_count": 8,
     "metadata": {},
     "output_type": "execute_result"
    }
   ],
   "source": [
    "A = np.array([\n",
    "    [1, 1, -1, 1],\n",
    "    [1, 2, -4, -2],\n",
    "    [-2, 1, 1, 5],\n",
    "    [-1, 0, -2, 4],\n",
    "], dtype=float)\n",
    "verificar_inversa(A)"
   ]
  },
  {
   "cell_type": "markdown",
   "metadata": {},
   "source": [
    "d. \n",
    "$$\\begin{bmatrix}\n",
    "4 & 0 & 0 & 0\\\\\n",
    "6 & 7 & 0 & 0\\\\\n",
    "9 & 11 & 1 & 0\\\\\n",
    "5 & 4 & 1 & 1\\\\\n",
    "\\end{bmatrix}$$"
   ]
  },
  {
   "cell_type": "code",
   "execution_count": 11,
   "metadata": {},
   "outputs": [
    {
     "name": "stdout",
     "output_type": "stream",
     "text": [
      "Determinante: 28.00000000000001\n",
      "La matriz tiene Inversa:\n"
     ]
    },
    {
     "data": {
      "text/plain": [
       "array([[ 2.50000000e-01,  6.16790569e-18,  0.00000000e+00,\n",
       "         0.00000000e+00],\n",
       "       [-2.14285714e-01,  1.42857143e-01, -0.00000000e+00,\n",
       "        -0.00000000e+00],\n",
       "       [ 1.07142857e-01, -1.57142857e+00,  1.00000000e+00,\n",
       "        -0.00000000e+00],\n",
       "       [-5.00000000e-01,  1.00000000e+00, -1.00000000e+00,\n",
       "         1.00000000e+00]])"
      ]
     },
     "execution_count": 11,
     "metadata": {},
     "output_type": "execute_result"
    }
   ],
   "source": [
    "A = np.array([\n",
    "    [4, 0, 0, 0],\n",
    "    [6, 7, 0, 0],\n",
    "    [9, 11, 1, 0],\n",
    "    [5, 4, 1, 1],\n",
    "], dtype=float)\n",
    "verificar_inversa(A)"
   ]
  },
  {
   "cell_type": "markdown",
   "metadata": {},
   "source": [
    "3. Resuelva los sistemas lineales 4 x 4 que tienen la misma matriz de coeficientes:\n",
    "\n",
    "$x_1-x_2+2x_3-x_4=6$\n",
    "\n",
    ",$x_1-x_3+x_4=4$\n",
    "\n",
    ",$2x_1+x_2+3x_3-4x_4=-2$\n",
    "\n",
    ",$-x_2+x_3-x_4=5$"
   ]
  },
  {
   "cell_type": "markdown",
   "metadata": {},
   "source": [
    "$x_1-x_2+2x_3-x_4=1$\n",
    "\n",
    ",$x_1-x_3+x_4=1$\n",
    "\n",
    ",$2x_1+x_2+3x_3-4x_4=2$\n",
    "\n",
    ",$-x_2+x_3-x_4=-1$"
   ]
  },
  {
   "cell_type": "code",
   "execution_count": 14,
   "metadata": {},
   "outputs": [
    {
     "name": "stdout",
     "output_type": "stream",
     "text": [
      "Solución sistema: [ 3. -6. -2. -1.]\n"
     ]
    }
   ],
   "source": [
    "def resolver_sistema(Ab):\n",
    "    A = Ab[:, :-1] \n",
    "    b = Ab[:, -1]\n",
    "    try:\n",
    "        solucion = np.linalg.solve(A, b)\n",
    "        return solucion\n",
    "    except np.linalg.LinAlgError as e:\n",
    "        return f\"Error: {e}\"\n",
    "\n",
    "Ab_a = np.array([\n",
    "    [1, -1, 2, -1, 6],\n",
    "    [1, 0, -1, 1, 4],\n",
    "    [2, 1, 3, -4, -2],\n",
    "    [0, -1, 1, -1, 5]\n",
    "], dtype=np.float32)\n",
    "\n",
    "solucion_a = resolver_sistema(Ab_a)\n",
    "print(\"Solución sistema:\", solucion_a)"
   ]
  },
  {
   "cell_type": "code",
   "execution_count": 15,
   "metadata": {},
   "outputs": [
    {
     "name": "stdout",
     "output_type": "stream",
     "text": [
      "Solución sistema: [1. 1. 1. 1.]\n"
     ]
    }
   ],
   "source": [
    "Ab_a = np.array([\n",
    "    [1, -1, 2, -1, 1],\n",
    "    [1, 0, -1, 1, 1],\n",
    "    [2, 1, 3, -4, 2],\n",
    "    [0, -1, 1, -1, -1]\n",
    "], dtype=np.float32)\n",
    "\n",
    "solucion_a = resolver_sistema(Ab_a)\n",
    "print(\"Solución sistema:\", solucion_a)"
   ]
  },
  {
   "cell_type": "markdown",
   "metadata": {},
   "source": [
    "4. Encuentre los valores de A que hacen que la siguiente matriz sea singular.\n",
    "\n",
    "$$\\begin{bmatrix}\n",
    "1 & -1 & \\alpha\\\\\n",
    "2 & 2 & 1\\\\\n",
    "0 & \\alpha & -\\frac{3}{2}\\\\\n",
    "\\end{bmatrix}$$"
   ]
  },
  {
   "cell_type": "code",
   "execution_count": 5,
   "metadata": {},
   "outputs": [
    {
     "name": "stdout",
     "output_type": "stream",
     "text": [
      "El determinante de la matriz es:\n",
      "2*alpha**2 - alpha - 6.0\n",
      "\n",
      "Los valores de alpha que hacen que la matriz sea singular son:\n",
      "[-1.50000000000000, 2.00000000000000]\n"
     ]
    }
   ],
   "source": [
    "import sympy as sp\n",
    "alpha = sp.Symbol('alpha')\n",
    "\n",
    "matriz = sp.Matrix([\n",
    "    [1, -1, alpha],\n",
    "    [2,  2,    1],\n",
    "    [0, alpha, -3/2]\n",
    "])\n",
    "\n",
    "determinante = matriz.det()\n",
    "valores_alpha = sp.solve(determinante, alpha)\n",
    "print(\"El determinante de la matriz es:\")\n",
    "print(determinante)\n",
    "print(\"\\nLos valores de alpha que hacen que la matriz sea singular son:\")\n",
    "print(valores_alpha)\n"
   ]
  },
  {
   "cell_type": "markdown",
   "metadata": {},
   "source": [
    "5. Resuelva los siguientes sistemas lineales:\n",
    "\n",
    "a. \n",
    "$$\\begin{bmatrix}\n",
    "1 & 0 & 0\\\\\n",
    "2 & 1 & 0\\\\\n",
    "-1 & 0 & 1\\\\\n",
    "\\end{bmatrix}$$\n",
    "\n",
    "$$\\begin{bmatrix}\n",
    "2 & 3 & -1\\\\\n",
    "0 & -2 & 1\\\\\n",
    "0 & 0 & 3\\\\\n",
    "\\end{bmatrix}$$\n",
    "\n",
    "$$\\begin{bmatrix}\n",
    "x_1\\\\\n",
    "x_2\\\\\n",
    "x_3\\\\\n",
    "\\end{bmatrix}$$\n",
    "\n",
    "= $$\\begin{bmatrix}\n",
    "2\\\\\n",
    "-1\\\\\n",
    "1\\\\\n",
    "\\end{bmatrix}$$"
   ]
  },
  {
   "cell_type": "code",
   "execution_count": 2,
   "metadata": {},
   "outputs": [
    {
     "name": "stdout",
     "output_type": "stream",
     "text": [
      "Solución del sistema a:\n",
      "[-3.  3.  1.]\n"
     ]
    }
   ],
   "source": [
    "A_a = np.array([[1, 0, 0], [2, 1, 0], [-1, 0, 1]])\n",
    "B_a = np.array([[2, 3, -1], [0, -2, 1], [0, 0, 3]])\n",
    "C_a = np.array([2, -1, 1])\n",
    "\n",
    "AB_a = np.dot(A_a, B_a)  \n",
    "X_a = np.linalg.solve(AB_a, C_a)\n",
    "print(\"Solución del sistema a:\")\n",
    "print(X_a)"
   ]
  },
  {
   "cell_type": "markdown",
   "metadata": {},
   "source": [
    "a. \n",
    "$$\\begin{bmatrix}\n",
    "2 & 0 & 0\\\\\n",
    "-1 & 1 & 0\\\\\n",
    "3 & 2 & -1\\\\\n",
    "\\end{bmatrix}$$\n",
    "\n",
    "$$\\begin{bmatrix}\n",
    "1 & 1 & 1\\\\\n",
    "0 & 1 & 2\\\\\n",
    "0 & 0 & 1\\\\\n",
    "\\end{bmatrix}$$\n",
    "\n",
    "$$\\begin{bmatrix}\n",
    "x_1\\\\\n",
    "x_2\\\\\n",
    "x_3\\\\\n",
    "\\end{bmatrix}$$\n",
    "\n",
    "= $$\\begin{bmatrix}\n",
    "-1\\\\\n",
    "3\\\\\n",
    "0\\\\\n",
    "\\end{bmatrix}$$"
   ]
  },
  {
   "cell_type": "code",
   "execution_count": 3,
   "metadata": {},
   "outputs": [
    {
     "name": "stdout",
     "output_type": "stream",
     "text": [
      "Solución del sistema b:\n",
      "[ 0.5 -4.5  3.5]\n"
     ]
    }
   ],
   "source": [
    "A_b = np.array([[2, 0, 0], [-1, 1, 0], [3, 2, -1]])\n",
    "B_b = np.array([[1, 1, 1], [0, 1, 2], [0, 0, 1]])\n",
    "C_b = np.array([-1, 3, 0])\n",
    "\n",
    "AB_b = np.dot(A_b, B_b)\n",
    "X_b = np.linalg.solve(AB_b, C_b)\n",
    "print(\"Solución del sistema b:\")\n",
    "print(X_b)"
   ]
  },
  {
   "cell_type": "markdown",
   "metadata": {},
   "source": [
    "6. Factorice las siguientes matrices en la descomposición LU mediante el algoritmo de factorización LU con $l_ii$ = 1 para todas las $i$.\n",
    "\n",
    "a. \n",
    "$$\\begin{bmatrix}\n",
    "1 & 0 & 0\\\\\n",
    "2 & 1 & 0\\\\\n",
    "-1 & 0 & 1\\\\\n",
    "\\end{bmatrix}$$"
   ]
  },
  {
   "cell_type": "code",
   "execution_count": 13,
   "metadata": {},
   "outputs": [],
   "source": [
    "from src import descomposicion_LU"
   ]
  },
  {
   "cell_type": "code",
   "execution_count": 14,
   "metadata": {},
   "outputs": [
    {
     "name": "stdout",
     "output_type": "stream",
     "text": [
      "[02-03 12:06:57][INFO] \n",
      "[[ 2.  -1.   1. ]\n",
      " [ 0.   4.5  7.5]\n",
      " [ 0.   4.5  3.5]]\n",
      "[02-03 12:06:57][INFO] \n",
      "[[ 2.  -1.   1. ]\n",
      " [ 0.   4.5  7.5]\n",
      " [ 0.   0.  -4. ]]\n",
      "[02-03 12:06:57][INFO] \n",
      "[[ 2.  -1.   1. ]\n",
      " [ 0.   4.5  7.5]\n",
      " [ 0.   0.  -4. ]]\n",
      "Matriz a:\n",
      "L (matriz inferior):\n",
      "[[1.  0.  0. ]\n",
      " [1.5 1.  0. ]\n",
      " [1.5 1.  1. ]]\n",
      "U (matriz superior):\n",
      "[[ 2.  -1.   1. ]\n",
      " [ 0.   4.5  7.5]\n",
      " [ 0.   0.  -4. ]]\n",
      "--------------------------------------------------\n",
      "[02-03 12:06:57][INFO] \n",
      "[[ 1.012      -2.132       3.104     ]\n",
      " [ 0.         -0.39552569 -0.47374308]\n",
      " [ 0.         -0.47374308 -9.50656917]]\n",
      "[02-03 12:06:57][INFO] \n",
      "[[ 1.012      -2.132       3.104     ]\n",
      " [ 0.         -0.39552569 -0.47374308]\n",
      " [ 0.          0.         -8.93914077]]\n",
      "[02-03 12:06:57][INFO] \n",
      "[[ 1.012      -2.132       3.104     ]\n",
      " [ 0.         -0.39552569 -0.47374308]\n",
      " [ 0.          0.         -8.93914077]]\n",
      "Matriz b:\n",
      "L (matriz inferior):\n",
      "[[ 1.          0.          0.        ]\n",
      " [-2.10671937  1.          0.        ]\n",
      " [ 3.06719368  1.19775553  1.        ]]\n",
      "U (matriz superior):\n",
      "[[ 1.012      -2.132       3.104     ]\n",
      " [ 0.         -0.39552569 -0.47374308]\n",
      " [ 0.          0.         -8.93914077]]\n",
      "--------------------------------------------------\n",
      "[02-03 12:06:57][INFO] \n",
      "[[ 2.   0.   0.   0. ]\n",
      " [ 0.   1.5  0.   0. ]\n",
      " [ 0.  -3.   0.5  0. ]\n",
      " [ 0.  -2.   1.   1. ]]\n",
      "[02-03 12:06:57][INFO] \n",
      "[[2.  0.  0.  0. ]\n",
      " [0.  1.5 0.  0. ]\n",
      " [0.  0.  0.5 0. ]\n",
      " [0.  0.  1.  1. ]]\n",
      "[02-03 12:06:57][INFO] \n",
      "[[2.  0.  0.  0. ]\n",
      " [0.  1.5 0.  0. ]\n",
      " [0.  0.  0.5 0. ]\n",
      " [0.  0.  0.  1. ]]\n",
      "[02-03 12:06:57][INFO] \n",
      "[[2.  0.  0.  0. ]\n",
      " [0.  1.5 0.  0. ]\n",
      " [0.  0.  0.5 0. ]\n",
      " [0.  0.  0.  1. ]]\n",
      "Matriz c:\n",
      "L (matriz inferior):\n",
      "[[ 1.          0.          0.          0.        ]\n",
      " [ 0.5         1.          0.          0.        ]\n",
      " [ 0.         -2.          1.          0.        ]\n",
      " [ 1.         -1.33333333  2.          1.        ]]\n",
      "U (matriz superior):\n",
      "[[2.  0.  0.  0. ]\n",
      " [0.  1.5 0.  0. ]\n",
      " [0.  0.  0.5 0. ]\n",
      " [0.  0.  0.  1. ]]\n",
      "--------------------------------------------------\n",
      "[02-03 12:06:57][INFO] \n",
      "[[  2.1756       4.0231      -2.1732       5.1967    ]\n",
      " [  0.          13.43948042  -4.01866194  10.80699101]\n",
      " [  0.          -3.36150897   0.11220314   2.38862842]\n",
      " [  0.          -4.13860216   6.01685521 -18.54400331]]\n",
      "[02-03 12:06:57][INFO] \n",
      "[[ 2.17560000e+00  4.02310000e+00 -2.17320000e+00  5.19670000e+00]\n",
      " [ 0.00000000e+00  1.34394804e+01 -4.01866194e+00  1.08069910e+01]\n",
      " [ 0.00000000e+00  4.44089210e-16 -8.92952394e-01  5.09169403e+00]\n",
      " [ 0.00000000e+00  0.00000000e+00  4.77933394e+00 -1.52160595e+01]]\n",
      "[02-03 12:06:57][INFO] \n",
      "[[ 2.17560000e+00  4.02310000e+00 -2.17320000e+00  5.19670000e+00]\n",
      " [ 0.00000000e+00  1.34394804e+01 -4.01866194e+00  1.08069910e+01]\n",
      " [ 0.00000000e+00  4.44089210e-16 -8.92952394e-01  5.09169403e+00]\n",
      " [ 0.00000000e+00  0.00000000e+00  0.00000000e+00  1.20361280e+01]]\n",
      "[02-03 12:06:57][INFO] \n",
      "[[ 2.17560000e+00  4.02310000e+00 -2.17320000e+00  5.19670000e+00]\n",
      " [ 0.00000000e+00  1.34394804e+01 -4.01866194e+00  1.08069910e+01]\n",
      " [ 0.00000000e+00  4.44089210e-16 -8.92952394e-01  5.09169403e+00]\n",
      " [ 0.00000000e+00  0.00000000e+00  0.00000000e+00  1.20361280e+01]]\n",
      "Matriz d:\n",
      "L (matriz inferior):\n",
      "[[ 1.          0.          0.          0.        ]\n",
      " [-1.84919103  1.          0.          0.        ]\n",
      " [-0.45964332 -0.25012194  1.          0.        ]\n",
      " [ 2.76866152 -0.30794361 -5.35228302  1.        ]]\n",
      "U (matriz superior):\n",
      "[[ 2.17560000e+00  4.02310000e+00 -2.17320000e+00  5.19670000e+00]\n",
      " [ 0.00000000e+00  1.34394804e+01 -4.01866194e+00  1.08069910e+01]\n",
      " [ 0.00000000e+00  4.44089210e-16 -8.92952394e-01  5.09169403e+00]\n",
      " [ 0.00000000e+00  0.00000000e+00  0.00000000e+00  1.20361280e+01]]\n",
      "--------------------------------------------------\n"
     ]
    }
   ],
   "source": [
    "matrices = {\n",
    "    \"a\": np.array([[2, -1, 1], [3, 3, 9], [3, 3, 5]]),\n",
    "    \"b\": np.array([[1.012, -2.132, 3.104], [-2.132, 4.096, -7.013], [3.104, -7.013, 0.014]]),\n",
    "    \"c\": np.array([[2, 0, 0, 0], [1, 1.5, 0, 0], [0, -3, 0.5, 0], [2, -2, 1, 1]]),\n",
    "    \"d\": np.array([\n",
    "        [2.1756, 4.0231, -2.1732, 5.1967],\n",
    "        [-4.0231, 6.0000, 0, 1.1973],\n",
    "        [-1.0000, -5.2107, 1.1111, 0],\n",
    "        [6.0235, 7.0000, 0, -4.1561]\n",
    "    ])\n",
    "}\n",
    "\n",
    "# Realizar la descomposición LU para cada matriz\n",
    "for key, matrix in matrices.items():\n",
    "    resultado = descomposicion_LU(matrix)\n",
    "    \n",
    "    # Verifica cuántos valores devuelve la función\n",
    "    if len(resultado) == 3:\n",
    "        P, L, U = resultado\n",
    "        print(f\"Matriz {key}:\")\n",
    "        print(\"P (matriz de permutación):\")\n",
    "        print(P)\n",
    "        print(\"L (matriz inferior):\")\n",
    "        print(L)\n",
    "        print(\"U (matriz superior):\")\n",
    "        print(U)\n",
    "    elif len(resultado) == 2:\n",
    "        L, U = resultado\n",
    "        print(f\"Matriz {key}:\")\n",
    "        print(\"L (matriz inferior):\")\n",
    "        print(L)\n",
    "        print(\"U (matriz superior):\")\n",
    "        print(U)\n",
    "    else:\n",
    "        print(f\"La función descomposicion_LU devolvió un formato inesperado para la matriz {key}\")\n",
    "    \n",
    "    print(\"-\" * 50)"
   ]
  },
  {
   "cell_type": "markdown",
   "metadata": {},
   "source": [
    "7. Modifique el algoritmo de eliminación gaussiana de tal forma que se pueda utilizar para resolver un sistema\n",
    "lineal usando la descomposición LU y, a continuación, resuelva los siguientes sistemas lineales.\n",
    "\n",
    "### a)\n",
    "$x_1-x_2+2x_3-x_4=6$\n",
    "\n",
    ",$x_1-x_3+x_4=4$\n",
    "\n",
    ",$2x_1+x_2+3x_3-4x_4=-2$\n",
    "\n",
    ",$-x_2+x_3-x_4=5$\n",
    "\n"
   ]
  },
  {
   "cell_type": "code",
   "execution_count": 18,
   "metadata": {},
   "outputs": [
    {
     "name": "stdout",
     "output_type": "stream",
     "text": [
      "Solución del sistema a:\n",
      "[-0.6  0.6  0.8]\n",
      "--------------------------------------------------\n",
      "Solución del sistema b:\n",
      "[1. 1. 1.]\n",
      "--------------------------------------------------\n",
      "Solución del sistema c:\n",
      "[ 1.5  2.  -3.1]\n",
      "--------------------------------------------------\n",
      "Solución del sistema d:\n",
      "[ 4.5834584   0.64756529 22.5539797   7.01162597]\n",
      "--------------------------------------------------\n"
     ]
    }
   ],
   "source": [
    "import numpy as np\n",
    "from scipy.linalg import lu\n",
    "\n",
    "def resolver_sistema_con_LU(A, b):\n",
    "    \"\"\"\n",
    "    Resuelve un sistema de ecuaciones lineales Ax = b utilizando descomposición LU.\n",
    "    \n",
    "    Parameters:\n",
    "        A (np.array): Matriz de coeficientes.\n",
    "        b (np.array): Vector de términos independientes.\n",
    "    \n",
    "    Returns:\n",
    "        x (np.array): Solución del sistema.\n",
    "    \"\"\"\n",
    "    # Descomposición LU\n",
    "    P, L, U = lu(A)\n",
    "    \n",
    "    # Resolver Ly = Pb\n",
    "    Pb = np.dot(P, b)\n",
    "    y = np.linalg.solve(L, Pb)\n",
    "    \n",
    "    # Resolver Ux = y\n",
    "    x = np.linalg.solve(U, y)\n",
    "    \n",
    "    return x\n",
    "\n",
    "sistemas = {\n",
    "    \"a\": {\n",
    "        \"A\": np.array([[2, -1, 1], [3, 3, 0], [3, 3, 5]]),\n",
    "        \"b\": np.array([-1, 0, 4])\n",
    "    },\n",
    "    \"b\": {\n",
    "        \"A\": np.array([[1.012, -2.132, 3.104], [-2.132, 4.096, -7.013], [3.104, -7.013, 0.014]]),\n",
    "        \"b\": np.array([1.984, -5.049, -3.895])\n",
    "    },\n",
    "    \"c\": {\n",
    "        \"A\": np.array([[2, 0, 0], [1, 1.5, 0], [-3, 0.5, 1]]),\n",
    "        \"b\": np.array([3, 4.5, -6.6])\n",
    "    },\n",
    "    \"d\": {\n",
    "        \"A\": np.array([\n",
    "            [2.1756, 4.0231, -2.1732, 5.1967],\n",
    "            [-4.0231, 6.0000, 0, 1.1973],\n",
    "            [-1.0000, -5.2107, 1.1111, 0],\n",
    "            [6.0235, 7.0000, 0, -4.1561]\n",
    "        ]),\n",
    "        \"b\": np.array([17.102, -6.1593, 3.0004, 0.0])\n",
    "    }\n",
    "}\n",
    "\n",
    "for key, sistema in sistemas.items():\n",
    "    A = sistema[\"A\"]\n",
    "    b = sistema[\"b\"]\n",
    "    x = resolver_sistema_con_LU(A, b)\n",
    "    print(f\"Solución del sistema {key}:\")\n",
    "    print(x)\n",
    "    print(\"-\" * 50)\n"
   ]
  }
 ],
 "metadata": {
  "kernelspec": {
   "display_name": "Python 3",
   "language": "python",
   "name": "python3"
  },
  "language_info": {
   "codemirror_mode": {
    "name": "ipython",
    "version": 3
   },
   "file_extension": ".py",
   "mimetype": "text/x-python",
   "name": "python",
   "nbconvert_exporter": "python",
   "pygments_lexer": "ipython3",
   "version": "3.11.9"
  }
 },
 "nbformat": 4,
 "nbformat_minor": 2
}
