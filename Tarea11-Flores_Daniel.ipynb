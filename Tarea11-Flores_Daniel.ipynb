{
 "cells": [
  {
   "cell_type": "markdown",
   "metadata": {},
   "source": [
    "# Escuela Politécnica Nacional\n",
    "## Facultad de Ingeniería en Sistemas\n",
    "## Materia: Métodos Numéricos\n",
    "## Nombre: Daniel Ismael Flores Espín"
   ]
  },
  {
   "cell_type": "markdown",
   "metadata": {},
   "source": [
    "1. Encuentre las primeras dos iteraciones del método de Jacobi para los siguientes sistemas lineales, por\n",
    "medio de $𝐱^{(𝟎)} = 0$:\n",
    "\n",
    "### a)\n",
    "$3x_1-x_2+x_3=1$,\n",
    "\n",
    "$3x_1+6x_2+2x_3=0$,\n",
    "\n",
    "$3x_1+3x_2+7x_3=4$"
   ]
  },
  {
   "cell_type": "code",
   "execution_count": 2,
   "metadata": {},
   "outputs": [
    {
     "name": "stdout",
     "output_type": "stream",
     "text": [
      "[02-03 18:32:16][INFO] 2025-02-03 18:32:16.888597\n",
      "[02-03 18:32:17][INFO] 2025-02-03 18:32:17.197490\n"
     ]
    }
   ],
   "source": [
    "from src import gauss_jacobi\n",
    "import numpy as np\n",
    "import sympy as sp"
   ]
  },
  {
   "cell_type": "code",
   "execution_count": 19,
   "metadata": {},
   "outputs": [
    {
     "name": "stdout",
     "output_type": "stream",
     "text": [
      "Iteración 1: [0.33333333 0.         0.57142857]\n",
      "Iteración 2: [ 0.14285714 -0.35714286  0.42857143]\n",
      "Iteración 3: [ 0.07142857 -0.21428571  0.66326531]\n",
      "Iteración 4: [ 0.04081633 -0.25680272  0.63265306]\n",
      "Iteración 5: [ 0.03684807 -0.23129252  0.66399417]\n",
      "Iteración 6: [ 0.03490444 -0.23975543  0.6547619 ]\n",
      "Iteración 7: [ 0.03516089 -0.23570619  0.65922185]\n",
      "Iteración 8: [ 0.03502399 -0.23732106  0.65737656]\n",
      "Iteración 9: [ 0.03510079 -0.23663751  0.65812732]\n",
      "Iteración 10: [ 0.03507839 -0.23692617  0.65780145]\n",
      "Iteración 11: [ 0.03509079 -0.23680635  0.65793476]\n",
      "Iteración 12: [ 0.0350863  -0.23685698  0.65787809]\n",
      "Iteración 13: [ 0.03508831 -0.23683585  0.65790172]\n",
      "Iteración 14: [ 0.03508748 -0.23684473  0.6578918 ]\n",
      "Iteración 15: [ 0.03508782 -0.23684101  0.65789596]\n"
     ]
    },
    {
     "data": {
      "text/plain": [
       "array([ 0.03508782, -0.23684101,  0.65789596])"
      ]
     },
     "execution_count": 19,
     "metadata": {},
     "output_type": "execute_result"
    }
   ],
   "source": [
    "import numpy as np\n",
    "\n",
    "def jacobi_method(A, b, x0, iterations):\n",
    "    n = len(A)\n",
    "    x = x0.copy()\n",
    "    \n",
    "    for k in range(iterations):\n",
    "        x_new = np.zeros_like(x)\n",
    "        for i in range(n):\n",
    "            sum_Ax = sum(A[i][j] * x[j] for j in range(n) if j != i)\n",
    "            x_new[i] = (b[i] - sum_Ax) / A[i][i]\n",
    "        \n",
    "        x = x_new\n",
    "        print(f\"Iteración {k + 1}: {x}\")\n",
    "    \n",
    "    return x\n",
    "\n",
    "A = np.array([[3, -1, 1],\n",
    "              [3, 6, 2],\n",
    "              [3, 3, 7]], dtype=float)\n",
    "\n",
    "b = np.array([1, 0, 4], dtype=float)\n",
    "x0 = np.zeros(len(b)) \n",
    "iterations = 15\n",
    "\n",
    "jacobi_method(A, b, x0, iterations)\n"
   ]
  },
  {
   "cell_type": "markdown",
   "metadata": {},
   "source": [
    "### b)\n",
    "$10x_1-x_2=9$,\n",
    "\n",
    "$-x_1+10x_2-2x_3=7$,\n",
    "\n",
    "$-2x_2+10x_3=6$"
   ]
  },
  {
   "cell_type": "code",
   "execution_count": 20,
   "metadata": {},
   "outputs": [
    {
     "name": "stdout",
     "output_type": "stream",
     "text": [
      "Iteración 1: [0.9 0.7 0.6]\n",
      "Iteración 2: [0.97 0.91 0.74]\n",
      "Iteración 3: [0.991 0.945 0.782]\n",
      "Iteración 4: [0.9945 0.9555 0.789 ]\n",
      "Iteración 5: [0.99555 0.95725 0.7911 ]\n",
      "Iteración 6: [0.995725 0.957775 0.79145 ]\n",
      "Iteración 7: [0.9957775 0.9578625 0.791555 ]\n",
      "Iteración 8: [0.99578625 0.95788875 0.7915725 ]\n",
      "Iteración 9: [0.99578888 0.95789313 0.79157775]\n",
      "Iteración 10: [0.99578931 0.95789444 0.79157862]\n",
      "Iteración 11: [0.99578944 0.95789466 0.79157889]\n",
      "Iteración 12: [0.99578947 0.95789472 0.79157893]\n",
      "Iteración 13: [0.99578947 0.95789473 0.79157894]\n",
      "Iteración 14: [0.99578947 0.95789474 0.79157895]\n",
      "Iteración 15: [0.99578947 0.95789474 0.79157895]\n"
     ]
    },
    {
     "data": {
      "text/plain": [
       "array([0.99578947, 0.95789474, 0.79157895])"
      ]
     },
     "execution_count": 20,
     "metadata": {},
     "output_type": "execute_result"
    }
   ],
   "source": [
    "A = np.array([[10, -1, 0],\n",
    "              [-1, 10, -2],\n",
    "              [0, -2, 10]], dtype=float)\n",
    "\n",
    "b = np.array([9, 7, 6], dtype=float)\n",
    "x0 = np.zeros(len(b)) \n",
    "iterations = 15\n",
    "\n",
    "jacobi_method(A, b, x0, iterations)"
   ]
  },
  {
   "cell_type": "markdown",
   "metadata": {},
   "source": [
    "### c)\n",
    "$10x_1+5x_2=6$,\n",
    "\n",
    "$5x_1+10x_2-4x_3=25$,\n",
    "\n",
    "$-4x_2+8x_3-x_4=-11$\n",
    "\n",
    "$-x_3+5x_4=-11$"
   ]
  },
  {
   "cell_type": "code",
   "execution_count": 22,
   "metadata": {},
   "outputs": [
    {
     "name": "stdout",
     "output_type": "stream",
     "text": [
      "Iteración 1: [ 0.6    2.5   -1.375 -2.2  ]\n",
      "Iteración 2: [-0.65   1.65  -0.4   -2.475]\n",
      "Iteración 3: [-0.225     2.665    -0.859375 -2.28    ]\n",
      "Iteración 4: [-0.7325    2.26875  -0.3275   -2.371875]\n",
      "Iteración 5: [-0.534375    2.73525    -0.53710938 -2.2655    ]\n",
      "Iteración 6: [-0.767625    2.55234375 -0.2905625  -2.30742188]\n",
      "Iteración 7: [-0.67617187  2.7675875  -0.38725586 -2.2581125 ]\n",
      "Iteración 8: [-0.78379375  2.68318359 -0.27347031 -2.27745117]\n",
      "Iteración 9: [-0.7415918   2.78250875 -0.3180896  -2.25469406]\n",
      "Iteración 10: [-0.79125437  2.74356006 -0.26558238 -2.26361792]\n",
      "Iteración 11: [-0.77178003  2.78939423 -0.28617221 -2.25311648]\n",
      "Iteración 12: [-0.79469712  2.77142113 -0.26194244 -2.25723444]\n",
      "Iteración 13: [-0.78571057  2.79257158 -0.27144374 -2.25238849]\n",
      "Iteración 14: [-0.79628579  2.78427779 -0.26026277 -2.25428875]\n",
      "Iteración 15: [-0.79213889  2.79403779 -0.2646472  -2.25205255]\n"
     ]
    },
    {
     "data": {
      "text/plain": [
       "array([-0.79213889,  2.79403779, -0.2646472 , -2.25205255])"
      ]
     },
     "execution_count": 22,
     "metadata": {},
     "output_type": "execute_result"
    }
   ],
   "source": [
    "A = np.array([[10, 5, 0, 0],\n",
    "              [5, 10, -4, 0],\n",
    "              [0, -4, 8, -1],\n",
    "              [0, 0, -1, 5]], dtype=float)\n",
    "\n",
    "b = np.array([6, 25, -11, -11], dtype=float)\n",
    "x0 = np.zeros(len(b)) \n",
    "iterations = 15\n",
    "\n",
    "jacobi_method(A, b, x0, iterations)"
   ]
  },
  {
   "cell_type": "markdown",
   "metadata": {},
   "source": [
    "### d)\n",
    "$4x_1+x_2+x_3+x_5=6$,\n",
    "\n",
    "$-x_1-3x_2+x_3+x_4=6$,\n",
    "\n",
    "$2x_1+x_2+5x_3-x_4-x_5=6$\n",
    "\n",
    "$-x_1-x_2-x_3+4x_4=6$\n",
    "\n",
    "$2x_2-x_3+x_4+4x_5=6$"
   ]
  },
  {
   "cell_type": "code",
   "execution_count": 24,
   "metadata": {},
   "outputs": [
    {
     "name": "stdout",
     "output_type": "stream",
     "text": [
      "Iteración 1: [ 1.5 -2.   1.2  1.5  1.5]\n",
      "Iteración 2: [ 1.325 -1.6    1.6    1.675  2.425]\n",
      "Iteración 3: [ 0.89375 -1.35     1.81     1.83125  2.28125]\n",
      "Iteración 4: [ 0.8146875  -1.08416667  1.935       1.8384375   2.1696875 ]\n",
      "Iteración 5: [ 0.74486979 -1.01375     1.89258333  1.91638021  2.06622396]\n",
      "Iteración 6: [ 0.76373568 -0.97863542  1.90132292  1.90592578  2.00092578]\n",
      "Iteración 7: [ 0.76909668 -0.98549566  1.87160313  1.92160579  1.98816699]\n",
      "Iteración 8: [ 0.78143139 -0.99196259  1.87141502  1.91380104  1.98024716]\n",
      "Iteración 9: [ 0.7850751  -0.99873844  1.8646296   1.91522095  1.98538479]\n",
      "Iteración 10: [ 0.78718101 -1.00174151  1.8658388   1.91274157  1.98672138]\n",
      "Iteración 11: [ 0.78729533 -1.00286688  1.86536849  1.91281957  1.98914507]\n",
      "Iteración 12: [ 0.78708833 -1.00303576  1.86604817  1.91244923  1.98957067]\n",
      "Iteración 13: [ 0.78685423 -1.00286364  1.8661758   1.91252519  1.98991761]\n",
      "Iteración 14: [ 0.78669256 -1.00271775  1.8663196   1.9125416   1.98984447]\n",
      "Iteración 15: [ 0.78663842 -1.00261045  1.86634374  1.9125736   1.98980337]\n"
     ]
    },
    {
     "data": {
      "text/plain": [
       "array([ 0.78663842, -1.00261045,  1.86634374,  1.9125736 ,  1.98980337])"
      ]
     },
     "execution_count": 24,
     "metadata": {},
     "output_type": "execute_result"
    }
   ],
   "source": [
    "A = np.array([[4, 1, 1, 0, 1],\n",
    "              [-1, -3, 1, 1, 0],\n",
    "              [2, 1, 5, -1, -1],\n",
    "              [-1, -1, -1, 4, 0],\n",
    "              [0, 2, -1, 1, 4]], dtype=float)\n",
    "\n",
    "b = np.array([6, 6, 6, 6, 6], dtype=float)\n",
    "x0 = np.zeros(len(b)) \n",
    "iterations = 15\n",
    "\n",
    "jacobi_method(A, b, x0, iterations)"
   ]
  },
  {
   "cell_type": "markdown",
   "metadata": {},
   "source": [
    "2. Repita el ejercicio 1 usando el método de Gauss-Seidel."
   ]
  },
  {
   "cell_type": "code",
   "execution_count": 26,
   "metadata": {},
   "outputs": [
    {
     "name": "stdout",
     "output_type": "stream",
     "text": [
      "Iteración 1: [ 0.33333333 -0.16666667  0.5       ]\n",
      "Iteración 2: [ 0.11111111 -0.22222222  0.61904762]\n",
      "Iteración 3: [ 0.05291005 -0.23280423  0.64852608]\n",
      "Iteración 4: [ 0.03955656 -0.23595364  0.65559875]\n",
      "Iteración 5: [ 0.0361492  -0.23660752  0.65733928]\n",
      "Iteración 6: [ 0.03535107 -0.23678863  0.65775895]\n",
      "Iteración 7: [ 0.03515081 -0.23682839  0.65786182]\n",
      "Iteración 8: [ 0.03510326 -0.23683891  0.6578867 ]\n",
      "Iteración 9: [ 0.03509146 -0.2368413   0.65789279]\n",
      "Iteración 10: [ 0.03508864 -0.23684191  0.65789426]\n",
      "Iteración 11: [ 0.03508794 -0.23684206  0.65789462]\n",
      "Iteración 12: [ 0.03508777 -0.23684209  0.65789471]\n",
      "Iteración 13: [ 0.03508773 -0.2368421   0.65789473]\n",
      "Iteración 14: [ 0.03508772 -0.2368421   0.65789474]\n",
      "Iteración 15: [ 0.03508772 -0.23684211  0.65789474]\n"
     ]
    },
    {
     "data": {
      "text/plain": [
       "array([ 0.03508772, -0.23684211,  0.65789474])"
      ]
     },
     "execution_count": 26,
     "metadata": {},
     "output_type": "execute_result"
    }
   ],
   "source": [
    "import numpy as np\n",
    "\n",
    "def gauss_seidel_method(A, b, x0, iterations):\n",
    "    n = len(A)\n",
    "    x = x0.copy()\n",
    "    \n",
    "    for k in range(iterations):\n",
    "        for i in range(n):\n",
    "            sum_before = sum(A[i][j] * x[j] for j in range(i))\n",
    "            sum_after = sum(A[i][j] * x[j] for j in range(i + 1, n))\n",
    "            x[i] = (b[i] - sum_before - sum_after) / A[i][i]\n",
    "        \n",
    "        print(f\"Iteración {k + 1}: {x}\")\n",
    "    \n",
    "    return x\n",
    "A = np.array([[3, -1, 1],\n",
    "              [3, 6, 2],\n",
    "              [3, 3, 7]], dtype=float)\n",
    "\n",
    "b = np.array([1, 0, 4], dtype=float)\n",
    "x0 = np.zeros(len(b))\n",
    "iterations = 15\n",
    "\n",
    "gauss_seidel_method(A, b, x0, iterations)"
   ]
  },
  {
   "cell_type": "markdown",
   "metadata": {},
   "source": [
    "### b)"
   ]
  },
  {
   "cell_type": "code",
   "execution_count": 27,
   "metadata": {},
   "outputs": [
    {
     "name": "stdout",
     "output_type": "stream",
     "text": [
      "Iteración 1: [0.9   0.79  0.758]\n",
      "Iteración 2: [0.979  0.9495 0.7899]\n",
      "Iteración 3: [0.99495  0.957475 0.791495]\n",
      "Iteración 4: [0.9957475  0.95787375 0.79157475]\n",
      "Iteración 5: [0.99578738 0.95789369 0.79157874]\n",
      "Iteración 6: [0.99578937 0.95789468 0.79157894]\n",
      "Iteración 7: [0.99578947 0.95789473 0.79157895]\n",
      "Iteración 8: [0.99578947 0.95789474 0.79157895]\n",
      "Iteración 9: [0.99578947 0.95789474 0.79157895]\n",
      "Iteración 10: [0.99578947 0.95789474 0.79157895]\n",
      "Iteración 11: [0.99578947 0.95789474 0.79157895]\n",
      "Iteración 12: [0.99578947 0.95789474 0.79157895]\n",
      "Iteración 13: [0.99578947 0.95789474 0.79157895]\n",
      "Iteración 14: [0.99578947 0.95789474 0.79157895]\n",
      "Iteración 15: [0.99578947 0.95789474 0.79157895]\n"
     ]
    },
    {
     "data": {
      "text/plain": [
       "array([0.99578947, 0.95789474, 0.79157895])"
      ]
     },
     "execution_count": 27,
     "metadata": {},
     "output_type": "execute_result"
    }
   ],
   "source": [
    "A = np.array([[10, -1, 0],\n",
    "              [-1, 10, -2],\n",
    "              [0, -2, 10]], dtype=float)\n",
    "\n",
    "b = np.array([9, 7, 6], dtype=float)\n",
    "x0 = np.zeros(len(b)) \n",
    "iterations = 15\n",
    "\n",
    "gauss_seidel_method(A, b, x0, iterations)"
   ]
  },
  {
   "cell_type": "markdown",
   "metadata": {},
   "source": [
    "### c)"
   ]
  },
  {
   "cell_type": "code",
   "execution_count": 28,
   "metadata": {},
   "outputs": [
    {
     "name": "stdout",
     "output_type": "stream",
     "text": [
      "Iteración 1: [ 0.6    2.2   -0.275 -2.255]\n",
      "Iteración 2: [-0.5       2.64     -0.336875 -2.267375]\n",
      "Iteración 3: [-0.72        2.72525    -0.29579688 -2.25915938]\n",
      "Iteración 4: [-0.762625    2.76299375 -0.27589805 -2.25517961]\n",
      "Iteración 5: [-0.78149687  2.78038922 -0.26670284 -2.25334057]\n",
      "Iteración 6: [-0.79019461  2.78841617 -0.26245949 -2.2524919 ]\n",
      "Iteración 7: [-0.79420808  2.79212025 -0.26050136 -2.25210027]\n",
      "Iteración 8: [-0.79606012  2.79382952 -0.25959778 -2.25191956]\n",
      "Iteración 9: [-0.79691476  2.79461827 -0.25918081 -2.25183616]\n",
      "Iteración 10: [-0.79730913  2.79498224 -0.2589884  -2.25179768]\n",
      "Iteración 11: [-0.79749112  2.7951502  -0.25889961 -2.25177992]\n",
      "Iteración 12: [-0.7975751   2.79522771 -0.25885864 -2.25177173]\n",
      "Iteración 13: [-0.79761385  2.79526347 -0.25883973 -2.25176795]\n",
      "Iteración 14: [-0.79763174  2.79527998 -0.25883101 -2.2517662 ]\n",
      "Iteración 15: [-0.79763999  2.79528759 -0.25882698 -2.2517654 ]\n"
     ]
    },
    {
     "data": {
      "text/plain": [
       "array([-0.79763999,  2.79528759, -0.25882698, -2.2517654 ])"
      ]
     },
     "execution_count": 28,
     "metadata": {},
     "output_type": "execute_result"
    }
   ],
   "source": [
    "A = np.array([[10, 5, 0, 0],\n",
    "              [5, 10, -4, 0],\n",
    "              [0, -4, 8, -1],\n",
    "              [0, 0, -1, 5]], dtype=float)\n",
    "\n",
    "b = np.array([6, 25, -11, -11], dtype=float)\n",
    "x0 = np.zeros(len(b)) \n",
    "iterations = 15\n",
    "\n",
    "gauss_seidel_method(A, b, x0, iterations)"
   ]
  },
  {
   "cell_type": "markdown",
   "metadata": {},
   "source": [
    "### d)"
   ]
  },
  {
   "cell_type": "code",
   "execution_count": 29,
   "metadata": {},
   "outputs": [
    {
     "name": "stdout",
     "output_type": "stream",
     "text": [
      "Iteración 1: [ 1.5     -2.5      1.1      1.525    2.64375]\n",
      "Iteración 2: [ 1.1890625  -1.52135417  1.86239583  1.88252604  2.25564453]\n",
      "Iteración 3: [ 0.85082845 -1.03530219  1.89436317  1.92747236  2.0093738 ]\n",
      "Iteración 4: [ 0.7828913  -0.98701859  1.87161643  1.91687229  1.98219533]\n",
      "Iteración 5: [ 0.78330171 -0.998271    1.86614704  1.91279444  1.98747365]\n",
      "Iteración 6: [ 0.78616258 -1.00240703  1.86606999  1.91245638  1.98960692]\n",
      "Iteración 7: [ 0.78668253 -1.00271872  1.86628339  1.9125618   1.98978976]\n",
      "Iteración 8: [ 0.78666139 -1.0026054   1.86632683  1.91259571  1.98973548]\n",
      "Iteración 9: [ 0.78663577 -1.00257108  1.86632614  1.91259771  1.98971765]\n",
      "Iteración 10: [ 0.78663182 -1.00256932  1.86632421  1.91259668  1.98971654]\n",
      "Iteración 11: [ 0.78663214 -1.00257042  1.86632387  1.9125964   1.98971708]\n",
      "Iteración 12: [ 0.78663237 -1.0025707   1.86632389  1.91259639  1.98971722]\n",
      "Iteración 13: [ 0.7866324  -1.00257071  1.86632391  1.9125964   1.98971723]\n",
      "Iteración 14: [ 0.78663239 -1.0025707   1.86632391  1.9125964   1.98971722]\n",
      "Iteración 15: [ 0.78663239 -1.00257069  1.86632391  1.9125964   1.98971722]\n"
     ]
    },
    {
     "data": {
      "text/plain": [
       "array([ 0.78663239, -1.00257069,  1.86632391,  1.9125964 ,  1.98971722])"
      ]
     },
     "execution_count": 29,
     "metadata": {},
     "output_type": "execute_result"
    }
   ],
   "source": [
    "A = np.array([[4, 1, 1, 0, 1],\n",
    "              [-1, -3, 1, 1, 0],\n",
    "              [2, 1, 5, -1, -1],\n",
    "              [-1, -1, -1, 4, 0],\n",
    "              [0, 2, -1, 1, 4]], dtype=float)\n",
    "\n",
    "b = np.array([6, 6, 6, 6, 6], dtype=float)\n",
    "x0 = np.zeros(len(b)) \n",
    "iterations = 15\n",
    "\n",
    "gauss_seidel_method(A, b, x0, iterations)"
   ]
  },
  {
   "cell_type": "markdown",
   "metadata": {},
   "source": [
    "3. Utilice el método de Jacobi para resolver los sistemas lineales en el ejercicio 1, con TOL = $10^{-3}$."
   ]
  },
  {
   "cell_type": "markdown",
   "metadata": {},
   "source": [
    "### a)"
   ]
  },
  {
   "cell_type": "code",
   "execution_count": 42,
   "metadata": {},
   "outputs": [
    {
     "name": "stdout",
     "output_type": "stream",
     "text": [
      "Iteración 1: [0.33333333 0.         0.57142857], Error: 0.5714285714285714\n",
      "Iteración 2: [ 0.14285714 -0.35714286  0.42857143], Error: 0.35714285714285715\n",
      "Iteración 3: [ 0.07142857 -0.21428571  0.66326531], Error: 0.2346938775510204\n",
      "Iteración 4: [ 0.04081633 -0.25680272  0.63265306], Error: 0.04251700680272111\n",
      "Iteración 5: [ 0.03684807 -0.23129252  0.66399417], Error: 0.031341107871720064\n",
      "Iteración 6: [ 0.03490444 -0.23975543  0.6547619 ], Error: 0.009232264334305018\n",
      "Iteración 7: [ 0.03516089 -0.23570619  0.65922185], Error: 0.0044599472442037325\n",
      "Iteración 8: [ 0.03502399 -0.23732106  0.65737656], Error: 0.0018452959415059533\n",
      "Iteración 9: [ 0.03510079 -0.23663751  0.65812732], Error: 0.0007507619179839553\n",
      "Convergencia alcanzada.\n"
     ]
    },
    {
     "data": {
      "text/plain": [
       "array([ 0.03502399, -0.23732106,  0.65737656])"
      ]
     },
     "execution_count": 42,
     "metadata": {},
     "output_type": "execute_result"
    }
   ],
   "source": [
    "import numpy as np\n",
    "\n",
    "def jacobi_method_with_tolerance(A, b, x0, tol, max_iterations):\n",
    "    n = len(A)\n",
    "    x = x0.copy()\n",
    "    \n",
    "    for k in range(max_iterations):\n",
    "        x_new = np.zeros_like(x)\n",
    "        for i in range(n):\n",
    "            sum_Ax = sum(A[i][j] * x[j] for j in range(n) if j != i)\n",
    "            x_new[i] = (b[i] - sum_Ax) / A[i][i]\n",
    "\n",
    "        error = np.linalg.norm(x_new - x, ord=np.inf)\n",
    "        print(f\"Iteración {k + 1}: {x_new}, Error: {error}\")\n",
    "        \n",
    "        if error < tol:\n",
    "            print(\"Convergencia alcanzada.\")\n",
    "            break\n",
    "        \n",
    "        x = x_new\n",
    "    \n",
    "    return x\n",
    "\n",
    "A = np.array([[3, -1, 1],\n",
    "              [3, 6, 2],\n",
    "              [3, 3, 7]], dtype=float)\n",
    "\n",
    "b = np.array([1, 0, 4], dtype=float)\n",
    "x0 = np.zeros(len(b))\n",
    "tol = 1e-3\n",
    "max_iterations = 100\n",
    "\n",
    "jacobi_method_with_tolerance(A, b, x0, tol, max_iterations)"
   ]
  },
  {
   "cell_type": "markdown",
   "metadata": {},
   "source": [
    "### b)"
   ]
  },
  {
   "cell_type": "code",
   "execution_count": 43,
   "metadata": {},
   "outputs": [
    {
     "name": "stdout",
     "output_type": "stream",
     "text": [
      "Iteración 1: [0.9 0.7 0.6], Error: 0.9\n",
      "Iteración 2: [0.97 0.91 0.74], Error: 0.20999999999999996\n",
      "Iteración 3: [0.991 0.945 0.782], Error: 0.04200000000000004\n",
      "Iteración 4: [0.9945 0.9555 0.789 ], Error: 0.010500000000000065\n",
      "Iteración 5: [0.99555 0.95725 0.7911 ], Error: 0.0020999999999999908\n",
      "Iteración 6: [0.995725 0.957775 0.79145 ], Error: 0.0005250000000001087\n",
      "Convergencia alcanzada.\n"
     ]
    },
    {
     "data": {
      "text/plain": [
       "array([0.99555, 0.95725, 0.7911 ])"
      ]
     },
     "execution_count": 43,
     "metadata": {},
     "output_type": "execute_result"
    }
   ],
   "source": [
    "A = np.array([[10, -1, 0],\n",
    "              [-1, 10, -2],\n",
    "              [0, -2, 10]], dtype=float)\n",
    "\n",
    "b = np.array([9, 7, 6], dtype=float)\n",
    "x0 = np.zeros(len(b))\n",
    "tol = 1e-3\n",
    "max_iterations = 100\n",
    "\n",
    "jacobi_method_with_tolerance(A, b, x0, tol, max_iterations)"
   ]
  },
  {
   "cell_type": "markdown",
   "metadata": {},
   "source": [
    "### c)"
   ]
  },
  {
   "cell_type": "code",
   "execution_count": 44,
   "metadata": {},
   "outputs": [
    {
     "name": "stdout",
     "output_type": "stream",
     "text": [
      "Iteración 1: [ 0.6    2.5   -1.375 -2.2  ], Error: 2.5\n",
      "Iteración 2: [-0.65   1.65  -0.4   -2.475], Error: 1.25\n",
      "Iteración 3: [-0.225     2.665    -0.859375 -2.28    ], Error: 1.0150000000000001\n",
      "Iteración 4: [-0.7325    2.26875  -0.3275   -2.371875], Error: 0.5318749999999999\n",
      "Iteración 5: [-0.534375    2.73525    -0.53710938 -2.2655    ], Error: 0.4664999999999999\n",
      "Iteración 6: [-0.767625    2.55234375 -0.2905625  -2.30742188], Error: 0.24654687500000005\n",
      "Iteración 7: [-0.67617187  2.7675875  -0.38725586 -2.2581125 ], Error: 0.21524374999999996\n",
      "Iteración 8: [-0.78379375  2.68318359 -0.27347031 -2.27745117], Error: 0.11378554687499987\n",
      "Iteración 9: [-0.7415918   2.78250875 -0.3180896  -2.25469406], Error: 0.09932515624999994\n",
      "Iteración 10: [-0.79125437  2.74356006 -0.26558238 -2.26361792], Error: 0.05250721679687498\n",
      "Iteración 11: [-0.77178003  2.78939423 -0.28617221 -2.25311648], Error: 0.04583417578125015\n",
      "Iteración 12: [-0.79469712  2.77142113 -0.26194244 -2.25723444], Error: 0.024229768310547017\n",
      "Iteración 13: [-0.78571057  2.79257158 -0.27144374 -2.25238849], Error: 0.021150451269531523\n",
      "Iteración 14: [-0.79628579  2.78427779 -0.26026277 -2.25428875], Error: 0.011180969842529365\n",
      "Iteración 15: [-0.79213889  2.79403779 -0.2646472  -2.25205255], Error: 0.009760000754395204\n",
      "Iteración 16: [-0.79701889  2.79021057 -0.25948768 -2.25292944], Error: 0.005159524623260747\n",
      "Iteración 17: [-0.79510528  2.79471438 -0.2615109  -2.25189754], Error: 0.004503810037903122\n",
      "Iteración 18: [-0.79735719  2.79294828 -0.25913    -2.25230218], Error: 0.0023808931345330464\n",
      "Iteración 19: [-0.79647414  2.79502659 -0.26006363 -2.251826  ], Error: 0.0020783097632888214\n",
      "Iteración 20: [-0.7975133   2.79421162 -0.25896495 -2.25201273], Error: 0.0010986772100076703\n",
      "Iteración 21: [-0.79710581  2.79517067 -0.25939578 -2.25179299], Error: 0.0009590483248249626\n",
      "Convergencia alcanzada.\n"
     ]
    },
    {
     "data": {
      "text/plain": [
       "array([-0.7975133 ,  2.79421162, -0.25896495, -2.25201273])"
      ]
     },
     "execution_count": 44,
     "metadata": {},
     "output_type": "execute_result"
    }
   ],
   "source": [
    "A = np.array([[10, 5, 0, 0],\n",
    "              [5, 10, -4, 0],\n",
    "              [0, -4, 8, -1],\n",
    "              [0, 0, -1, 5]], dtype=float)\n",
    "\n",
    "b = np.array([6, 25, -11, -11], dtype=float)\n",
    "x0 = np.zeros(len(b))\n",
    "tol = 1e-3\n",
    "max_iterations = 100\n",
    "\n",
    "jacobi_method_with_tolerance(A, b, x0, tol, max_iterations)"
   ]
  },
  {
   "cell_type": "markdown",
   "metadata": {},
   "source": [
    "### d)"
   ]
  },
  {
   "cell_type": "code",
   "execution_count": 45,
   "metadata": {},
   "outputs": [
    {
     "name": "stdout",
     "output_type": "stream",
     "text": [
      "Iteración 1: [ 1.5 -2.   1.2  1.5  1.5], Error: 2.0\n",
      "Iteración 2: [ 1.325 -1.6    1.6    1.675  2.425], Error: 0.9249999999999998\n",
      "Iteración 3: [ 0.89375 -1.35     1.81     1.83125  2.28125], Error: 0.4312499999999999\n",
      "Iteración 4: [ 0.8146875  -1.08416667  1.935       1.8384375   2.1696875 ], Error: 0.26583333333333314\n",
      "Iteración 5: [ 0.74486979 -1.01375     1.89258333  1.91638021  2.06622396], Error: 0.10346354166666671\n",
      "Iteración 6: [ 0.76373568 -0.97863542  1.90132292  1.90592578  2.00092578], Error: 0.06529817708333363\n",
      "Iteración 7: [ 0.76909668 -0.98549566  1.87160313  1.92160579  1.98816699], Error: 0.02971979166666694\n",
      "Iteración 8: [ 0.78143139 -0.99196259  1.87141502  1.91380104  1.98024716], Error: 0.01233470594618058\n",
      "Iteración 9: [ 0.7850751  -0.99873844  1.8646296   1.91522095  1.98538479], Error: 0.0067854144965275864\n",
      "Iteración 10: [ 0.78718101 -1.00174151  1.8658388   1.91274157  1.98672138], Error: 0.0030030709273728418\n",
      "Iteración 11: [ 0.78729533 -1.00286688  1.86536849  1.91281957  1.98914507], Error: 0.0024236811376501244\n",
      "Iteración 12: [ 0.78708833 -1.00303576  1.86604817  1.91244923  1.98957067], Error: 0.0006796835462778983\n",
      "Convergencia alcanzada.\n"
     ]
    },
    {
     "data": {
      "text/plain": [
       "array([ 0.78729533, -1.00286688,  1.86536849,  1.91281957,  1.98914507])"
      ]
     },
     "execution_count": 45,
     "metadata": {},
     "output_type": "execute_result"
    }
   ],
   "source": [
    "A = np.array([[4, 1, 1, 0, 1],\n",
    "              [-1, -3, 1, 1, 0],\n",
    "              [2, 1, 5, -1, -1],\n",
    "              [-1, -1, -1, 4, 0],\n",
    "              [0, 2, -1, 1, 4]], dtype=float)\n",
    "\n",
    "b = np.array([6, 6, 6, 6, 6], dtype=float)\n",
    "x0 = np.zeros(len(b))\n",
    "tol = 1e-3\n",
    "max_iterations = 100\n",
    "\n",
    "jacobi_method_with_tolerance(A, b, x0, tol, max_iterations)"
   ]
  },
  {
   "cell_type": "markdown",
   "metadata": {},
   "source": [
    "4. Utilice el método de Gauss-Siedel para resolver los sistemas lineales en el ejercicio 1, con TOL = $10^{-3}$."
   ]
  },
  {
   "cell_type": "markdown",
   "metadata": {},
   "source": [
    "### a)"
   ]
  },
  {
   "cell_type": "code",
   "execution_count": 46,
   "metadata": {},
   "outputs": [
    {
     "name": "stdout",
     "output_type": "stream",
     "text": [
      "Iteración 1: [ 0.33333333 -0.16666667  0.5       ], Error: 0.5\n",
      "Iteración 2: [ 0.11111111 -0.22222222  0.61904762], Error: 0.2222222222222222\n",
      "Iteración 3: [ 0.05291005 -0.23280423  0.64852608], Error: 0.05820105820105818\n",
      "Iteración 4: [ 0.03955656 -0.23595364  0.65559875], Error: 0.013353489543965757\n",
      "Iteración 5: [ 0.0361492  -0.23660752  0.65733928], Error: 0.003407359416429702\n",
      "Iteración 6: [ 0.03535107 -0.23678863  0.65775895], Error: 0.0007981356647807844\n",
      "Convergencia alcanzada.\n"
     ]
    },
    {
     "data": {
      "text/plain": [
       "array([ 0.0361492 , -0.23660752,  0.65733928])"
      ]
     },
     "execution_count": 46,
     "metadata": {},
     "output_type": "execute_result"
    }
   ],
   "source": [
    "import numpy as np\n",
    "\n",
    "def gauss_seidel_method_with_tolerance(A, b, x0, tol, max_iterations):\n",
    "    n = len(A)\n",
    "    x = x0.copy()\n",
    "    \n",
    "    for k in range(max_iterations):\n",
    "        x_new = x.copy()\n",
    "        for i in range(n):\n",
    "            sum_before = sum(A[i][j] * x_new[j] for j in range(i))\n",
    "            sum_after = sum(A[i][j] * x[j] for j in range(i + 1, n))\n",
    "            x_new[i] = (b[i] - sum_before - sum_after) / A[i][i]\n",
    "        \n",
    "        error = np.linalg.norm(x_new - x, ord=np.inf)\n",
    "        print(f\"Iteración {k + 1}: {x_new}, Error: {error}\")\n",
    "        \n",
    "        if error < tol:\n",
    "            print(\"Convergencia alcanzada.\")\n",
    "            break\n",
    "        \n",
    "        x = x_new\n",
    "    \n",
    "    return x\n",
    "\n",
    "A = np.array([[3, -1, 1],\n",
    "              [3, 6, 2],\n",
    "              [3, 3, 7]], dtype=float)\n",
    "\n",
    "b = np.array([1, 0, 4], dtype=float)\n",
    "x0 = np.zeros(len(b)) \n",
    "tol = 1e-3\n",
    "max_iterations = 100\n",
    "\n",
    "gauss_seidel_method_with_tolerance(A, b, x0, tol, max_iterations)"
   ]
  },
  {
   "cell_type": "markdown",
   "metadata": {},
   "source": [
    "### b)"
   ]
  },
  {
   "cell_type": "code",
   "execution_count": 47,
   "metadata": {},
   "outputs": [
    {
     "name": "stdout",
     "output_type": "stream",
     "text": [
      "Iteración 1: [0.9   0.79  0.758], Error: 0.9\n",
      "Iteración 2: [0.979  0.9495 0.7899], Error: 0.1595000000000001\n",
      "Iteración 3: [0.99495  0.957475 0.791495], Error: 0.01595000000000013\n",
      "Iteración 4: [0.9957475  0.95787375 0.79157475], Error: 0.0007975000000000065\n",
      "Convergencia alcanzada.\n"
     ]
    },
    {
     "data": {
      "text/plain": [
       "array([0.99495 , 0.957475, 0.791495])"
      ]
     },
     "execution_count": 47,
     "metadata": {},
     "output_type": "execute_result"
    }
   ],
   "source": [
    "A = np.array([[10, -1, 0],\n",
    "              [-1, 10, -2],\n",
    "              [0, -2, 10]], dtype=float)\n",
    "\n",
    "b = np.array([9, 7, 6], dtype=float)\n",
    "x0 = np.zeros(len(b)) \n",
    "tol = 1e-3\n",
    "max_iterations = 100\n",
    "\n",
    "gauss_seidel_method_with_tolerance(A, b, x0, tol, max_iterations)"
   ]
  },
  {
   "cell_type": "markdown",
   "metadata": {},
   "source": [
    "### c)"
   ]
  },
  {
   "cell_type": "code",
   "execution_count": 48,
   "metadata": {},
   "outputs": [
    {
     "name": "stdout",
     "output_type": "stream",
     "text": [
      "Iteración 1: [ 0.6    2.2   -0.275 -2.255], Error: 2.255\n",
      "Iteración 2: [-0.5       2.64     -0.336875 -2.267375], Error: 1.1\n",
      "Iteración 3: [-0.72        2.72525    -0.29579688 -2.25915938], Error: 0.21999999999999997\n",
      "Iteración 4: [-0.762625    2.76299375 -0.27589805 -2.25517961], Error: 0.04262499999999991\n",
      "Iteración 5: [-0.78149687  2.78038922 -0.26670284 -2.25334057], Error: 0.018871875000000093\n",
      "Iteración 6: [-0.79019461  2.78841617 -0.26245949 -2.2524919 ], Error: 0.008697734374999877\n",
      "Iteración 7: [-0.79420808  2.79212025 -0.26050136 -2.25210027], Error: 0.004013474609375067\n",
      "Iteración 8: [-0.79606012  2.79382952 -0.25959778 -2.25191956], Error: 0.0018520395996093342\n",
      "Iteración 9: [-0.79691476  2.79461827 -0.25918081 -2.25183616], Error: 0.0008546345935060984\n",
      "Convergencia alcanzada.\n"
     ]
    },
    {
     "data": {
      "text/plain": [
       "array([-0.79606012,  2.79382952, -0.25959778, -2.25191956])"
      ]
     },
     "execution_count": 48,
     "metadata": {},
     "output_type": "execute_result"
    }
   ],
   "source": [
    "A = np.array([[10, 5, 0, 0],\n",
    "              [5, 10, -4, 0],\n",
    "              [0, -4, 8, -1],\n",
    "              [0, 0, -1, 5]], dtype=float)\n",
    "\n",
    "b = np.array([6, 25, -11, -11], dtype=float)\n",
    "x0 = np.zeros(len(b)) \n",
    "tol = 1e-3\n",
    "max_iterations = 100\n",
    "\n",
    "gauss_seidel_method_with_tolerance(A, b, x0, tol, max_iterations)"
   ]
  },
  {
   "cell_type": "markdown",
   "metadata": {},
   "source": [
    "### d)"
   ]
  },
  {
   "cell_type": "code",
   "execution_count": 49,
   "metadata": {},
   "outputs": [
    {
     "name": "stdout",
     "output_type": "stream",
     "text": [
      "Iteración 1: [ 1.5     -2.5      1.1      1.525    2.64375], Error: 2.64375\n",
      "Iteración 2: [ 1.1890625  -1.52135417  1.86239583  1.88252604  2.25564453], Error: 0.9786458333333332\n",
      "Iteración 3: [ 0.85082845 -1.03530219  1.89436317  1.92747236  2.0093738 ], Error: 0.4860519748263892\n",
      "Iteración 4: [ 0.7828913  -0.98701859  1.87161643  1.91687229  1.98219533], Error: 0.0679371456570097\n",
      "Iteración 5: [ 0.78330171 -0.998271    1.86614704  1.91279444  1.98747365], Error: 0.01125240687911877\n",
      "Iteración 6: [ 0.78616258 -1.00240703  1.86606999  1.91245638  1.98960692], Error: 0.004136035048103781\n",
      "Iteración 7: [ 0.78668253 -1.00271872  1.86628339  1.9125618   1.98978976], Error: 0.0005199531084644216\n",
      "Convergencia alcanzada.\n"
     ]
    },
    {
     "data": {
      "text/plain": [
       "array([ 0.78616258, -1.00240703,  1.86606999,  1.91245638,  1.98960692])"
      ]
     },
     "execution_count": 49,
     "metadata": {},
     "output_type": "execute_result"
    }
   ],
   "source": [
    "A = np.array([[4, 1, 1, 0, 1],\n",
    "              [-1, -3, 1, 1, 0],\n",
    "              [2, 1, 5, -1, -1],\n",
    "              [-1, -1, -1, 4, 0],\n",
    "              [0, 2, -1, 1, 4]], dtype=float)\n",
    "\n",
    "b = np.array([6, 6, 6, 6, 6], dtype=float)\n",
    "x0 = np.zeros(len(b)) \n",
    "tol = 1e-3\n",
    "max_iterations = 100\n",
    "\n",
    "gauss_seidel_method_with_tolerance(A, b, x0, tol, max_iterations)"
   ]
  },
  {
   "cell_type": "markdown",
   "metadata": {},
   "source": [
    "5. El Sistema Lineal\n",
    "\n",
    "$$2x_1-x_2+x_3=-1$$\n",
    "$$2x_1+2x_2+2x_3=4$$\n",
    "$$-x_1-x_2+2x_3=-5$$"
   ]
  },
  {
   "cell_type": "markdown",
   "metadata": {},
   "source": [
    "tiene la solución $(1, 2, -1)$"
   ]
  },
  {
   "cell_type": "markdown",
   "metadata": {},
   "source": [
    "a) Muestre que el método de Jacobi con x(0) = 0 falla al proporcionar una buena aproximación\n",
    "después de 25 iteraciones."
   ]
  },
  {
   "cell_type": "code",
   "execution_count": 15,
   "metadata": {},
   "outputs": [
    {
     "name": "stdout",
     "output_type": "stream",
     "text": [
      "Iteración 1: [-0.5  2.  -2.5]\n",
      "Iteración 2: [ 1.75  5.   -1.75]\n",
      "Iteración 3: [2.875 2.    0.875]\n",
      "Iteración 4: [ 0.0625 -1.75   -0.0625]\n",
      "Iteración 5: [-1.34375  2.      -3.34375]\n",
      "Iteración 6: [ 2.171875  6.6875   -2.171875]\n",
      "Iteración 7: [3.9296875 2.        1.9296875]\n",
      "Iteración 8: [-0.46484375 -3.859375    0.46484375]\n",
      "Iteración 9: [-2.66210938  2.         -4.66210938]\n",
      "Iteración 10: [ 2.83105469  9.32421875 -2.83105469]\n",
      "Iteración 11: [5.57763672 2.         3.57763672]\n",
      "Iteración 12: [-1.28881836 -7.15527344  1.28881836]\n",
      "Iteración 13: [-4.7220459  2.        -6.7220459]\n",
      "Iteración 14: [ 3.86102295 13.4440918  -3.86102295]\n",
      "Iteración 15: [8.15255737 2.         6.15255737]\n",
      "Iteración 16: [ -2.57627869 -12.30511475   2.57627869]\n",
      "Iteración 17: [-7.94069672  2.         -9.94069672]\n",
      "Iteración 18: [ 5.47034836 19.88139343 -5.47034836]\n",
      "Iteración 19: [12.1758709  2.        10.1758709]\n",
      "Iteración 20: [ -4.58793545 -20.35174179   4.58793545]\n",
      "Iteración 21: [-12.96983862   2.         -14.96983862]\n",
      "Iteración 22: [ 7.98491931 29.93967724 -7.98491931]\n",
      "Iteración 23: [18.46229827  2.         16.46229827]\n",
      "Iteración 24: [ -7.73114914 -32.92459655   7.73114914]\n",
      "Iteración 25: [-20.82787284   2.         -22.82787284]\n"
     ]
    },
    {
     "data": {
      "text/plain": [
       "array([-20.82787284,   2.        , -22.82787284])"
      ]
     },
     "execution_count": 15,
     "metadata": {},
     "output_type": "execute_result"
    }
   ],
   "source": [
    "def jacobi_method_with_iterations(A, b, x0, max_iterations):\n",
    "    n = len(A)\n",
    "    x = x0.copy()\n",
    "    \n",
    "    for k in range(max_iterations):\n",
    "        x_new = np.zeros_like(x)\n",
    "        for i in range(n):\n",
    "            sum_Ax = sum(A[i][j] * x[j] for j in range(n) if j != i)\n",
    "            x_new[i] = (b[i] - sum_Ax) / A[i][i]\n",
    "        \n",
    "        print(f\"Iteración {k + 1}: {x_new}\")\n",
    "        x = x_new\n",
    "    \n",
    "    return x\n",
    "A = np.array([[2, -1, 1],\n",
    "              [2,  2, 2],\n",
    "              [-1, -1, 2]], dtype=float)\n",
    "\n",
    "b = np.array([-1, 4, -5], dtype=float)\n",
    "x0 = np.zeros(len(b)) \n",
    "max_iterations = 25 \n",
    "\n",
    "jacobi_method_with_iterations(A, b, x0, max_iterations)"
   ]
  },
  {
   "cell_type": "markdown",
   "metadata": {},
   "source": [
    "b) Utilice el método de Gauss-Siedel con x(0) = 0: para aproximar la solución para el sistema lineal\n",
    "dentro de 10−5."
   ]
  },
  {
   "cell_type": "code",
   "execution_count": 51,
   "metadata": {},
   "outputs": [
    {
     "name": "stdout",
     "output_type": "stream",
     "text": [
      "Iteración 1: [-0.5  2.5 -1.5], Error: 2.5\n",
      "Iteración 2: [ 1.5   2.   -0.75], Error: 2.0\n",
      "Iteración 3: [ 0.875  1.875 -1.125], Error: 0.625\n",
      "Iteración 4: [ 1.      2.125  -0.9375], Error: 0.25\n",
      "Iteración 5: [ 1.03125  1.90625 -1.03125], Error: 0.21875\n",
      "Iteración 6: [ 0.96875   2.0625   -0.984375], Error: 0.15625\n",
      "Iteración 7: [ 1.0234375  1.9609375 -1.0078125], Error: 0.1015625\n",
      "Iteración 8: [ 0.984375    2.0234375  -0.99609375], Error: 0.0625\n",
      "Iteración 9: [ 1.00976562  1.98632812 -1.00195312], Error: 0.037109375\n",
      "Iteración 10: [ 0.99414062  2.0078125  -0.99902344], Error: 0.021484375\n",
      "Iteración 11: [ 1.00341797  1.99560547 -1.00048828], Error: 0.01220703125\n",
      "Iteración 12: [ 0.99804688  2.00244141 -0.99975586], Error: 0.0068359375\n",
      "Iteración 13: [ 1.00109863  1.99865723 -1.00012207], Error: 0.0037841796875\n",
      "Iteración 14: [ 0.99938965  2.00073242 -0.99993896], Error: 0.0020751953125\n",
      "Iteración 15: [ 1.00033569  1.99960327 -1.00003052], Error: 0.001129150390625\n",
      "Iteración 16: [ 0.99981689  2.00021362 -0.99998474], Error: 0.0006103515625\n",
      "Iteración 17: [ 1.00009918  1.99988556 -1.00000763], Error: 0.00032806396484375\n",
      "Iteración 18: [ 0.99994659  2.00006104 -0.99999619], Error: 0.00017547607421875\n",
      "Iteración 19: [ 1.00002861  1.99996758 -1.00000191], Error: 9.34600830078125e-05\n",
      "Iteración 20: [ 0.99998474  2.00001717 -0.99999905], Error: 4.9591064453125e-05\n",
      "Iteración 21: [ 1.00000811  1.99999094 -1.00000048], Error: 2.6226043701171875e-05\n",
      "Iteración 22: [ 0.99999571  2.00000477 -0.99999976], Error: 1.3828277587890625e-05\n",
      "Iteración 23: [ 1.00000226  1.9999975  -1.00000012], Error: 7.271766662597656e-06\n",
      "Convergencia alcanzada.\n"
     ]
    },
    {
     "data": {
      "text/plain": [
       "array([ 0.99999571,  2.00000477, -0.99999976])"
      ]
     },
     "execution_count": 51,
     "metadata": {},
     "output_type": "execute_result"
    }
   ],
   "source": [
    "def gauss_seidel_method_with_tolerance(A, b, x0, tol, max_iterations):\n",
    "    n = len(A)\n",
    "    x = x0.copy()\n",
    "    \n",
    "    for k in range(max_iterations):\n",
    "        x_new = x.copy()\n",
    "        for i in range(n):\n",
    "            sum_before = sum(A[i][j] * x_new[j] for j in range(i))\n",
    "            sum_after = sum(A[i][j] * x[j] for j in range(i + 1, n))\n",
    "            x_new[i] = (b[i] - sum_before - sum_after) / A[i][i]\n",
    "        \n",
    "        error = np.linalg.norm(x_new - x, ord=np.inf)\n",
    "        print(f\"Iteración {k + 1}: {x_new}, Error: {error}\")\n",
    "        \n",
    "        if error < tol:\n",
    "            print(\"Convergencia alcanzada.\")\n",
    "            break\n",
    "        \n",
    "        x = x_new\n",
    "    \n",
    "    return x\n",
    "tol = 1e-5 \n",
    "max_iterations = 100\n",
    "gauss_seidel_method_with_tolerance(A, b, x0, tol, max_iterations)"
   ]
  },
  {
   "cell_type": "markdown",
   "metadata": {},
   "source": [
    "6. El Sistema Lineal\n",
    "\n",
    "$$x_1-x_3=0.2$$\n",
    "$$-\\frac{1}{2}x_1+x_2-\\frac{1}{4}x_3=-1.425$$\n",
    "$$x_1-\\frac{1}{2}x_2+x_3=2$$\n",
    "\n",
    "tiene la solución $(0.9, -0.8, 0.7)$."
   ]
  },
  {
   "cell_type": "markdown",
   "metadata": {},
   "source": [
    "a) ¿La matriz de coeficientes tiene diagonal estrictamente dominante?\n",
    "\n",
    "A = $$\\begin{bmatrix}\n",
    "1 & 0 & -1\\\\\n",
    "-\\frac{1}{2} & 1 &  -\\frac{1}{4}\\\\\n",
    "1 & -\\frac{1}{2} & 1\\\\\n",
    "\\end{bmatrix}$$"
   ]
  },
  {
   "cell_type": "code",
   "execution_count": 18,
   "metadata": {},
   "outputs": [
    {
     "name": "stdout",
     "output_type": "stream",
     "text": [
      "False\n"
     ]
    }
   ],
   "source": [
    "def is_strictly_diagonally_dominant(A):\n",
    "    n = len(A)\n",
    "    for i in range(n):\n",
    "        diagonal = abs(A[i, i])\n",
    "        off_diagonal_sum = sum(abs(A[i, j]) for j in range(n) if j != i)\n",
    "        if diagonal <= off_diagonal_sum:\n",
    "            return False\n",
    "    return True\n",
    "\n",
    "A = np.array([[1, 0, -1],\n",
    "              [-0.5, 1, -0.25],\n",
    "              [1, -0.5, 1]])\n",
    "\n",
    "strictly_dominant = is_strictly_diagonally_dominant(A)\n",
    "print(strictly_dominant)\n"
   ]
  },
  {
   "cell_type": "markdown",
   "metadata": {},
   "source": [
    "b) Utilice el método iterativo de Gauss-Siedel para aproximar la solución para el sistema lineal con\n",
    "una tolerancia de 1022 y un máximo de 300 iteraciones."
   ]
  },
  {
   "cell_type": "code",
   "execution_count": 19,
   "metadata": {},
   "outputs": [
    {
     "name": "stdout",
     "output_type": "stream",
     "text": [
      "Iteración 1: [ 0.2    -1.325   1.1375], Error: 1.325\n",
      "Iteración 2: [ 1.3375    -0.471875   0.4265625], Error: 1.1375\n",
      "Iteración 3: [ 0.6265625  -1.00507813  0.87089844], Error: 0.7109375\n",
      "Iteración 4: [ 1.07089844 -0.67182617  0.59318848], Error: 0.4443359375000002\n",
      "Iteración 5: [ 0.79318848 -0.88010864  0.7667572 ], Error: 0.2777099609375002\n",
      "Iteración 6: [ 0.9667572  -0.7499321   0.65827675], Error: 0.17356872558593772\n",
      "Iteración 7: [ 0.85827675 -0.83129244  0.72607703], Error: 0.10848045349121116\n",
      "Iteración 8: [ 0.92607703 -0.78044223  0.68370185], Error: 0.06780028343200706\n",
      "Iteración 9: [ 0.88370185 -0.81222361  0.71018634], Error: 0.042375177145004495\n",
      "Iteración 10: [ 0.91018634 -0.79236024  0.69363354], Error: 0.026484485715627892\n",
      "Iteración 11: [ 0.89363354 -0.80477485  0.70397904], Error: 0.016552803572267516\n",
      "Iteración 12: [ 0.90397904 -0.79701572  0.6975131 ], Error: 0.01034550223266728\n",
      "Iteración 13: [ 0.8975131  -0.80186517  0.70155431], Error: 0.006465938895417134\n",
      "Convergencia alcanzada.\n"
     ]
    },
    {
     "data": {
      "text/plain": [
       "array([ 0.90397904, -0.79701572,  0.6975131 ])"
      ]
     },
     "execution_count": 19,
     "metadata": {},
     "output_type": "execute_result"
    }
   ],
   "source": [
    "b = np.array([0.2, -1.425, 2])\n",
    "x0 = np.zeros(len(b))\n",
    "tol = 1e-2\n",
    "max_iterations = 300 \n",
    "\n",
    "gauss_seidel_method_with_tolerance(A, b, x0, tol, max_iterations)\n"
   ]
  },
  {
   "cell_type": "markdown",
   "metadata": {},
   "source": [
    "c) ¿Qué pasa en la parte b) cuando el sistema cambia por el siguiente?\n",
    "\n",
    "$$x_1-2x_3=0.2$$\n",
    "$$-\\frac{1}{2}x_1+x_2-\\frac{1}{4}x_3=-1.425$$\n",
    "$$x_1-\\frac{1}{2}x_2+x_3=2$$"
   ]
  },
  {
   "cell_type": "code",
   "execution_count": 20,
   "metadata": {},
   "outputs": [
    {
     "name": "stdout",
     "output_type": "stream",
     "text": [
      "¿La nueva matriz es diagonal estrictamente dominante? False\n",
      "Iteración 1: [ 0.2    -1.325   1.1375], Error: 1.325\n",
      "Iteración 2: [ 2.475      0.096875  -0.4265625], Error: 2.275\n",
      "Iteración 3: [-0.653125   -1.85820313  1.72402344], Error: 3.1281250000000007\n",
      "Iteración 4: [ 3.64804688  0.8300293  -1.23303223], Error: 4.3011718750000005\n",
      "Iteración 5: [-2.26606445 -2.86629028  2.83291931], Error: 5.914111328125001\n",
      "Iteración 6: [ 5.86583862  2.21614914 -2.75776405], Error: 8.131903076171877\n",
      "Iteración 7: [-5.31552811 -4.77220507  4.92942557], Error: 11.181366729736332\n",
      "Iteración 8: [10.05885115  4.83678197 -5.64046016], Error: 15.374379253387456\n",
      "Iteración 9: [-11.08092033  -8.3755752    8.89313272], Error: 21.13977147340775\n",
      "Iteración 10: [ 17.98626545   9.79141591 -11.0905575 ], Error: 29.06718577593566\n",
      "Iteración 11: [-21.98111499 -15.18819687  16.38701656], Error: 39.96738044191153\n",
      "Iteración 12: [ 32.97403311  19.1587707  -21.39464777], Error: 54.95514810762836\n",
      "Iteración 13: [-42.58929553 -28.06830971  30.55514068], Error: 75.56332864798898\n",
      "Iteración 14: [ 61.31028136  36.86892585 -40.87581843], Error: 103.89957689098486\n",
      "Iteración 15: [-81.55163687 -52.41977304  57.34175035], Error: 142.86191822510418\n",
      "Iteración 16: [114.88350069  70.35218793 -77.70740673], Error: 196.43513755951824\n",
      "Iteración 17: [-155.21481345  -98.45925841  107.98518425], Error: 270.09831414433756\n",
      "Iteración 18: [ 216.1703685   133.65648031 -147.34212834], Error: 371.38518194846415\n",
      "Iteración 19: [-294.48425668 -185.50266043  203.73292647], Error: 510.6546251791383\n",
      "Iteración 20: [ 407.66585294  253.34115809 -278.9952739 ], Error: 702.1501096213151\n",
      "Iteración 21: [-557.79054779 -350.06909237  384.75600161], Error: 965.4564007293081\n",
      "Iteración 22: [ 769.71200321  479.62000201 -527.90200221], Error: 1327.5025510027988\n",
      "Iteración 23: [-1055.60400442  -661.20250276   727.00275304], Error: 1825.3160076288482\n",
      "Iteración 24: [1454.20550607  907.4284413  -998.49128543], Error: 2509.8095104896665\n",
      "Iteración 25: [-1996.78257085 -1249.43910678  1374.06301746], Error: 3450.988076923291\n",
      "Iteración 26: [ 2748.32603492  1716.25377182 -1888.19914901], Error: 4745.108605769525\n",
      "Iteración 27: [-3776.19829801 -2361.57393626  2597.41132988], Error: 6524.524332933097\n",
      "Iteración 28: [ 5195.02265977  3245.43916236 -3570.30307859], Error: 8971.220957783007\n",
      "Iteración 29: [-7140.40615718 -4464.20384824  4910.30423306], Error: 12335.428816951637\n",
      "Iteración 30: [ 9820.80846613  6136.55529133 -6750.53082046], Error: 16961.2146233085\n",
      "Iteración 31: [-13500.86164092  -8439.48852558   9283.11737813], Error: 23321.67010704919\n",
      "Iteración 32: [ 18566.43475627  11602.57172267 -12763.14889494], Error: 32067.296397192637\n",
      "Iteración 33: [-25526.09778987 -15955.26111867  17550.46723054], Error: 44092.532546139875\n",
      "Iteración 34: [ 35101.13446107  21936.75903817 -24130.75494199], Error: 60627.23225094232\n",
      "Iteración 35: [-48261.30988397 -30164.76867748  33180.92554523], Error: 83362.44434504569\n",
      "Iteración 36: [ 66362.05109046  41474.83193154 -45622.63512469], Error: 114623.36097443782\n",
      "Iteración 37: [-91245.07024939 -57029.61890587  62732.26079645], Error: 157607.121339852\n",
      "Iteración 38: [125464.72159291  78414.00099557 -86255.72109512], Error: 216709.79184229652\n",
      "Iteración 39: [-172511.24219025 -107820.97636891  118602.7540058 ], Error: 297975.9637831577\n",
      "Iteración 40: [ 237205.70801159  148252.11750725 -163077.64925797], Error: 409716.9502018419\n",
      "Iteración 41: [-326155.09851594 -203848.38657246  224232.90522971], Error: 563360.8065275326\n",
      "Iteración 42: [ 448466.01045942  280289.80653714 -308319.10719085], Error: 774621.1089753574\n",
      "Iteración 43: [-616638.0143817  -385400.20898856  423939.90988742], Error: 1065104.0248411165\n",
      "Iteración 44: [ 847880.01977484  529923.56235927 -582916.2385952 ], Error: 1464518.0341565353\n",
      "Iteración 45: [-1165832.2771904  -728646.623244    801510.9655684], Error: 2013712.2969652358\n",
      "Iteración 46: [ 1603022.1311368   1001887.3819605  -1102076.44015655], Error: 2768854.408327199\n",
      "Iteración 47: [-2204152.6803131  -1377596.87519569  1515356.24271526], Error: 3807174.8114498984\n",
      "Iteración 48: [ 3030712.68543051  1894193.97839407 -2083613.69623348], Error: 5234865.365743611\n",
      "Iteración 49: [-4167227.19246695 -2604518.44529185  2864969.96982103], Error: 7197939.877897464\n",
      "Iteración 50: [ 5729940.13964206  3581211.13727629 -3939332.57100392], Error: 9897167.332109014\n",
      "Iteración 51: [-7878664.94200783 -4924167.0387549   5416583.42263039], Error: 13608605.081649894\n",
      "Iteración 52: [10833167.04526077  6770727.95328798 -7447801.06861678], Error: 18711831.987268604\n",
      "Iteración 53: [-14895601.93723356  -9309752.66077098  10240727.60684807], Error: 25728768.982494332\n",
      "Iteración 54: [ 20481455.41369614  12800908.18356009 -14080999.3219161 ], Error: 35377057.35092971\n",
      "Iteración 55: [-28161998.4438322  -17601250.47739512  19361375.20513464], Error: 48643453.857528344\n",
      "Iteración 56: [ 38722750.61026928  24201717.6814183  -26621889.76956013], Error: 66884749.05410148\n",
      "Iteración 57: [-53243779.33912025 -33277363.53695016  36605099.57064518], Error: 91966529.94938953\n",
      "Iteración 58: [ 73210199.34129035  45756373.13830648 -50332010.77213712], Error: 126453978.68041061\n",
      "Iteración 59: [-1.00664021e+08 -6.29150148e+07  6.92065159e+07], Error: 173874220.68556458\n",
      "Iteración 60: [ 1.38413032e+08  8.65081436e+07 -9.51589583e+07], Error: 239077053.44265127\n",
      "Iteración 61: [-1.90317916e+08 -1.18948699e+08  1.30843569e+08], Error: 328730948.4836455\n",
      "Iteración 62: [ 2.61687138e+08  1.63554460e+08 -1.79909906e+08], Error: 452005054.1650126\n",
      "Iteración 63: [-3.59819812e+08 -2.24887384e+08  2.47376122e+08], Error: 621506949.4768922\n",
      "Iteración 64: [ 4.94752244e+08  3.09220151e+08 -3.40142166e+08], Error: 854572055.5307268\n",
      "Iteración 65: [-6.80284333e+08 -4.25177709e+08  4.67695480e+08], Error: 1175036576.3547492\n",
      "Iteración 66: [ 9.35390960e+08  5.84619349e+08 -6.43081284e+08], Error: 1615675292.48778\n",
      "Iteración 67: [-1.28616257e+09 -8.03851606e+08  8.84236766e+08], Error: 2221553527.1706977\n",
      "Iteración 68: [ 1.76847353e+09  1.10529596e+09 -1.21582555e+09], Error: 3054636099.8597097\n",
      "Iteración 69: [-2.43165110e+09 -1.51978194e+09  1.67176014e+09], Error: 4200124637.3071012\n",
      "Iteración 70: [ 3.34352027e+09  2.08970017e+09 -2.29867019e+09], Error: 5775171376.297264\n",
      "Iteración 71: [-4.59734037e+09 -2.87333773e+09  3.16067151e+09], Error: 7940860642.408738\n",
      "Iteración 72: [ 6.32134301e+09  3.95083938e+09 -4.34592332e+09], Error: 10918683383.312016\n",
      "Iteración 73: [-8.69184664e+09 -5.43240415e+09  5.97564457e+09], Error: 15013189652.05402\n",
      "Iteración 74: [ 1.19512891e+10  7.46955571e+09 -8.21651128e+09], Error: 20643135771.57428\n",
      "Iteración 75: [-1.64330226e+10 -1.02706391e+10  1.12977030e+10], Error: 28384311685.914635\n",
      "Iteración 76: [ 2.25954060e+10  1.41221288e+10 -1.55343416e+10], Error: 39028428568.13262\n",
      "Iteración 77: [-3.10686833e+10 -1.94179270e+10  2.13597197e+10], Error: 53664089281.18236\n",
      "Iteración 78: [ 4.27194395e+10  2.66996497e+10 -2.93696147e+10], Error: 73788122761.62573\n",
      "Iteración 79: [-5.87392293e+10 -3.67120183e+10  4.03832201e+10], Error: 101458668797.23538\n",
      "Iteración 80: [ 8.07664403e+10  5.04790252e+10 -5.55269277e+10], Error: 139505669596.19864\n",
      "Iteración 81: [-1.11053855e+11 -6.94086596e+10  7.63495256e+10], Error: 191820295694.77313\n",
      "Iteración 82: [ 1.52699051e+11  9.54369070e+10 -1.04980598e+11], Error: 263752906580.31308\n",
      "Iteración 83: [-2.09961195e+11 -1.31225747e+11  1.44348322e+11], Error: 362660246547.9305\n",
      "Iteración 84: [ 2.88696644e+11  1.80435402e+11 -1.98478942e+11], Error: 498657839003.4044\n",
      "Iteración 85: [-3.96957885e+11 -2.48098678e+11  2.72908546e+11], Error: 685654528629.681\n",
      "Iteración 86: [ 5.45817092e+11  3.41135682e+11 -3.75249251e+11], Error: 942774976865.8114\n",
      "Iteración 87: [-7.50498501e+11 -4.69061563e+11  5.15967720e+11], Error: 1296315593190.4907\n",
      "Iteración 88: [ 1.03193544e+12  6.44959650e+11 -7.09455615e+11], Error: 1782433940636.9248\n",
      "Iteración 89: [-1.41891123e+12 -8.86819518e+11  9.75501470e+11], Error: 2450846668375.7715\n",
      "Iteración 90: [ 1.95100294e+12  1.21937684e+12 -1.34131452e+12], Error: 3369914169016.6855\n",
      "Iteración 91: [-2.68262904e+12 -1.67664315e+12  1.84430747e+12], Error: 4633631982397.942\n",
      "Iteración 92: [ 3.68861493e+12  2.30538433e+12 -2.53592277e+12], Error: 6371243975797.17\n",
      "Iteración 93: [-5.07184553e+12 -3.16990346e+12  3.48689380e+12], Error: 8760460466721.109\n",
      "Iteración 94: [ 6.97378761e+12  4.35861726e+12 -4.79447898e+12], Error: 12045633141741.523\n",
      "Iteración 95: [-9.58895796e+12 -5.99309873e+12  6.59240860e+12], Error: 16562745569894.598\n",
      "Iteración 96: [ 1.31848172e+13  8.24051075e+12 -9.06456182e+12], Error: 22773775158605.07\n",
      "Iteración 97: [-1.81291236e+13 -1.13307023e+13  1.24637725e+13], Error: 31313940843081.973\n",
      "Iteración 98: [ 2.49275450e+13  1.55797156e+13 -1.71376872e+13], Error: 43056668659237.71\n",
      "Iteración 99: [-3.42753744e+13 -2.14221090e+13  2.35643199e+13], Error: 59202919406451.85\n",
      "Iteración 100: [ 4.71286398e+13  2.94553999e+13 -3.24009399e+13], Error: 81404014183871.3\n",
      "Iteración 101: [-6.48018797e+13 -4.05011748e+13  4.45512923e+13], Error: 111930519502823.03\n",
      "Iteración 102: [ 8.91025846e+13  5.56891154e+13 -6.12580269e+13], Error: 153904464316381.66\n",
      "Iteración 103: [-1.22516054e+14 -7.65725336e+13  8.42297870e+13], Error: 211618638435024.75\n",
      "Iteración 104: [ 1.68459574e+14  1.05287234e+14 -1.15815957e+14], Error: 290975627848159.0\n",
      "Iteración 105: [-2.31631914e+14 -1.44769946e+14  1.59246941e+14], Error: 400091488291218.6\n",
      "Iteración 106: [ 3.18493882e+14  1.99058676e+14 -2.18964544e+14], Error: 550125796400425.6\n",
      "Iteración 107: [-4.37929088e+14 -2.73705680e+14  3.01076248e+14], Error: 756422970050585.2\n",
      "Iteración 108: [ 6.02152496e+14  3.76345310e+14 -4.13979841e+14], Error: 1040081583819555.0\n",
      "Iteración 109: [-8.27959682e+14 -5.17474801e+14  5.69222281e+14], Error: 1430112177751888.0\n",
      "Iteración 110: [ 1.13844456e+15  7.11527852e+14 -7.82680637e+14], Error: 1966404244408846.0\n",
      "Iteración 111: [-1.56536127e+15 -9.78350796e+14  1.07618588e+15], Error: 2703805836062163.0\n",
      "Iteración 112: [ 2.15237175e+15  1.34523234e+15 -1.47975558e+15], Error: 3717733024585474.5\n",
      "Iteración 113: [-2.95951116e+15 -1.84969447e+15  2.03466392e+15], Error: 5111882908805028.0\n",
      "Iteración 114: [ 4.06932784e+15  2.54332990e+15 -2.79766289e+15], Error: 7028838999606913.0\n",
      "Iteración 115: [-5.59532578e+15 -3.49707861e+15  3.84678648e+15], Error: 9664653624459506.0\n",
      "Iteración 116: [ 7.69357295e+15  4.80848309e+15 -5.28933140e+15], Error: 1.328889873363182e+16\n",
      "Iteración 117: [-1.05786628e+16 -6.61166425e+15  7.27283068e+15], Error: 1.827223575874375e+16\n",
      "Iteración 118: [ 1.45456614e+16  9.09103835e+15 -1.00001422e+16], Error: 2.5124324168272656e+16\n",
      "Iteración 119: [-2.00002844e+16 -1.25001777e+16  1.37501955e+16], Error: 3.4545945731374904e+16\n",
      "Iteración 120: [ 2.75003910e+16  1.71877444e+16 -1.89065188e+16], Error: 4.75006753806405e+16\n",
      "Iteración 121: [-3.78130376e+16 -2.36331485e+16  2.59964634e+16], Error: 6.531342864838067e+16\n",
      "Iteración 122: [ 5.19929268e+16  3.24955792e+16 -3.57451371e+16], Error: 8.980596439152342e+16\n",
      "Iteración 123: [-7.14902743e+16 -4.46814214e+16  4.91495636e+16], Error: 1.234832010383447e+17\n",
      "Iteración 124: [ 9.82991271e+16  6.14369545e+16 -6.75806499e+16], Error: 1.6978940142772397e+17\n",
      "Iteración 125: [-1.35161300e+17 -8.44758124e+16  9.29233936e+16], Error: 2.3346042696312045e+17\n",
      "Iteración 126: [ 1.85846787e+17  1.16154242e+17 -1.27769666e+17], Error: 3.2100808707429056e+17\n",
      "Iteración 127: [-2.55539332e+17 -1.59712083e+17  1.75683291e+17], Error: 4.413861197271495e+17\n",
      "Iteración 128: [ 3.51366582e+17  2.19604114e+17 -2.41564525e+17], Error: 6.069059146248305e+17\n",
      "Iteración 129: [-4.83129050e+17 -3.01955657e+17  3.32151222e+17], Error: 8.34495632609142e+17\n",
      "Iteración 130: [ 6.64302444e+17  4.15189028e+17 -4.56707931e+17], Error: 1.1474314948375703e+18\n",
      "Iteración 131: [-9.13415861e+17 -5.70884913e+17  6.27973404e+17], Error: 1.5777183054016591e+18\n",
      "Iteración 132: [ 1.25594681e+18  7.84966756e+17 -8.63463431e+17], Error: 2.1693626699272814e+18\n",
      "Iteración 133: [-1.72692686e+18 -1.07932929e+18  1.18726222e+18], Error: 2.982873671150012e+18\n",
      "Iteración 134: [ 2.37452444e+18  1.48407777e+18 -1.63248555e+18], Error: 4.1014512978312663e+18\n",
      "Iteración 135: [-3.26497110e+18 -2.04060694e+18  2.24466763e+18], Error: 5.639495534517991e+18\n",
      "Iteración 136: [ 4.48933526e+18  2.80583454e+18 -3.08641799e+18], Error: 7.754306359962237e+18\n",
      "Iteración 137: [-6.17283598e+18 -3.85802249e+18  4.24382474e+18], Error: 1.0662171244948074e+19\n",
      "Iteración 138: [ 8.48764948e+18  5.30478092e+18 -5.83525902e+18], Error: 1.4660485461803604e+19\n",
      "Iteración 139: [-1.16705180e+19 -7.29407377e+18  8.02348115e+18], Error: 2.0158167509979955e+19\n",
      "Iteración 140: [ 1.60469623e+19  1.00293514e+19 -1.10322866e+19], Error: 2.771748032622244e+19\n",
      "Iteración 141: [-2.20645732e+19 -1.37903582e+19  1.51693940e+19], Error: 3.8111535448555856e+19\n",
      "Iteración 142: [ 3.03387881e+19  1.89617426e+19 -2.08579168e+19], Error: 5.240336124176431e+19\n",
      "Iteración 143: [-4.17158336e+19 -2.60723960e+19  2.86796356e+19], Error: 7.205462170742592e+19\n",
      "Iteración 144: [ 5.73592712e+19  3.58495445e+19 -3.94344990e+19], Error: 9.907510484771065e+19\n",
      "Iteración 145: [-7.88689979e+19 -4.92931237e+19  5.42224361e+19], Error: 1.3622826916560213e+20\n",
      "Iteración 146: [ 1.08444872e+20  6.77780451e+19 -7.45558496e+19], Error: 1.873138701027029e+20\n",
      "Iteración 147: [-1.49111699e+20 -9.31948120e+19  1.02514293e+20], Error: 2.5755657139121652e+20\n",
      "Iteración 148: [ 2.05028586e+20  1.28142867e+20 -1.40957153e+20], Error: 3.5414028566292274e+20\n",
      "Iteración 149: [-2.81914306e+20 -1.76196441e+20  1.93816086e+20], Error: 4.869428927865188e+20\n",
      "Iteración 150: [ 3.87632171e+20  2.42270107e+20 -2.66497118e+20], Error: 6.695464775814635e+20\n",
      "Iteración 151: [-5.32994235e+20 -3.33121397e+20  3.66433537e+20], Error: 9.206264066745122e+20\n",
      "Iteración 152: [ 7.32867074e+20  4.58041921e+20 -5.03846113e+20], Error: 1.2658613091774544e+21\n",
      "Iteración 153: [-1.00769223e+21 -6.29807641e+20  6.92788406e+20], Error: 1.7405593001189997e+21\n",
      "Iteración 154: [ 1.38557681e+21  8.65985507e+20 -9.52584058e+20], Error: 2.3932690376636246e+21\n",
      "Iteración 155: [-1.90516812e+21 -1.19073007e+21  1.30980308e+21], Error: 3.290744926787484e+21\n",
      "Iteración 156: [ 2.61960616e+21  1.63725385e+21 -1.80097923e+21], Error: 4.52477427433279e+21\n",
      "Iteración 157: [-3.60195847e+21 -2.25122404e+21  2.47634645e+21], Error: 6.221564627207586e+21\n",
      "Iteración 158: [ 4.95269289e+21  3.09543306e+21 -3.40497636e+21], Error: 8.554651362410432e+21\n",
      "Iteración 159: [-6.80995273e+21 -4.25622046e+21  4.68184250e+21], Error: 1.1762645623314345e+22\n",
      "Iteración 160: [ 9.36368500e+21  5.85230313e+21 -6.43753344e+21], Error: 1.6173637732057223e+22\n",
      "Iteración 161: [-1.28750669e+22 -8.04691680e+21  8.85160848e+21], Error: 2.2238751881578683e+22\n",
      "Iteración 162: [ 1.77032170e+22  1.10645106e+22 -1.21709617e+22], Error: 3.057828383717069e+22\n",
      "Iteración 163: [-2.43419233e+22 -1.52137021e+22  1.67350723e+22], Error: 4.20451402761097e+22\n",
      "Iteración 164: [ 3.34701446e+22  2.09188404e+22 -2.30107244e+22], Error: 5.781206787965084e+22\n",
      "Iteración 165: [-4.60214488e+22 -2.87634055e+22  3.16397460e+22], Error: 7.94915933345199e+22\n",
      "Iteración 166: [ 6.32794921e+22  3.95496825e+22 -4.35046508e+22], Error: 1.0930094083496486e+23\n",
      "Iteración 167: [-8.70093016e+22 -5.43808135e+22  5.98188948e+22], Error: 1.5028879364807669e+23\n",
      "Iteración 168: [ 1.19637790e+23  7.47736186e+22 -8.22509804e+22], Error: 2.0664709126610545e+23\n",
      "Iteración 169: [-1.64501961e+23 -1.02813726e+23  1.13095098e+23], Error: 2.84139750490895e+23\n",
      "Iteración 170: [ 2.26190196e+23  1.41368873e+23 -1.55505760e+23], Error: 3.906921569249806e+23\n",
      "Iteración 171: [-3.1101152e+23 -1.9438220e+23  2.1382042e+23], Error: 5.3720171577184835e+23\n",
      "Iteración 172: [ 4.27640840e+23  2.67275525e+23 -2.94003077e+23], Error: 7.386523591862916e+23\n",
      "Iteración 173: [-5.88006154e+23 -3.67503846e+23  4.04254231e+23], Error: 1.0156469938811508e+24\n",
      "Iteración 174: [ 8.08508462e+23  5.05317789e+23 -5.55849568e+23], Error: 1.3965146165865824e+24\n",
      "Iteración 175: [-1.11169914e+24 -6.94811960e+23  7.64293156e+23], Error: 1.9202075978065506e+24\n",
      "Iteración 176: [ 1.52858631e+24  9.55366445e+23 -1.05090309e+24], Error: 2.6402854469840076e+24\n",
      "Iteración 177: [-2.10180618e+24 -1.31362886e+24  1.44499175e+24], Error: 3.6303924896030104e+24\n",
      "Iteración 178: [ 2.88998350e+24  1.80623968e+24 -1.98686365e+24], Error: 4.991789673204139e+24\n",
      "Iteración 179: [-3.97372731e+24 -2.48357957e+24  2.73193752e+24], Error: 6.863710800655691e+24\n",
      "Iteración 180: [ 5.46387505e+24  3.41492190e+24 -3.75641409e+24], Error: 9.437602350901575e+24\n",
      "Iteración 181: [-7.51282819e+24 -4.69551762e+24  5.16506938e+24], Error: 1.2976703232489666e+25\n",
      "Iteración 182: [ 1.03301388e+25  6.45633672e+24 -7.10197040e+24], Error: 1.784296694467329e+25\n",
      "Iteración 183: [-1.42039408e+25 -8.87746299e+24  9.76520929e+24], Error: 2.4534079548925772e+25\n",
      "Iteración 184: [ 1.95304186e+25  1.22065116e+25 -1.34271628e+25], Error: 3.3734359379772936e+25\n",
      "Iteración 185: [-2.68543256e+25 -1.67839535e+25  1.84623488e+25], Error: 4.6384744147187785e+25\n",
      "Iteración 186: [ 3.69246976e+25  2.30779360e+25 -2.53857296e+25], Error: 6.37790232023832e+25\n",
      "Iteración 187: [-5.07714593e+25 -3.17321620e+25  3.49053782e+25], Error: 8.76961569032769e+25\n",
      "Iteración 188: [ 6.98107565e+25  4.36317228e+25 -4.79948951e+25], Error: 1.2058221574200573e+26\n",
      "Iteración 189: [-9.59897902e+25 -5.99936189e+25  6.59929807e+25], Error: 1.6580054664525787e+26\n",
      "Iteración 190: [ 1.31985961e+26  8.24912259e+25 -9.07403485e+25], Error: 2.2797575163722955e+26\n",
      "Iteración 191: [-1.81480697e+26 -1.13425436e+26  1.24767979e+26], Error: 3.134666585011907e+26\n",
      "Iteración 192: [ 2.49535958e+26  1.55959974e+26 -1.71555971e+26], Error: 4.3101665543913714e+26\n",
      "Iteración 193: [-3.43111943e+26 -2.14444964e+26  2.35889461e+26], Error: 5.926479012288136e+26\n",
      "Iteración 194: [ 4.71778921e+26  2.94861826e+26 -3.24348008e+26], Error: 8.148908641896185e+26\n",
      "Iteración 195: [-6.48696017e+26 -4.05435011e+26  4.45978512e+26], Error: 1.1204749382607254e+27\n",
      "Iteración 196: [ 8.91957023e+26  5.57473140e+26 -6.13220453e+26], Error: 1.5406530401084973e+27\n",
      "Iteración 197: [-1.22644091e+27 -7.66525567e+26  8.43178124e+26], Error: 2.1183979301491837e+27\n",
      "Iteración 198: [ 1.68635625e+27  1.05397265e+27 -1.15936992e+27], Error: 2.9127971539551277e+27\n",
      "Iteración 199: [-2.31873984e+27 -1.44921240e+27  1.59413364e+27], Error: 4.0050960866883e+27\n",
      "Iteración 200: [ 3.18826728e+27  1.99266705e+27 -2.19193375e+27], Error: 5.507007119196413e+27\n",
      "Iteración 201: [-4.38386751e+27 -2.73991719e+27  3.01390891e+27], Error: 7.572134788895067e+27\n",
      "Iteración 202: [ 6.02781783e+27  3.76738614e+27 -4.14412475e+27], Error: 1.0411685334730717e+28\n",
      "Iteración 203: [-8.28824951e+27 -5.18015594e+27  5.69817154e+27], Error: 1.4316067335254739e+28\n",
      "Iteración 204: [ 1.13963431e+28  7.12271442e+27 -7.83498586e+27], Error: 1.9684592585975265e+28\n",
      "Iteración 205: [-1.56699717e+28 -9.79373233e+27  1.07731056e+28], Error: 2.706631480571599e+28\n",
      "Iteración 206: [ 2.15462111e+28  1.34663820e+28 -1.48130202e+28], Error: 3.7216182857859485e+28\n",
      "Iteración 207: [-2.96260403e+28 -1.85162752e+28  2.03679027e+28], Error: 5.117225142955679e+28\n",
      "Iteración 208: [ 4.07358054e+28  2.54598784e+28 -2.80058662e+28], Error: 7.036184571564059e+28\n",
      "Iteración 209: [-5.60117324e+28 -3.50073328e+28  3.85080661e+28], Error: 9.67475378590058e+28\n",
      "Iteración 210: [ 7.70161321e+28  4.81350826e+28 -5.29485908e+28], Error: 1.3302786455613299e+29\n",
      "Iteración 211: [-1.05897182e+29 -6.61857385e+28  7.28043124e+28], Error: 1.8291331376468286e+29\n",
      "Iteración 212: [ 1.45608625e+29  9.10053905e+28 -1.00105930e+29], Error: 2.5150580642643892e+29\n",
      "Iteración 213: [-2.00211859e+29 -1.25132412e+29  1.37645653e+29], Error: 3.4582048383635354e+29\n",
      "Iteración 214: [ 2.75291306e+29  1.72057066e+29 -1.89262773e+29], Error: 4.755031652749861e+29\n",
      "Iteración 215: [-3.78525546e+29 -2.36578466e+29  2.60236313e+29], Error: 6.53816852253106e+29\n",
      "Iteración 216: [ 5.20472626e+29  3.25295391e+29 -3.57824930e+29], Error: 8.989981718480208e+29\n",
      "Iteración 217: [-7.15649860e+29 -4.47281163e+29  4.92009279e+29], Error: 1.2361224862910286e+30\n",
      "Iteración 218: [ 9.84018558e+29  6.15011599e+29 -6.76512759e+29], Error: 1.6996684186501643e+30\n",
      "Iteración 219: [-1.35302552e+30 -8.45640948e+29  9.30205043e+29], Error: 2.337044075643976e+30\n",
      "Iteración 220: [ 1.86041009e+30  1.16275630e+30 -1.27903193e+30], Error: 3.213435604010467e+30\n",
      "Iteración 221: [-2.55806387e+30 -1.59878992e+30  1.75866891e+30], Error: 4.418473955514392e+30\n",
      "Iteración 222: [ 3.51733782e+30  2.19833614e+30 -2.41816975e+30], Error: 6.075401688832289e+30\n",
      "Iteración 223: [-4.83633950e+30 -3.02271219e+30  3.32498341e+30], Error: 8.353677322144398e+30\n",
      "Iteración 224: [ 6.64996682e+30  4.15622926e+30 -4.57185219e+30], Error: 1.1486306317948546e+31\n",
      "Iteración 225: [-9.14370437e+30 -5.71481523e+30  6.28629676e+30], Error: 1.579367118717925e+31\n",
      "Iteración 226: [ 1.25725935e+31  7.85787094e+30 -8.64365804e+30], Error: 2.1716297882371474e+31\n",
      "Iteración 227: [-1.72873161e+31 -1.08045725e+31  1.18850298e+31], Error: 2.9859909588260775e+31\n",
      "Iteración 228: [ 2.37700596e+31  1.48562873e+31 -1.63419160e+31], Error: 4.105737568385856e+31\n",
      "Iteración 229: [-3.26838320e+31 -2.04273950e+31  2.24701345e+31], Error: 5.645389156530553e+31\n",
      "Iteración 230: [ 4.49402689e+31  2.80876681e+31 -3.08964349e+31], Error: 7.76241009022951e+31\n",
      "Iteración 231: [-6.17928698e+31 -3.86205436e+31  4.24825980e+31], Error: 1.0673313874065577e+32\n",
      "Iteración 232: [ 8.49651960e+31  5.31032475e+31 -5.84135722e+31], Error: 1.4675806576840166e+32\n",
      "Iteración 233: [-1.16827144e+32 -7.30169653e+31  8.03186618e+31], Error: 2.0179234043155228e+32\n",
      "Iteración 234: [ 1.60637324e+32  1.00398327e+32 -1.10438160e+32], Error: 2.7746446809338437e+32\n",
      "Iteración 235: [-2.2087632e+32 -1.3804770e+32  1.5185247e+32], Error: 3.815136436284035e+32\n",
      "Iteración 236: [ 3.03704940e+32  1.89815587e+32 -2.08797146e+32], Error: 5.245812599890549e+32\n",
      "Iteración 237: [-4.17594292e+32 -2.60996433e+32  2.87096076e+32], Error: 7.212992324849504e+32\n",
      "Iteración 238: [ 5.74192152e+32  3.58870095e+32 -3.94757105e+32], Error: 9.917864446668069e+32\n",
      "Iteración 239: [-7.89514209e+32 -4.93446381e+32  5.42791019e+32], Error: 1.3637063614168595e+33\n",
      "Iteración 240: [ 1.08558204e+33  6.78488774e+32 -7.46337651e+32], Error: 1.875096246948182e+33\n",
      "Iteración 241: [-1.49267530e+33 -9.32922064e+32  1.02621427e+33], Error: 2.5782573395537502e+33\n",
      "Iteración 242: [ 2.05242854e+33  1.28276784e+33 -1.41104462e+33], Error: 3.5451038418864064e+33\n",
      "Iteración 243: [-2.82208924e+33 -1.76380578e+33  1.94018635e+33], Error: 4.874517782593809e+33\n",
      "Iteración 244: [ 3.88037271e+33  2.42523294e+33 -2.66775624e+33], Error: 6.702461951066487e+33\n",
      "Iteración 245: [-5.33551247e+33 -3.33469530e+33  3.66816483e+33], Error: 9.21588518271642e+33\n",
      "Iteración 246: [ 7.33632965e+33  4.58520603e+33 -5.04372664e+33], Error: 1.2671842126235078e+34\n",
      "Iteración 247: [-1.00874533e+34 -6.30465829e+33  6.93512412e+33], Error: 1.7423782923573235e+34\n",
      "Iteración 248: [ 1.38702482e+34  8.66890516e+33 -9.53579567e+33], Error: 2.3957701519913197e+34\n",
      "Iteración 249: [-1.90715913e+34 -1.19197446e+34  1.31117190e+34], Error: 3.294183958988064e+34\n",
      "Iteración 250: [ 2.62234381e+34  1.63896488e+34 -1.80286137e+34], Error: 4.529502943608588e+34\n",
      "Iteración 251: [-3.60572274e+34 -2.25357671e+34  2.47893438e+34], Error: 6.228066547461809e+34\n",
      "Iteración 252: [ 4.95786876e+34  3.09866798e+34 -3.40853478e+34], Error: 8.563591502759986e+34\n",
      "Iteración 253: [-6.81706955e+34 -4.26066847e+34  4.68673532e+34], Error: 1.1774938316294979e+35\n",
      "Iteración 254: [ 9.37347063e+34  5.85841915e+34 -6.44426106e+34], Error: 1.61905401849056e+35\n",
      "Iteración 255: [-1.28885221e+35 -8.05532633e+34  8.86085896e+34], Error: 2.22619927542452e+35\n",
      "Iteración 256: [ 1.77217179e+35  1.10760737e+35 -1.21836811e+35], Error: 3.061024003708715e+35\n",
      "Iteración 257: [-2.43673621e+35 -1.52296013e+35  1.67525615e+35], Error: 4.2089080050994826e+35\n",
      "Iteración 258: [ 3.35051229e+35  2.09407018e+35 -2.30347720e+35], Error: 5.787248507011789e+35\n",
      "Iteración 259: [-4.60695440e+35 -2.87934650e+35  3.16728115e+35], Error: 7.95746669714121e+35\n",
      "Iteración 260: [ 6.33456230e+35  3.95910144e+35 -4.35501158e+35], Error: 1.0941516708569163e+36\n",
      "Iteración 261: [-8.71002317e+35 -5.44376448e+35  5.98814093e+35], Error: 1.5044585474282598e+36\n",
      "Iteración 262: [ 1.19762819e+36  7.48517616e+35 -8.23369378e+35], Error: 2.0686305027138573e+36\n",
      "Iteración 263: [-1.64673876e+36 -1.02921172e+36  1.13213289e+36], Error: 2.844366941231554e+36\n",
      "Iteración 264: [ 2.26426579e+36  1.41516612e+36 -1.55668273e+36], Error: 3.911004544193387e+36\n",
      "Iteración 265: [-3.11336546e+36 -1.94585341e+36  2.14043875e+36], Error: 5.377631248265908e+36\n",
      "Iteración 266: [ 4.28087751e+36  2.67554844e+36 -2.94310329e+36], Error: 7.394242966365623e+36\n",
      "Iteración 267: [-5.88620657e+36 -3.67887911e+36  4.04676702e+36], Error: 1.0167084078752732e+37\n",
      "Iteración 268: [ 8.09353404e+36  5.05845877e+36 -5.56430465e+36], Error: 1.3979740608285008e+37\n",
      "Iteración 269: [-1.11286093e+37 -6.95538081e+36  7.65091889e+36], Error: 1.9222143336391887e+37\n",
      "Iteración 270: [ 1.53018378e+37  9.56364862e+36 -1.05200135e+37], Error: 2.643044708753884e+37\n",
      "Iteración 271: [-2.10400270e+37 -1.31500168e+37  1.44650185e+37], Error: 3.634186474536591e+37\n",
      "Iteración 272: [ 2.89300371e+37  1.80812732e+37 -1.98894005e+37], Error: 4.997006402487813e+37\n",
      "Iteración 273: [-3.97788010e+37 -2.48617506e+37  2.73479257e+37], Error: 6.870883803420742e+37\n",
      "Iteración 274: [ 5.46958513e+37  3.41849071e+37 -3.76033978e+37], Error: 9.44746522970352e+37\n",
      "Iteración 275: [-7.52067956e+37 -4.70042472e+37  5.17046720e+37], Error: 1.2990264690842341e+38\n",
      "Iteración 276: [ 1.03409344e+38  6.46308400e+37 -7.10939239e+37], Error: 1.786161394990822e+38\n",
      "Iteración 277: [-1.42187848e+38 -8.88674049e+37  9.77541454e+37], Error: 2.4559719181123796e+38\n",
      "Iteración 278: [ 1.95508291e+38  1.22192682e+38 -1.34411950e+38], Error: 3.376961387404522e+38\n",
      "Iteración 279: [-2.68823900e+38 -1.68014937e+38  1.84816431e+38], Error: 4.6433219076812175e+38\n",
      "Iteración 280: [ 3.69632862e+38  2.31020539e+38 -2.54122593e+38], Error: 6.384567623061674e+38\n",
      "Iteración 281: [-5.08245186e+38 -3.17653241e+38  3.49418565e+38], Error: 8.7787804817098e+38\n",
      "Iteración 282: [ 6.98837130e+38  4.36773207e+38 -4.80450527e+38], Error: 1.2070823162350975e+39\n",
      "Iteración 283: [-9.60901054e+38 -6.00563159e+38  6.60619475e+38], Error: 1.6597381848232588e+39\n",
      "Iteración 284: [ 1.32123895e+39  8.25774344e+38 -9.08351778e+38], Error: 2.2821400041319808e+39\n",
      "Iteración 285: [-1.81670356e+39 -1.13543972e+39  1.24898369e+39], Error: 3.137942505681474e+39\n",
      "Iteración 286: [ 2.49796739e+39  1.56122962e+39 -1.71735258e+39], Error: 4.3146709453120264e+39\n",
      "Iteración 287: [-3.43470516e+39 -2.14669073e+39  2.36135980e+39], Error: 5.932672549804036e+39\n",
      "Iteración 288: [ 4.72271960e+39  2.95169975e+39 -3.24686972e+39], Error: 8.157424755980549e+39\n",
      "Iteración 289: [-6.49373944e+39 -4.05858715e+39  4.46444587e+39], Error: 1.1216459039473256e+40\n",
      "Iteración 290: [ 8.92889174e+39  5.58055733e+39 -6.13861307e+39], Error: 1.5422631179275728e+40\n",
      "Iteración 291: [-1.22772261e+40 -7.67326634e+39  8.44059297e+39], Error: 2.1206117871504123e+40\n",
      "Iteración 292: [ 1.68811859e+40  1.05507412e+40 -1.16058153e+40], Error: 2.9158412073318173e+40\n",
      "Iteración 293: [-2.32116307e+40 -1.45072692e+40  1.59579961e+40], Error: 4.009281660081249e+40\n",
      "Iteración 294: [ 3.19159922e+40  1.99474951e+40 -2.19422446e+40], Error: 5.512762282611717e+40\n",
      "Iteración 295: [-4.38844892e+40 -2.74278058e+40  3.01705863e+40], Error: 7.580048138591111e+40\n",
      "Iteración 296: [ 6.03411727e+40  3.77132329e+40 -4.14845562e+40], Error: 1.0422566190562778e+41\n",
      "Iteración 297: [-8.29691124e+40 -5.18556953e+40  5.70412648e+40], Error: 1.433102851202382e+41\n",
      "Iteración 298: [ 1.14082530e+41  7.13015810e+40 -7.84317391e+40], Error: 1.9705164204032755e+41\n",
      "Iteración 299: [-1.56863478e+41 -9.80396739e+40  1.07843641e+41], Error: 2.7094600780545033e+41\n",
      "Iteración 300: [ 2.15687283e+41  1.34804552e+41 -1.48285007e+41], Error: 3.725507607324942e+41\n"
     ]
    },
    {
     "data": {
      "text/plain": [
       "array([ 2.15687283e+41,  1.34804552e+41, -1.48285007e+41])"
      ]
     },
     "execution_count": 20,
     "metadata": {},
     "output_type": "execute_result"
    }
   ],
   "source": [
    "A = np.array([[1, 0, -2],\n",
    "              [-0.5, 1, -0.25],\n",
    "              [1, -0.5, 1]], dtype=float)\n",
    "\n",
    "b = np.array([0.2, -1.425, 2], dtype=float)\n",
    "x0 = np.zeros(len(b))\n",
    "tol = 1e-2 \n",
    "max_iterations = 300\n",
    "\n",
    "strictly_dominant = is_strictly_diagonally_dominant(A)\n",
    "print(f\"¿La nueva matriz es diagonal estrictamente dominante? {strictly_dominant}\")\n",
    "gauss_seidel_method_with_tolerance(A, b, x0, tol, max_iterations)"
   ]
  },
  {
   "cell_type": "markdown",
   "metadata": {},
   "source": [
    "7. Repita el ejercicio 11 usando el método de Jacobi."
   ]
  },
  {
   "cell_type": "markdown",
   "metadata": {},
   "source": [
    "b) Utilice el método iterativo de Gauss-Jacobi para aproximar la solución para el sistema lineal con\n",
    "una tolerancia de 1022 y un máximo de 300 iteraciones."
   ]
  },
  {
   "cell_type": "code",
   "execution_count": 21,
   "metadata": {},
   "outputs": [
    {
     "name": "stdout",
     "output_type": "stream",
     "text": [
      "Iteración 1: [ 0.2   -1.425  2.   ], Error: 2.0\n",
      "Iteración 2: [ 4.2    -0.825   1.0875], Error: 4.0\n",
      "Iteración 3: [ 2.375     0.946875 -2.6125  ], Error: 3.6999999999999997\n",
      "Iteración 4: [-5.025     -0.890625   0.0984375], Error: 7.3999999999999995\n",
      "Iteración 5: [ 0.396875   -3.91289062  6.5796875 ], Error: 6.481249999999999\n",
      "Iteración 6: [13.359375    0.41835938 -0.35332031], Error: 12.962499999999999\n",
      "Iteración 7: [ -0.50664063   5.16635742 -11.15019531], Error: 13.866015625\n",
      "Iteración 8: [-22.10039062  -4.46586914   5.08981934], Error: 21.593749999999996\n",
      "Iteración 9: [ 10.37963867 -11.20274048  21.86745605], Error: 32.480029296874996\n",
      "Iteración 10: [ 43.93491211   9.23168335 -13.98100891], Error: 35.848464965820305\n",
      "Iteración 11: [-27.76201782  17.04720383 -37.31907043], Error: 71.69692993164061\n",
      "Iteración 12: [-74.43814087 -24.63577652  38.28561974], Error: 75.60469017028808\n",
      "Iteración 13: [ 76.77123947 -29.0726655   64.12025261], Error: 151.20938034057616\n",
      "Iteración 14: [128.44050522  52.99068289 -89.30757222], Error: 153.42782483100888\n",
      "Iteración 15: [-178.41514444   40.46835955  -99.94516377], Error: 306.85564966201775\n",
      "Iteración 16: [-199.69032755 -115.61886317  200.64932422], Error: 300.5944879949092\n",
      "Iteración 17: [401.49864844 -51.10783272 143.88089597], Error: 601.1889759898183\n",
      "Iteración 18: [ 287.96179193  235.29454821 -425.0525648 ], Error: 568.9334607668219\n",
      "Iteración 19: [-849.9051296    36.29275477 -168.31451783], Error: 1137.8669215336438\n",
      "Iteración 20: [-336.42903565 -468.45619426  870.05150698], Error: 1038.3660248107271\n",
      "Iteración 21: [1740.30301397   47.87335892  104.20093852], Error: 2076.7320496214543\n",
      "Iteración 22: [  208.60187705   894.77674162 -1714.36633451], Error: 1818.5672730331419\n",
      "Iteración 23: [-3428.53266902  -325.7156451    240.78649376], Error: 3637.1345460662837\n",
      "Iteración 24: [  481.77298752 -1655.49471107  3267.67484647], Error: 3910.3056565340603\n",
      "Iteración 25: [ 6535.54969293  1056.38020537 -1307.52034305], Error: 6053.776705414727\n",
      "Iteración 26: [-2614.8406861   2939.4697607  -6005.35959024], Error: 9150.390379034505\n",
      "Iteración 27: [-12010.51918049  -2810.18524061   4086.57556645], Error: 10091.93515669853\n",
      "Iteración 28: [ 8173.35113291 -4985.04069863 10607.42656018], Error: 20183.87031339706\n",
      "Iteración 29: [ 21215.05312036   6737.1072065  -10663.87148222], Error: 21271.29804240614\n",
      "Iteración 30: [-21327.54296445   7940.13368963 -17844.49951711], Error: 42542.59608481228\n",
      "Iteración 31: [-35688.79903423 -15126.3213615   25299.60980926], Error: 43144.10932637544\n",
      "Iteración 32: [ 50599.41961852 -11520.9220648   28127.63835348], Error: 86288.21865275087\n",
      "Iteración 33: [ 56255.47670696  32330.19439763 -56357.88065092], Error: 84485.51900439919\n",
      "Iteración 34: [-112715.56130184   14036.84319075  -40088.37950814], Error: 168971.03800879838\n",
      "Iteración 35: [-80176.55901628 -66381.30052796 119735.98289722], Error: 159824.36240535675\n",
      "Iteración 36: [239472.16579443 -10155.70878384  46987.9087523 ], Error: 319648.7248107135\n",
      "Iteración 37: [  93976.0175046   131481.63508529 -244548.02018635], Error: 291535.9289386531\n",
      "Iteración 38: [-489095.8403727   -14150.42129429  -28233.19996196], Error: 583071.8578773062\n",
      "Iteración 39: [ -56466.19992391 -251607.64517684  482022.62972556], Error: 510255.8296875169\n",
      "Iteración 40: [964045.45945112  92271.13246943 -69335.62266451], Error: 1020511.6593750338\n",
      "Iteración 41: [-138671.04532901  464687.39905943 -917907.8932164 ], Error: 1102716.504780132\n",
      "Iteración 42: [-1835815.58643281  -298813.92096861   371016.74485873], Error: 1697144.541103794\n",
      "Iteración 43: [ 742033.68971746 -825155.03200172 1686410.6259485 ], Error: 2577849.276150265\n",
      "Iteración 44: [ 3372821.45189701   792618.07634585 -1154609.20571832], Error: 2841019.8316668216\n",
      "Iteración 45: [-2309218.21143664  1397756.99951892 -2976510.41372408], Error: 5682039.663333643\n",
      "Iteración 46: [-5953020.62744816 -1898738.13414934  3008098.7111961 ], Error: 5984609.124920177\n",
      "Iteración 47: [ 6016197.6223922  -2224487.06092505  5003653.56037349], Error: 11969218.249840355\n",
      "Iteración 48: [10007307.32074698  4259010.77628947 -7128439.15285472], Error: 12132092.713228213\n",
      "Iteración 49: [-14256878.10570945   3221542.44715981  -7877799.93260224], Error: 24264185.426456425\n",
      "Iteración 50: [-15755599.66520448  -9097890.46100529  15867651.32928935], Error: 23745451.261891596\n",
      "Iteración 51: [31735302.8585787  -3910888.4252799  11206656.43470184], Error: 47490902.52378319\n",
      "Iteración 52: [ 22413313.06940368  18669314.11296481 -33690745.07121865], Error: 44897401.5059205\n",
      "Iteración 53: [-67381489.9424373    2783968.84189718 -13078654.01292128], Error: 89794803.01184098\n",
      "Iteración 54: [-26157307.82584255 -36960409.89944897  68773476.3633859 ], Error: 81852130.37630717\n",
      "Iteración 55: [1.37546953e+08 4.11471375e+06 7.67710488e+06], Error: 163704260.75261435\n",
      "Iteración 56: [ 1.53542100e+07  7.06927513e+07 -1.35489594e+08], Error: 143166698.92642725\n",
      "Iteración 57: [-2.70979188e+08 -2.61952950e+07  1.99921677e+07], Error: 286333397.8528545\n",
      "Iteración 58: [ 3.99843356e+07 -1.30491553e+08  2.57881542e+08], Error: 310963523.45356154\n",
      "Iteración 59: [ 5.15763085e+08  8.44625520e+07 -1.05230110e+08], Error: 475778749.48683435\n",
      "Iteración 60: [-2.10460220e+08  2.31574014e+08 -4.73531807e+08], Error: 726223305.4018551\n",
      "Iteración 61: [-9.47063614e+08 -2.23613063e+08  3.26247229e+08], Error: 799779036.1859478\n",
      "Iteración 62: [ 6.52494458e+08 -3.91970001e+08  8.35257084e+08], Error: 1599558072.3718956\n",
      "Iteración 63: [ 1.67051417e+09  5.35061499e+08 -8.48479457e+08], Error: 1683736541.2389104\n",
      "Iteración 64: [-1.69695891e+09  6.23137219e+08 -1.40298342e+09], Error: 3367473082.477821\n",
      "Iteración 65: [-2.80596683e+09 -1.19922531e+09  2.00852753e+09], Error: 3411510942.37946\n",
      "Iteración 66: [ 4.01705505e+09 -9.00851537e+08  2.20635418e+09], Error: 6823021884.75892\n",
      "Iteración 67: [ 4.41270836e+09  2.56011607e+09 -4.46748082e+09], Error: 6673834997.083443\n",
      "Iteración 68: [-8.93496163e+09  1.08948397e+09 -3.13265032e+09], Error: 13347669994.166885\n",
      "Iteración 69: [-6.26530065e+09 -5.25064340e+09  9.47970362e+09], Error: 12612353946.950394\n",
      "Iteración 70: [ 1.89594072e+10 -7.62724419e+08  3.63997895e+09], Error: 25224707893.900787\n",
      "Iteración 71: [ 7.27995790e+09  1.03896984e+10 -1.93407695e+10], Error: 22980748403.847637\n",
      "Iteración 72: [-3.86815389e+10 -1.19521342e+09 -2.08510872e+09], Error: 45961496807.695274\n",
      "Iteración 73: [-4.17021744e+09 -1.98620466e+10  3.80839322e+10], Error: 40169040920.41029\n",
      "Iteración 74: [ 7.61678644e+10  7.43587433e+09 -5.76080588e+09], Error: 80338081840.82059\n",
      "Iteración 75: [-1.15216118e+10  3.66437307e+10 -7.24499272e+10], Error: 87689476165.68623\n",
      "Iteración 76: [-1.44899854e+11 -2.38732877e+10  2.98434771e+10], Error: 133378242715.0483\n",
      "Iteración 77: [ 5.96869543e+10 -6.49890580e+10  1.32963211e+11], Error: 204586808731.07196\n",
      "Iteración 78: [ 2.65926421e+11  6.30842798e+10 -9.21814832e+10], Error: 225144693864.14203\n",
      "Iteración 79: [-1.84362966e+11  1.09917840e+11 -2.34384281e+11], Error: 450289387728.28406\n",
      "Iteración 80: [-4.68768563e+11 -1.50777554e+11  2.39321886e+11], Error: 473706167747.23444\n",
      "Iteración 81: [ 4.78643773e+11 -1.74553810e+11  3.93379786e+11], Error: 947412335494.4689\n",
      "Iteración 82: [ 7.86759572e+11  3.37666833e+11 -5.65920678e+11], Error: 959300463594.6208\n",
      "Iteración 83: [-1.13184136e+12  2.51899617e+11 -6.17926155e+11], Error: 1918600927189.2417\n",
      "Iteración 84: [-1.23585231e+12 -7.20402217e+11  1.25779116e+12], Error: 1875717319027.4214\n",
      "Iteración 85: [ 2.51558233e+12 -3.03478365e+11  8.75651203e+11], Error: 3751434638054.8433\n",
      "Iteración 86: [ 1.75130241e+12  1.47670396e+12 -2.66732151e+12], Error: 3542972712091.183\n",
      "Iteración 87: [-5.33464302e+12  2.08820825e+11 -1.01295042e+12], Error: 7085945424182.366\n",
      "Iteración 88: [-2.02590085e+12 -2.92055912e+12  5.43905343e+12], Error: 6452003854737.502\n",
      "Iteración 89: [1.08781069e+13 3.46812935e+11 5.65621289e+11], Error: 12904007709475.004\n",
      "Iteración 90: [ 1.13124258e+12  5.58045875e+12 -1.07047004e+13], Error: 11270321684563.213\n",
      "Iteración 91: [-2.14094008e+13 -2.11055381e+12  1.65898680e+12], Error: 22540643369126.426\n",
      "Iteración 92: [ 3.31797360e+12 -1.02899537e+13  2.03541239e+13], Error: 24727374389324.77\n",
      "Iteración 93: [ 4.07082478e+13  6.74751777e+12 -8.46295045e+12], Error: 37390274174555.445\n",
      "Iteración 94: [-1.69259009e+13  1.82383863e+13 -3.73344889e+13], Error: 57634148664547.164\n",
      "Iteración 95: [-7.46689778e+13 -1.77965727e+13  2.60450940e+13], Error: 63379582916651.83\n",
      "Iteración 96: [ 5.20901881e+13 -3.08232154e+13  6.57706914e+13], Error: 126759165833303.66\n",
      "Iteración 97: [ 1.31541383e+14  4.24877669e+13 -6.75017957e+13], Error: 133272487189379.44\n",
      "Iteración 98: [-1.35003591e+14  4.88952425e+13 -1.10297499e+14], Error: 266544974378758.88\n",
      "Iteración 99: [-2.20594999e+14 -9.50761706e+13  1.59451213e+14], Error: 269748712185750.44\n",
      "Iteración 100: [ 3.18902425e+14 -7.04346962e+13  1.73056914e+14], Error: 539497424371500.9\n",
      "Iteración 101: [ 3.46113827e+14  2.02715441e+14 -3.54119774e+14], Error: 527176687192239.1\n",
      "Iteración 102: [-7.08239547e+14  8.45269702e+13 -2.44756107e+14], Error: 1054353374384478.2\n",
      "Iteración 103: [-4.89512213e+14 -4.15308800e+14  7.50503032e+14], Error: 995259138895522.9\n",
      "Iteración 104: [ 1.50100606e+15 -5.71303485e+13  2.81857813e+14], Error: 1990518277791045.8\n",
      "Iteración 105: [ 5.63715626e+14  8.20967486e+14 -1.52957124e+15], Error: 1811429051901557.5\n",
      "Iteración 106: [-3.05914248e+15 -1.00534997e+14 -1.53231883e+14], Error: 3622858103803115.5\n",
      "Iteración 107: [-3.06463766e+14 -1.56787921e+15  3.00887498e+15], Error: 3162106862653208.5\n",
      "Iteración 108: [ 6.01774996e+15  5.98986862e+14 -4.77475838e+14], Error: 6324213725306417.0\n",
      "Iteración 109: [-9.54951677e+14  2.88950602e+15 -5.71825653e+15], Error: 6972701635705520.0\n",
      "Iteración 110: [-1.14365131e+16 -1.90703997e+15  2.39970469e+15], Error: 1.0481561379268476e+16\n",
      "Iteración 111: [ 4.79940937e+15 -5.11833036e+15  1.04829931e+16], Error: 1.6235922429601058e+16\n",
      "Iteración 112: [ 2.09659861e+16  5.02045295e+15 -7.35857455e+15], Error: 1.784156762256811e+16\n",
      "Iteración 113: [-1.47171491e+16  8.64334943e+15 -1.84557597e+16], Error: 3.568313524513622e+16\n",
      "Iteración 114: [-3.69115193e+16 -1.19725145e+16  1.90388238e+16], Error: 3.749458348438411e+16\n",
      "Iteración 115: [ 3.80776476e+16 -1.36960537e+16  3.09252621e+16], Error: 7.498916696876822e+16\n",
      "Iteración 116: [ 6.18505242e+16  2.67701393e+16 -4.49256745e+16], Error: 7.585093658964928e+16\n",
      "Iteración 117: [-8.98513490e+16  1.96938435e+16 -4.84654545e+16], Error: 1.5170187317929856e+17\n",
      "Iteración 118: [-9.69309090e+16 -5.70420381e+16  9.96982707e+16], Error: 1.4816372524325488e+17\n",
      "Iteración 119: [ 1.99396541e+17 -2.35408868e+16  6.84098900e+16], Error: 2.9632745048650976e+17\n",
      "Iteración 120: [ 1.36819780e+17  1.16800743e+17 -2.11166985e+17], Error: 2.7957687484312403e+17\n",
      "Iteración 121: [-4.22333970e+17  1.56181438e+16 -7.84194083e+16], Error: 5.5915374968624806e+17\n",
      "Iteración 122: [-1.56838817e+17 -2.30771837e+17  4.30143042e+17], Error: 5.0856244995598483e+17\n",
      "Iteración 123: [8.60286083e+17 2.91163521e+16 4.14528982e+16], Error: 1.0171248999119697e+18\n",
      "Iteración 124: [ 8.29057964e+16  4.40506266e+17 -8.45727907e+17], Error: 8.871808054037715e+17\n",
      "Iteración 125: [-1.69145581e+18 -1.69979079e+17  1.37347337e+17], Error: 1.774361610807543e+18\n",
      "Iteración 126: [ 2.74694673e+17 -8.11391073e+17  1.60646628e+18], Error: 1.966150487745125e+18\n",
      "Iteración 127: [ 3.21293255e+18  5.38963905e+17 -6.80390210e+17], Error: 2.9382378768537057e+18\n",
      "Iteración 128: [-1.36078042e+18  1.43636872e+18 -2.94345060e+18], Error: 4.5737129699258813e+18\n",
      "Iteración 129: [-5.88690119e+18 -1.41625286e+18  2.07896478e+18], Error: 5.022415378518941e+18\n",
      "Iteración 130: [ 4.15792956e+18 -2.42370940e+18  5.17877477e+18], Error: 1.0044830757037881e+19\n",
      "Iteración 131: [ 1.03575495e+19  3.37365847e+18 -5.36978426e+18], Error: 1.0548559028530047e+19\n",
      "Iteración 132: [-1.07395685e+19  3.83632870e+18 -8.67072029e+18], Error: 2.1097118057060094e+19\n",
      "Iteración 133: [-1.73414406e+19 -7.53746434e+18  1.26577329e+19], Error: 2.1328453170641293e+19\n",
      "Iteración 134: [ 2.53154658e+19 -5.50628708e+18  1.35727084e+19], Error: 4.265690634128259e+19\n",
      "Iteración 135: [ 2.71454168e+19  1.60509100e+19 -2.80686093e+19], Error: 4.164131771059917e+19\n",
      "Iteración 136: [-5.61372186e+19  6.55555610e+18 -1.91199619e+19], Error: 8.328263542119834e+19\n",
      "Iteración 137: [-3.82399237e+19 -3.28485998e+19  5.94149966e+19], Error: 7.853495847957856e+19\n",
      "Iteración 138: [ 1.18829993e+20 -4.26621269e+18  2.18156238e+19], Error: 1.5706991695915713e+20\n",
      "Iteración 139: [ 4.36312476e+19  6.48689026e+19 -1.20963100e+20], Error: 1.427787234294341e+20\n",
      "Iteración 140: [-2.41926199e+20 -8.42515108e+18 -1.11967964e+19], Error: 2.855574468588682e+20\n",
      "Iteración 141: [-2.23935927e+19 -1.23762299e+20  2.37713624e+20], Error: 2.489104200279597e+20\n",
      "Iteración 142: [ 4.75427247e+20  4.82316096e+19 -3.94875566e+19], Error: 4.978208400559194e+20\n",
      "Iteración 143: [-7.89751133e+19  2.27841735e+20 -4.51311443e+20], Error: 5.544023606099927e+20\n",
      "Iteración 144: [-9.02622885e+20 -1.52315417e+20  1.92895981e+20], Error: 8.236477718566999e+20\n",
      "Iteración 145: [ 3.85791961e+20 -4.03087447e+20  8.26465176e+20], Error: 1.288414846171696e+21\n",
      "Iteración 146: [ 1.65293035e+21  3.99512275e+20 -5.87335685e+20], Error: 1.4138008612501397e+21\n",
      "Iteración 147: [-1.17467137e+21  6.79631255e+20 -1.45317422e+21], Error: 2.8276017225002794e+21\n",
      "Iteración 148: [-2.90634843e+21 -9.50629239e+20  1.51448700e+21], Error: 2.967661212825591e+21\n",
      "Iteración 149: [ 3.02897399e+21 -1.07455247e+21  2.43103381e+21], Error: 5.935322425651182e+21\n",
      "Iteración 150: [ 4.86206762e+21  2.12224545e+21 -3.56625023e+21], Error: 5.997284039491982e+21\n",
      "Iteración 151: [-7.13250046e+21  1.53947126e+21 -3.80094490e+21], Error: 1.1994568078983965e+22\n",
      "Iteración 152: [-7.60188980e+21 -4.51648645e+21  7.90223608e+21], Error: 1.170318098144243e+22\n",
      "Iteración 153: [ 1.58044722e+22 -1.82538588e+21  5.34364657e+21], Error: 2.340636196288486e+22\n",
      "Iteración 154: [ 1.06872931e+22  9.23814773e+21 -1.67171651e+22], Error: 2.206081167586371e+22\n",
      "Iteración 155: [-3.34343302e+22  1.16435530e+21 -6.06821928e+21], Error: 4.412162335172742e+22\n",
      "Iteración 156: [-1.21364386e+22 -1.82342199e+22  3.40165079e+22], Error: 4.008472713673239e+22\n",
      "Iteración 157: [6.80330157e+22 2.43590768e+21 3.01932860e+21], Error: 8.016945427346478e+22\n",
      "Iteración 158: [ 6.03865720e+21  3.47713400e+22 -6.68150619e+22], Error: 6.983439046942748e+22\n",
      "Iteración 159: [-1.33630124e+23 -1.36844369e+22  1.13470128e+22], Error: 1.3966878093885496e+23\n",
      "Iteración 160: [ 2.26940256e+22 -6.39783087e+22  1.26787905e+23], Error: 1.56324149353214e+23\n",
      "Iteración 161: [ 2.53575811e+23  4.30439891e+22 -5.46831799e+22], Error: 2.308817850026246e+23\n",
      "Iteración 162: [-1.09366360e+23  1.13117110e+23 -2.32053816e+23], Error: 3.6294217050670367e+23\n",
      "Iteración 163: [-4.64107632e+23 -1.12696634e+23  1.65924915e+23], Error: 3.9797873110069086e+23\n",
      "Iteración 164: [ 3.31849830e+23 -1.90572587e+23  4.07759315e+23], Error: 7.959574622013817e+23\n",
      "Iteración 165: [ 8.15518630e+23  2.67864744e+23 -4.27136124e+23], Error: 8.348954388646239e+23\n",
      "Iteración 166: [-8.54272247e+23  3.00975284e+23 -6.81586258e+23], Error: 1.6697908777292478e+24\n",
      "Iteración 167: [-1.36317252e+24 -5.97532688e+23  1.00475989e+24], Error: 1.6863461479031353e+24\n",
      "Iteración 168: [ 2.00951978e+24 -4.30396286e+23  1.06440617e+24], Error: 3.3726922958062706e+24\n",
      "Iteración 169: [ 2.12881234e+24  1.27086143e+24 -2.22471792e+24], Error: 3.289124094603142e+24\n",
      "Iteración 170: [-4.44943584e+24  5.08226692e+23 -1.49338163e+24], Error: 6.578248189206284e+24\n",
      "Iteración 171: [-2.98676326e+24 -2.59806333e+24  4.70354919e+24], Error: 6.196930818823665e+24\n",
      "Iteración 172: [ 9.40709838e+24 -3.17494331e+23  1.68773159e+24], Error: 1.239386163764733e+25\n",
      "Iteración 173: [ 3.37546319e+24  5.12548209e+24 -9.56584555e+24], Error: 1.1253577138523788e+25\n",
      "Iteración 174: [-1.91316911e+25 -7.03729794e+23 -8.12722141e+23], Error: 2.2507154277047577e+25\n",
      "Iteración 175: [-1.62544428e+24 -9.76902608e+24  1.87798262e+25], Error: 1.9592548335886474e+25\n",
      "Iteración 176: [ 3.75596524e+25  3.88223441e+24 -3.25906876e+24], Error: 3.918509667177295e+25\n",
      "Iteración 177: [-6.51813752e+24  1.79650590e+25 -3.56185352e+25], Error: 4.40777899075848e+25\n",
      "Iteración 178: [-7.12370704e+25 -1.21637026e+25  1.55006670e+25], Error: 6.4718932854491345e+25\n",
      "Iteración 179: [ 3.10013340e+25 -3.17433684e+25  6.51552191e+25], Error: 1.02238404412608e+26\n",
      "Iteración 180: [ 1.30310438e+26  3.17894718e+25 -4.68730183e+25], Error: 1.1202823735044282e+26\n",
      "Iteración 181: [-9.37460365e+25  5.34369645e+25 -1.14415702e+26], Error: 2.2405647470088564e+26\n",
      "Iteración 182: [-2.28831405e+26 -7.54769438e+25  1.20464519e+26], Error: 2.3488022106917498e+26\n",
      "Iteración 183: [ 2.40929038e+26 -8.42995726e+25  1.91092933e+26], Error: 4.6976044213834995e+26\n",
      "Iteración 184: [ 3.82185865e+26  1.68237752e+26 -2.83078824e+26], Error: 4.741717565226797e+26\n",
      "Iteración 185: [-5.66157648e+26  1.20323227e+26 -2.98066989e+26], Error: 9.483435130453594e+26\n",
      "Iteración 186: [-5.96133979e+26 -3.57595571e+26  6.26319261e+26], Error: 9.243862504261199e+26\n",
      "Iteración 187: [ 1.25263852e+27 -1.41487174e+26  4.17336193e+26], Error: 1.8487725008522397e+27\n",
      "Iteración 188: [ 8.34672386e+26  7.30653309e+26 -1.32338211e+27], Error: 1.7407183023056103e+27\n",
      "Iteración 189: [-2.64676422e+27  8.64906658e+25 -4.69345732e+26], Error: 3.4814366046112206e+27\n",
      "Iteración 190: [-9.38691463e+26 -1.44071854e+27  2.69000955e+27], Error: 3.15935528286104e+27\n",
      "Iteración 191: [5.38001910e+27 2.03156656e+26 2.18332192e+26], Error: 6.31871056572208e+27\n",
      "Iteración 192: [ 4.36664384e+26  2.74459260e+27 -5.27844077e+27], Error: 5.49677296657921e+27\n",
      "Iteración 193: [-1.05568815e+28 -1.10127800e+27  9.35631915e+26], Error: 1.099354593315842e+28\n",
      "Iteración 194: [ 1.87126383e+27 -5.04453280e+27  1.00062425e+28], Error: 1.2428145379476507e+28\n",
      "Iteración 195: [ 2.00124851e+28  3.43719255e+27 -4.39353023e+27], Error: 1.814122126557458e+28\n",
      "Iteración 196: [-8.78706046e+27  8.90785999e+27 -1.82938888e+28], Error: 2.879954555309766e+28\n",
      "Iteración 197: [-3.65877776e+28 -8.96700243e+27  1.32409905e+28], Error: 3.15348792724227e+28\n",
      "Iteración 198: [ 2.64819809e+28 -1.49836412e+28  3.21042764e+28], Error: 6.30697585448454e+28\n",
      "Iteración 199: [ 6.42085528e+28  2.12670596e+28 -3.39738015e+28], Error: 6.607807793159608e+28\n",
      "Iteración 200: [-6.79476030e+28  2.36108260e+28 -5.35750231e+28], Error: 1.3215615586319216e+29\n",
      "Iteración 201: [-1.07150046e+29 -4.73675573e+28  7.97530160e+28], Error: 1.3332803910723703e+29\n",
      "Iteración 202: [ 1.59506032e+29 -3.36367691e+28  8.34662675e+28], Error: 2.6665607821447406e+29\n",
      "Iteración 203: [ 1.66932535e+29  1.00619583e+29 -1.76324417e+29], Error: 2.5979068410576575e+29\n",
      "Iteración 204: [-3.52648833e+29  3.93851633e+28 -1.16622744e+29], Error: 5.195813682115315e+29\n",
      "Iteración 205: [-2.33245487e+29 -2.05480102e+29  3.72341415e+29], Error: 4.889641584273424e+29\n",
      "Iteración 206: [ 7.44682830e+29 -2.35373898e+28  1.30505436e+29], Error: 9.779283168546848e+29\n",
      "Iteración 207: [ 2.61010872e+29  4.04967774e+29 -7.56451525e+29], Error: 8.869569605163918e+29\n",
      "Iteración 208: [-1.51290305e+30 -5.86074453e+28 -5.85269847e+28], Error: 1.7739139210327836e+30\n",
      "Iteración 209: [-1.17053969e+29 -7.71083271e+29  1.48359933e+30], Error: 1.5421263114389024e+30\n",
      "Iteración 210: [ 2.96719865e+30  3.12372847e+29 -2.68487666e+29], Error: 3.084252622877805e+30\n",
      "Iteración 211: [-5.36975332e+29  1.41647741e+30 -2.81101223e+30], Error: 3.5041739853238923e+30\n",
      "Iteración 212: [-5.62202446e+30 -9.71240723e+29  1.24521404e+30], Error: 5.085049127947218e+30\n",
      "Iteración 213: [ 2.49042807e+30 -2.49970872e+30  5.13640410e+30], Error: 8.1124525339212e+30\n",
      "Iteración 214: [ 1.02728082e+31  2.52931506e+30 -3.74028243e+30], Error: 8.876686532537929e+30\n",
      "Iteración 215: [-7.48056487e+30  4.20133349e+30 -9.00815067e+30], Error: 1.7753373065075858e+31\n",
      "Iteración 216: [-1.80163013e+31 -5.99232010e+30  9.58123161e+30], Error: 1.8589382279068387e+31\n",
      "Iteración 217: [ 1.91624632e+31 -6.61284276e+30  1.50201413e+31], Error: 3.7178764558136773e+31\n",
      "Iteración 218: [ 3.00402826e+31  1.33362669e+31 -2.24688846e+31], Error: 3.7489025888812647e+31\n",
      "Iteración 219: [-4.49377692e+31  9.40292013e+30 -2.33721491e+31], Error: 7.4978051777625295e+31\n",
      "Iteración 220: [-4.67442982e+31 -2.83119219e+31  4.96392293e+31], Error: 7.301137837506315e+31\n",
      "Iteración 221: [ 9.92784586e+31 -1.09623418e+31  3.25883372e+31], Error: 1.460227567501263e+32\n",
      "Iteración 222: [ 6.51766745e+31  5.77863136e+31 -1.04759629e+32], Error: 1.3734796669636275e+32\n",
      "Iteración 223: [-2.09519259e+32  6.39842989e+30 -3.62835177e+31], Error: 2.746959333927255e+32\n",
      "Iteración 224: [-7.25670354e+31 -1.13830509e+32  2.12718474e+32], Error: 2.4900199153932576e+32\n",
      "Iteración 225: [4.25436948e+32 1.68961008e+31 1.56517810e+31], Error: 4.980039830786515e+32\n",
      "Iteración 226: [ 3.13035619e+31  2.16631419e+32 -4.16988897e+32], Error: 4.326406782618055e+32\n",
      "Iteración 227: [-8.33977795e+32 -8.85954434e+31  7.70121476e+31], Error: 8.65281356523611e+32\n",
      "Iteración 228: [ 1.54024295e+32 -3.97735860e+32  7.89680073e+32], Error: 9.880020898291817e+32\n",
      "Iteración 229: [ 1.57936015e+33  2.74432166e+32 -3.52892225e+32], Error: 1.4253358506044756e+33\n",
      "Iteración 230: [-7.05784451e+32  7.01457017e+32 -1.44214406e+33], Error: 2.285144596691521e+33\n",
      "Iteración 231: [-2.88428813e+33 -7.13428241e+32  1.05651296e+33], Error: 2.49865702204942e+33\n",
      "Iteración 232: [ 2.11302592e+33 -1.17801582e+33  2.52757401e+33], Error: 4.99731404409884e+33\n",
      "Iteración 233: [ 5.05514801e+33  1.68840646e+33 -2.70203383e+33], Error: 5.229607835084863e+33\n",
      "Iteración 234: [-5.40406766e+33  1.85206555e+33 -4.21094478e+33], Error: 1.0459215670169725e+34\n",
      "Iteración 235: [-8.42188956e+33 -3.75477002e+33  6.33010043e+33], Error: 1.0541045213839302e+34\n",
      "Iteración 236: [ 1.26602009e+34 -2.62841967e+33  6.54450455e+33], Error: 2.1082090427678604e+34\n",
      "Iteración 237: [ 1.30890091e+34  7.96622657e+33 -1.39744107e+34], Error: 2.051891525116481e+34\n",
      "Iteración 238: [-2.79488214e+34  3.05090187e+33 -9.10589581e+33], Error: 4.103783050232962e+34\n",
      "Iteración 239: [-1.82117916e+34 -1.62508847e+34  2.94742723e+34], Error: 3.8580168153193026e+34\n",
      "Iteración 240: [ 5.89485447e+34 -1.73732773e+33  1.00863493e+34], Error: 7.716033630638605e+34\n",
      "Iteración 241: [ 2.01726986e+34  3.19958597e+34 -5.98172085e+34], Error: 6.9903557841137725e+34\n",
      "Iteración 242: [-1.19634417e+35 -4.86795284e+33 -4.17476875e+33], Error: 1.3980711568227545e+35\n",
      "Iteración 243: [-8.34953751e+33 -6.08609007e+34  1.17200441e+35], Error: 1.2137520942790605e+35\n",
      "Iteración 244: [ 2.34400881e+35  2.51253414e+34 -2.20809129e+34], Error: 2.427504188558121e+35\n",
      "Iteración 245: [-4.41618257e+34  1.11680212e+35 -2.21838211e+35], Error: 2.785627070628195e+35\n",
      "Iteración 246: [-4.43676421e+35 -7.75404655e+34  1.00001932e+35], Error: 3.995145955621992e+35\n",
      "Iteración 247: [ 2.00003864e+35 -1.96837728e+35  4.04906189e+35], Error: 6.436802851706927e+35\n",
      "Iteración 248: [ 8.09812377e+35  2.01228479e+35 -2.98422728e+35], Error: 7.033289162380743e+35\n",
      "Iteración 249: [-5.96845455e+35  3.30300507e+35 -7.09198138e+35], Error: 1.4066578324761486e+36\n",
      "Iteración 250: [-1.41839628e+36 -4.75722262e+35  7.61995709e+35], Error: 1.4711938462333177e+36\n",
      "Iteración 251: [ 1.52399142e+36 -5.18699210e+35  1.18053514e+36], Error: 2.9423876924666353e+36\n",
      "Iteración 252: [ 2.36107029e+36  1.05712949e+36 -1.78334102e+36], Error: 2.963876166579125e+36\n",
      "Iteración 253: [-3.56668205e+36  7.34699888e+35 -1.83250554e+36], Error: 5.92775233315825e+36\n",
      "Iteración 254: [-3.66501108e+36 -2.24146741e+36  3.93403199e+36], Error: 5.766537529948192e+36\n",
      "Iteración 255: [ 7.86806398e+36 -8.48997543e+35  2.54427738e+36], Error: 1.1533075059896383e+37\n",
      "Iteración 256: [ 5.08855475e+36  4.57010133e+36 -8.29256275e+36], Error: 1.0836840127617654e+37\n",
      "Iteración 257: [-1.65851255e+37  4.71136690e+35 -2.80350409e+36], Error: 2.167368025523531e+37\n",
      "Iteración 258: [-5.60700818e+36 -8.99343877e+36  1.68206938e+37], Error: 1.9624197933197314e+37\n",
      "Iteración 259: [3.36413877e+37 1.40166937e+36 1.11028879e+36], Error: 3.9248395866394628e+37\n",
      "Iteración 260: [ 2.22057758e+36  1.70982660e+37 -3.29405530e+37], Error: 3.4050841793347063e+37\n",
      "Iteración 261: [-6.58811060e+37 -7.12484946e+36  6.32855544e+36], Error: 6.8101683586694125e+37\n",
      "Iteración 262: [ 1.26571109e+37 -3.13584141e+37  6.23186813e+37], Error: 7.853821689526346e+37\n",
      "Iteración 263: [ 1.24637363e+38  2.19082258e+37 -2.83363180e+37], Error: 1.119802516685005e+38\n",
      "Iteración 264: [-5.66726359e+37  5.52346018e+37 -1.13683250e+38], Error: 1.8130999847196603e+38\n",
      "Iteración 265: [-2.27366499e+38 -5.67571304e+37  8.42899368e+37], Error: 1.979731864845933e+38\n",
      "Iteración 266: [ 1.68579874e+38 -9.26107655e+37  1.98987934e+38], Error: 3.959463729691866e+38\n",
      "Iteración 267: [ 3.97975868e+38  1.34036920e+38 -2.14885256e+38], Error: 4.138731905163141e+38\n",
      "Iteración 268: [-4.29770513e+38  1.45266620e+38 -3.30957408e+38], Error: 8.277463810326282e+38\n",
      "Iteración 269: [-6.61914816e+38 -2.97624608e+38  5.02403823e+38], Error: 8.333612308922839e+38\n",
      "Iteración 270: [ 1.00480765e+39 -2.05356452e+38  5.13102512e+38], Error: 1.6667224617845677e+39\n",
      "Iteración 271: [ 1.02620502e+39  6.30679451e+38 -1.10748587e+39], Error: 1.6205883838159994e+39\n",
      "Iteración 272: [-2.21497174e+39  2.36231044e+38 -7.10865299e+38], Error: 3.241176767631999e+39\n",
      "Iteración 273: [-1.42173060e+39 -1.28520220e+39  2.33308727e+39], Error: 3.0439525643252335e+39\n",
      "Iteración 274: [ 4.66617453e+39 -1.27593482e+38  7.79129499e+38], Error: 6.087905128650467e+39\n",
      "Iteración 275: [ 1.55825900e+39  2.52786964e+39 -4.72997127e+39], Error: 5.509100771643433e+39\n",
      "Iteración 276: [-9.45994254e+39 -4.03363319e+38 -2.94324179e+38], Error: 1.1018201543286865e+40\n",
      "Iteración 277: [-5.88648357e+38 -4.80355232e+39  9.25826089e+39], Error: 9.552585063752972e+39\n",
      "Iteración 278: [ 1.85165218e+40  2.02024104e+39 -1.81312780e+39], Error: 1.9105170127505943e+40\n",
      "Iteración 279: [-3.62625560e+39  8.80497893e+39 -1.75064012e+40], Error: 2.214277737304414e+40\n",
      "Iteración 280: [-3.50128025e+40 -6.18972811e+39  8.02874507e+39], Error: 3.1386546895366787e+40\n",
      "Iteración 281: [ 1.60574901e+40 -1.54992150e+40  3.19179384e+40], Error: 5.107029263821074e+40\n",
      "Iteración 282: [ 6.38358769e+40  1.60082297e+40 -2.38070976e+40], Error: 5.5725036072164265e+40\n",
      "Iteración 283: [-4.76141953e+40  2.59661640e+40 -5.58317620e+40], Error: 1.1145007214432853e+41\n",
      "Iteración 284: [-1.11663524e+41 -3.77650381e+40  6.05972773e+40], Error: 1.1642903932088064e+41\n",
      "Iteración 285: [ 1.21194555e+41 -4.06824427e+40  9.27810050e+40], Error: 2.3285807864176128e+41\n",
      "Iteración 286: [ 1.85562010e+41  8.37925285e+40 -1.41535776e+41], Error: 2.3431678093232363e+41\n",
      "Iteración 287: [-2.83071552e+41  5.73970610e+40 -1.43665746e+41], Error: 4.686335618646473e+41\n",
      "Iteración 288: [-2.87331492e+41 -1.77452212e+41  3.11770082e+41], Error: 4.554358281157015e+41\n",
      "Iteración 289: [ 6.23540165e+41 -6.57232252e+40  1.98605385e+41], Error: 9.10871656231403e+41\n",
      "Iteración 290: [ 3.97210771e+41  3.61421429e+41 -6.56401777e+41], Error: 8.550071626384602e+41\n",
      "Iteración 291: [-1.31280355e+42  3.45049410e+40 -2.16500056e+41], Error: 1.7100143252769204e+42\n",
      "Iteración 292: [-4.33000113e+41 -7.10526791e+41  1.33005603e+42], Error: 1.5465560814418818e+42\n",
      "Iteración 293: [2.66011205e+42 1.16013950e+41 7.77367170e+40], Error: 3.0931121628837635e+42\n",
      "Iteración 294: [ 1.55473434e+41  1.34949020e+42 -2.60210508e+42], Error: 2.6798417922272942e+42\n",
      "Iteración 295: [-5.20421015e+42 -5.72789552e+41  5.19271668e+41], Error: 5.3596835844545885e+42\n",
      "Iteración 296: [ 1.03854334e+42 -2.47228716e+42  4.91781537e+42], Error: 6.242753486836031e+42\n",
      "Iteración 297: [ 9.83563075e+42  1.74872551e+42 -2.27468692e+42], Error: 8.797087412747247e+42\n",
      "Iteración 298: [-4.54937383e+42  4.34914365e+42 -8.96126799e+42], Error: 1.438500458004485e+43\n",
      "Iteración 299: [-1.79225360e+43 -4.51500391e+42  6.72394565e+42], Error: 1.568521364697886e+43\n",
      "Iteración 300: [ 1.34478913e+43 -7.28028158e+42  1.56650340e+43], Error: 3.137042729395772e+43\n"
     ]
    },
    {
     "data": {
      "text/plain": [
       "array([ 1.34478913e+43, -7.28028158e+42,  1.56650340e+43])"
      ]
     },
     "execution_count": 21,
     "metadata": {},
     "output_type": "execute_result"
    }
   ],
   "source": [
    "A = np.array([[1, 0, -2],\n",
    "              [-0.5, 1, -0.25],\n",
    "              [1, -0.5, 1]], dtype=float)\n",
    "\n",
    "b = np.array([0.2, -1.425, 2], dtype=float)\n",
    "x0 = np.zeros(len(b))  \n",
    "tol = 1e-2\n",
    "max_iterations = 300\n",
    "\n",
    "jacobi_method_with_tolerance(A, b, x0, tol, max_iterations)"
   ]
  },
  {
   "cell_type": "markdown",
   "metadata": {},
   "source": [
    "c) ¿Qué pasa en la parte b) cuando el sistema cambia por el siguiente?"
   ]
  },
  {
   "cell_type": "code",
   "execution_count": 7,
   "metadata": {},
   "outputs": [
    {
     "name": "stdout",
     "output_type": "stream",
     "text": [
      "¿La nueva matriz es diagonal estrictamente dominante? False\n",
      "Iteración 1: [ 0.2   -1.425  2.   ], Error: 2.0\n",
      "Iteración 2: [ 4.2    -0.825   1.0875], Error: 4.0\n",
      "Iteración 3: [ 2.375     0.946875 -2.6125  ], Error: 3.6999999999999997\n",
      "Iteración 4: [-5.025     -0.890625   0.0984375], Error: 7.3999999999999995\n",
      "Iteración 5: [ 0.396875   -3.91289062  6.5796875 ], Error: 6.481249999999999\n",
      "Iteración 6: [13.359375    0.41835938 -0.35332031], Error: 12.962499999999999\n",
      "Iteración 7: [ -0.50664063   5.16635742 -11.15019531], Error: 13.866015625\n",
      "Iteración 8: [-22.10039062  -4.46586914   5.08981934], Error: 21.593749999999996\n",
      "Iteración 9: [ 10.37963867 -11.20274048  21.86745605], Error: 32.480029296874996\n",
      "Iteración 10: [ 43.93491211   9.23168335 -13.98100891], Error: 35.848464965820305\n",
      "Iteración 11: [-27.76201782  17.04720383 -37.31907043], Error: 71.69692993164061\n",
      "Iteración 12: [-74.43814087 -24.63577652  38.28561974], Error: 75.60469017028808\n",
      "Iteración 13: [ 76.77123947 -29.0726655   64.12025261], Error: 151.20938034057616\n",
      "Iteración 14: [128.44050522  52.99068289 -89.30757222], Error: 153.42782483100888\n",
      "Iteración 15: [-178.41514444   40.46835955  -99.94516377], Error: 306.85564966201775\n",
      "Iteración 16: [-199.69032755 -115.61886317  200.64932422], Error: 300.5944879949092\n",
      "Iteración 17: [401.49864844 -51.10783272 143.88089597], Error: 601.1889759898183\n",
      "Iteración 18: [ 287.96179193  235.29454821 -425.0525648 ], Error: 568.9334607668219\n",
      "Iteración 19: [-849.9051296    36.29275477 -168.31451783], Error: 1137.8669215336438\n",
      "Iteración 20: [-336.42903565 -468.45619426  870.05150698], Error: 1038.3660248107271\n",
      "Iteración 21: [1740.30301397   47.87335892  104.20093852], Error: 2076.7320496214543\n",
      "Iteración 22: [  208.60187705   894.77674162 -1714.36633451], Error: 1818.5672730331419\n",
      "Iteración 23: [-3428.53266902  -325.7156451    240.78649376], Error: 3637.1345460662837\n",
      "Iteración 24: [  481.77298752 -1655.49471107  3267.67484647], Error: 3910.3056565340603\n",
      "Iteración 25: [ 6535.54969293  1056.38020537 -1307.52034305], Error: 6053.776705414727\n",
      "Iteración 26: [-2614.8406861   2939.4697607  -6005.35959024], Error: 9150.390379034505\n",
      "Iteración 27: [-12010.51918049  -2810.18524061   4086.57556645], Error: 10091.93515669853\n",
      "Iteración 28: [ 8173.35113291 -4985.04069863 10607.42656018], Error: 20183.87031339706\n",
      "Iteración 29: [ 21215.05312036   6737.1072065  -10663.87148222], Error: 21271.29804240614\n",
      "Iteración 30: [-21327.54296445   7940.13368963 -17844.49951711], Error: 42542.59608481228\n",
      "Iteración 31: [-35688.79903423 -15126.3213615   25299.60980926], Error: 43144.10932637544\n",
      "Iteración 32: [ 50599.41961852 -11520.9220648   28127.63835348], Error: 86288.21865275087\n",
      "Iteración 33: [ 56255.47670696  32330.19439763 -56357.88065092], Error: 84485.51900439919\n",
      "Iteración 34: [-112715.56130184   14036.84319075  -40088.37950814], Error: 168971.03800879838\n",
      "Iteración 35: [-80176.55901628 -66381.30052796 119735.98289722], Error: 159824.36240535675\n",
      "Iteración 36: [239472.16579443 -10155.70878384  46987.9087523 ], Error: 319648.7248107135\n",
      "Iteración 37: [  93976.0175046   131481.63508529 -244548.02018635], Error: 291535.9289386531\n",
      "Iteración 38: [-489095.8403727   -14150.42129429  -28233.19996196], Error: 583071.8578773062\n",
      "Iteración 39: [ -56466.19992391 -251607.64517684  482022.62972556], Error: 510255.8296875169\n",
      "Iteración 40: [964045.45945112  92271.13246943 -69335.62266451], Error: 1020511.6593750338\n",
      "Iteración 41: [-138671.04532901  464687.39905943 -917907.8932164 ], Error: 1102716.504780132\n",
      "Iteración 42: [-1835815.58643281  -298813.92096861   371016.74485873], Error: 1697144.541103794\n",
      "Iteración 43: [ 742033.68971746 -825155.03200172 1686410.6259485 ], Error: 2577849.276150265\n",
      "Iteración 44: [ 3372821.45189701   792618.07634585 -1154609.20571832], Error: 2841019.8316668216\n",
      "Iteración 45: [-2309218.21143664  1397756.99951892 -2976510.41372408], Error: 5682039.663333643\n",
      "Iteración 46: [-5953020.62744816 -1898738.13414934  3008098.7111961 ], Error: 5984609.124920177\n",
      "Iteración 47: [ 6016197.6223922  -2224487.06092505  5003653.56037349], Error: 11969218.249840355\n",
      "Iteración 48: [10007307.32074698  4259010.77628947 -7128439.15285472], Error: 12132092.713228213\n",
      "Iteración 49: [-14256878.10570945   3221542.44715981  -7877799.93260224], Error: 24264185.426456425\n",
      "Iteración 50: [-15755599.66520448  -9097890.46100529  15867651.32928935], Error: 23745451.261891596\n",
      "Iteración 51: [31735302.8585787  -3910888.4252799  11206656.43470184], Error: 47490902.52378319\n",
      "Iteración 52: [ 22413313.06940368  18669314.11296481 -33690745.07121865], Error: 44897401.5059205\n",
      "Iteración 53: [-67381489.9424373    2783968.84189718 -13078654.01292128], Error: 89794803.01184098\n",
      "Iteración 54: [-26157307.82584255 -36960409.89944897  68773476.3633859 ], Error: 81852130.37630717\n",
      "Iteración 55: [1.37546953e+08 4.11471375e+06 7.67710488e+06], Error: 163704260.75261435\n",
      "Iteración 56: [ 1.53542100e+07  7.06927513e+07 -1.35489594e+08], Error: 143166698.92642725\n",
      "Iteración 57: [-2.70979188e+08 -2.61952950e+07  1.99921677e+07], Error: 286333397.8528545\n",
      "Iteración 58: [ 3.99843356e+07 -1.30491553e+08  2.57881542e+08], Error: 310963523.45356154\n",
      "Iteración 59: [ 5.15763085e+08  8.44625520e+07 -1.05230110e+08], Error: 475778749.48683435\n",
      "Iteración 60: [-2.10460220e+08  2.31574014e+08 -4.73531807e+08], Error: 726223305.4018551\n",
      "Iteración 61: [-9.47063614e+08 -2.23613063e+08  3.26247229e+08], Error: 799779036.1859478\n",
      "Iteración 62: [ 6.52494458e+08 -3.91970001e+08  8.35257084e+08], Error: 1599558072.3718956\n",
      "Iteración 63: [ 1.67051417e+09  5.35061499e+08 -8.48479457e+08], Error: 1683736541.2389104\n",
      "Iteración 64: [-1.69695891e+09  6.23137219e+08 -1.40298342e+09], Error: 3367473082.477821\n",
      "Iteración 65: [-2.80596683e+09 -1.19922531e+09  2.00852753e+09], Error: 3411510942.37946\n",
      "Iteración 66: [ 4.01705505e+09 -9.00851537e+08  2.20635418e+09], Error: 6823021884.75892\n",
      "Iteración 67: [ 4.41270836e+09  2.56011607e+09 -4.46748082e+09], Error: 6673834997.083443\n",
      "Iteración 68: [-8.93496163e+09  1.08948397e+09 -3.13265032e+09], Error: 13347669994.166885\n",
      "Iteración 69: [-6.26530065e+09 -5.25064340e+09  9.47970362e+09], Error: 12612353946.950394\n",
      "Iteración 70: [ 1.89594072e+10 -7.62724419e+08  3.63997895e+09], Error: 25224707893.900787\n",
      "Iteración 71: [ 7.27995790e+09  1.03896984e+10 -1.93407695e+10], Error: 22980748403.847637\n",
      "Iteración 72: [-3.86815389e+10 -1.19521342e+09 -2.08510872e+09], Error: 45961496807.695274\n",
      "Iteración 73: [-4.17021744e+09 -1.98620466e+10  3.80839322e+10], Error: 40169040920.41029\n",
      "Iteración 74: [ 7.61678644e+10  7.43587433e+09 -5.76080588e+09], Error: 80338081840.82059\n",
      "Iteración 75: [-1.15216118e+10  3.66437307e+10 -7.24499272e+10], Error: 87689476165.68623\n",
      "Iteración 76: [-1.44899854e+11 -2.38732877e+10  2.98434771e+10], Error: 133378242715.0483\n",
      "Iteración 77: [ 5.96869543e+10 -6.49890580e+10  1.32963211e+11], Error: 204586808731.07196\n",
      "Iteración 78: [ 2.65926421e+11  6.30842798e+10 -9.21814832e+10], Error: 225144693864.14203\n",
      "Iteración 79: [-1.84362966e+11  1.09917840e+11 -2.34384281e+11], Error: 450289387728.28406\n",
      "Iteración 80: [-4.68768563e+11 -1.50777554e+11  2.39321886e+11], Error: 473706167747.23444\n",
      "Iteración 81: [ 4.78643773e+11 -1.74553810e+11  3.93379786e+11], Error: 947412335494.4689\n",
      "Iteración 82: [ 7.86759572e+11  3.37666833e+11 -5.65920678e+11], Error: 959300463594.6208\n",
      "Iteración 83: [-1.13184136e+12  2.51899617e+11 -6.17926155e+11], Error: 1918600927189.2417\n",
      "Iteración 84: [-1.23585231e+12 -7.20402217e+11  1.25779116e+12], Error: 1875717319027.4214\n",
      "Iteración 85: [ 2.51558233e+12 -3.03478365e+11  8.75651203e+11], Error: 3751434638054.8433\n",
      "Iteración 86: [ 1.75130241e+12  1.47670396e+12 -2.66732151e+12], Error: 3542972712091.183\n",
      "Iteración 87: [-5.33464302e+12  2.08820825e+11 -1.01295042e+12], Error: 7085945424182.366\n",
      "Iteración 88: [-2.02590085e+12 -2.92055912e+12  5.43905343e+12], Error: 6452003854737.502\n",
      "Iteración 89: [1.08781069e+13 3.46812935e+11 5.65621289e+11], Error: 12904007709475.004\n",
      "Iteración 90: [ 1.13124258e+12  5.58045875e+12 -1.07047004e+13], Error: 11270321684563.213\n",
      "Iteración 91: [-2.14094008e+13 -2.11055381e+12  1.65898680e+12], Error: 22540643369126.426\n",
      "Iteración 92: [ 3.31797360e+12 -1.02899537e+13  2.03541239e+13], Error: 24727374389324.77\n",
      "Iteración 93: [ 4.07082478e+13  6.74751777e+12 -8.46295045e+12], Error: 37390274174555.445\n",
      "Iteración 94: [-1.69259009e+13  1.82383863e+13 -3.73344889e+13], Error: 57634148664547.164\n",
      "Iteración 95: [-7.46689778e+13 -1.77965727e+13  2.60450940e+13], Error: 63379582916651.83\n",
      "Iteración 96: [ 5.20901881e+13 -3.08232154e+13  6.57706914e+13], Error: 126759165833303.66\n",
      "Iteración 97: [ 1.31541383e+14  4.24877669e+13 -6.75017957e+13], Error: 133272487189379.44\n",
      "Iteración 98: [-1.35003591e+14  4.88952425e+13 -1.10297499e+14], Error: 266544974378758.88\n",
      "Iteración 99: [-2.20594999e+14 -9.50761706e+13  1.59451213e+14], Error: 269748712185750.44\n",
      "Iteración 100: [ 3.18902425e+14 -7.04346962e+13  1.73056914e+14], Error: 539497424371500.9\n",
      "Iteración 101: [ 3.46113827e+14  2.02715441e+14 -3.54119774e+14], Error: 527176687192239.1\n",
      "Iteración 102: [-7.08239547e+14  8.45269702e+13 -2.44756107e+14], Error: 1054353374384478.2\n",
      "Iteración 103: [-4.89512213e+14 -4.15308800e+14  7.50503032e+14], Error: 995259138895522.9\n",
      "Iteración 104: [ 1.50100606e+15 -5.71303485e+13  2.81857813e+14], Error: 1990518277791045.8\n",
      "Iteración 105: [ 5.63715626e+14  8.20967486e+14 -1.52957124e+15], Error: 1811429051901557.5\n",
      "Iteración 106: [-3.05914248e+15 -1.00534997e+14 -1.53231883e+14], Error: 3622858103803115.5\n",
      "Iteración 107: [-3.06463766e+14 -1.56787921e+15  3.00887498e+15], Error: 3162106862653208.5\n",
      "Iteración 108: [ 6.01774996e+15  5.98986862e+14 -4.77475838e+14], Error: 6324213725306417.0\n",
      "Iteración 109: [-9.54951677e+14  2.88950602e+15 -5.71825653e+15], Error: 6972701635705520.0\n",
      "Iteración 110: [-1.14365131e+16 -1.90703997e+15  2.39970469e+15], Error: 1.0481561379268476e+16\n",
      "Iteración 111: [ 4.79940937e+15 -5.11833036e+15  1.04829931e+16], Error: 1.6235922429601058e+16\n",
      "Iteración 112: [ 2.09659861e+16  5.02045295e+15 -7.35857455e+15], Error: 1.784156762256811e+16\n",
      "Iteración 113: [-1.47171491e+16  8.64334943e+15 -1.84557597e+16], Error: 3.568313524513622e+16\n",
      "Iteración 114: [-3.69115193e+16 -1.19725145e+16  1.90388238e+16], Error: 3.749458348438411e+16\n",
      "Iteración 115: [ 3.80776476e+16 -1.36960537e+16  3.09252621e+16], Error: 7.498916696876822e+16\n",
      "Iteración 116: [ 6.18505242e+16  2.67701393e+16 -4.49256745e+16], Error: 7.585093658964928e+16\n",
      "Iteración 117: [-8.98513490e+16  1.96938435e+16 -4.84654545e+16], Error: 1.5170187317929856e+17\n",
      "Iteración 118: [-9.69309090e+16 -5.70420381e+16  9.96982707e+16], Error: 1.4816372524325488e+17\n",
      "Iteración 119: [ 1.99396541e+17 -2.35408868e+16  6.84098900e+16], Error: 2.9632745048650976e+17\n",
      "Iteración 120: [ 1.36819780e+17  1.16800743e+17 -2.11166985e+17], Error: 2.7957687484312403e+17\n",
      "Iteración 121: [-4.22333970e+17  1.56181438e+16 -7.84194083e+16], Error: 5.5915374968624806e+17\n",
      "Iteración 122: [-1.56838817e+17 -2.30771837e+17  4.30143042e+17], Error: 5.0856244995598483e+17\n",
      "Iteración 123: [8.60286083e+17 2.91163521e+16 4.14528982e+16], Error: 1.0171248999119697e+18\n",
      "Iteración 124: [ 8.29057964e+16  4.40506266e+17 -8.45727907e+17], Error: 8.871808054037715e+17\n",
      "Iteración 125: [-1.69145581e+18 -1.69979079e+17  1.37347337e+17], Error: 1.774361610807543e+18\n",
      "Iteración 126: [ 2.74694673e+17 -8.11391073e+17  1.60646628e+18], Error: 1.966150487745125e+18\n",
      "Iteración 127: [ 3.21293255e+18  5.38963905e+17 -6.80390210e+17], Error: 2.9382378768537057e+18\n",
      "Iteración 128: [-1.36078042e+18  1.43636872e+18 -2.94345060e+18], Error: 4.5737129699258813e+18\n",
      "Iteración 129: [-5.88690119e+18 -1.41625286e+18  2.07896478e+18], Error: 5.022415378518941e+18\n",
      "Iteración 130: [ 4.15792956e+18 -2.42370940e+18  5.17877477e+18], Error: 1.0044830757037881e+19\n",
      "Iteración 131: [ 1.03575495e+19  3.37365847e+18 -5.36978426e+18], Error: 1.0548559028530047e+19\n",
      "Iteración 132: [-1.07395685e+19  3.83632870e+18 -8.67072029e+18], Error: 2.1097118057060094e+19\n",
      "Iteración 133: [-1.73414406e+19 -7.53746434e+18  1.26577329e+19], Error: 2.1328453170641293e+19\n",
      "Iteración 134: [ 2.53154658e+19 -5.50628708e+18  1.35727084e+19], Error: 4.265690634128259e+19\n",
      "Iteración 135: [ 2.71454168e+19  1.60509100e+19 -2.80686093e+19], Error: 4.164131771059917e+19\n",
      "Iteración 136: [-5.61372186e+19  6.55555610e+18 -1.91199619e+19], Error: 8.328263542119834e+19\n",
      "Iteración 137: [-3.82399237e+19 -3.28485998e+19  5.94149966e+19], Error: 7.853495847957856e+19\n",
      "Iteración 138: [ 1.18829993e+20 -4.26621269e+18  2.18156238e+19], Error: 1.5706991695915713e+20\n",
      "Iteración 139: [ 4.36312476e+19  6.48689026e+19 -1.20963100e+20], Error: 1.427787234294341e+20\n",
      "Iteración 140: [-2.41926199e+20 -8.42515108e+18 -1.11967964e+19], Error: 2.855574468588682e+20\n",
      "Iteración 141: [-2.23935927e+19 -1.23762299e+20  2.37713624e+20], Error: 2.489104200279597e+20\n",
      "Iteración 142: [ 4.75427247e+20  4.82316096e+19 -3.94875566e+19], Error: 4.978208400559194e+20\n",
      "Iteración 143: [-7.89751133e+19  2.27841735e+20 -4.51311443e+20], Error: 5.544023606099927e+20\n",
      "Iteración 144: [-9.02622885e+20 -1.52315417e+20  1.92895981e+20], Error: 8.236477718566999e+20\n",
      "Iteración 145: [ 3.85791961e+20 -4.03087447e+20  8.26465176e+20], Error: 1.288414846171696e+21\n",
      "Iteración 146: [ 1.65293035e+21  3.99512275e+20 -5.87335685e+20], Error: 1.4138008612501397e+21\n",
      "Iteración 147: [-1.17467137e+21  6.79631255e+20 -1.45317422e+21], Error: 2.8276017225002794e+21\n",
      "Iteración 148: [-2.90634843e+21 -9.50629239e+20  1.51448700e+21], Error: 2.967661212825591e+21\n",
      "Iteración 149: [ 3.02897399e+21 -1.07455247e+21  2.43103381e+21], Error: 5.935322425651182e+21\n",
      "Iteración 150: [ 4.86206762e+21  2.12224545e+21 -3.56625023e+21], Error: 5.997284039491982e+21\n",
      "Iteración 151: [-7.13250046e+21  1.53947126e+21 -3.80094490e+21], Error: 1.1994568078983965e+22\n",
      "Iteración 152: [-7.60188980e+21 -4.51648645e+21  7.90223608e+21], Error: 1.170318098144243e+22\n",
      "Iteración 153: [ 1.58044722e+22 -1.82538588e+21  5.34364657e+21], Error: 2.340636196288486e+22\n",
      "Iteración 154: [ 1.06872931e+22  9.23814773e+21 -1.67171651e+22], Error: 2.206081167586371e+22\n",
      "Iteración 155: [-3.34343302e+22  1.16435530e+21 -6.06821928e+21], Error: 4.412162335172742e+22\n",
      "Iteración 156: [-1.21364386e+22 -1.82342199e+22  3.40165079e+22], Error: 4.008472713673239e+22\n",
      "Iteración 157: [6.80330157e+22 2.43590768e+21 3.01932860e+21], Error: 8.016945427346478e+22\n",
      "Iteración 158: [ 6.03865720e+21  3.47713400e+22 -6.68150619e+22], Error: 6.983439046942748e+22\n",
      "Iteración 159: [-1.33630124e+23 -1.36844369e+22  1.13470128e+22], Error: 1.3966878093885496e+23\n",
      "Iteración 160: [ 2.26940256e+22 -6.39783087e+22  1.26787905e+23], Error: 1.56324149353214e+23\n",
      "Iteración 161: [ 2.53575811e+23  4.30439891e+22 -5.46831799e+22], Error: 2.308817850026246e+23\n",
      "Iteración 162: [-1.09366360e+23  1.13117110e+23 -2.32053816e+23], Error: 3.6294217050670367e+23\n",
      "Iteración 163: [-4.64107632e+23 -1.12696634e+23  1.65924915e+23], Error: 3.9797873110069086e+23\n",
      "Iteración 164: [ 3.31849830e+23 -1.90572587e+23  4.07759315e+23], Error: 7.959574622013817e+23\n",
      "Iteración 165: [ 8.15518630e+23  2.67864744e+23 -4.27136124e+23], Error: 8.348954388646239e+23\n",
      "Iteración 166: [-8.54272247e+23  3.00975284e+23 -6.81586258e+23], Error: 1.6697908777292478e+24\n",
      "Iteración 167: [-1.36317252e+24 -5.97532688e+23  1.00475989e+24], Error: 1.6863461479031353e+24\n",
      "Iteración 168: [ 2.00951978e+24 -4.30396286e+23  1.06440617e+24], Error: 3.3726922958062706e+24\n",
      "Iteración 169: [ 2.12881234e+24  1.27086143e+24 -2.22471792e+24], Error: 3.289124094603142e+24\n",
      "Iteración 170: [-4.44943584e+24  5.08226692e+23 -1.49338163e+24], Error: 6.578248189206284e+24\n",
      "Iteración 171: [-2.98676326e+24 -2.59806333e+24  4.70354919e+24], Error: 6.196930818823665e+24\n",
      "Iteración 172: [ 9.40709838e+24 -3.17494331e+23  1.68773159e+24], Error: 1.239386163764733e+25\n",
      "Iteración 173: [ 3.37546319e+24  5.12548209e+24 -9.56584555e+24], Error: 1.1253577138523788e+25\n",
      "Iteración 174: [-1.91316911e+25 -7.03729794e+23 -8.12722141e+23], Error: 2.2507154277047577e+25\n",
      "Iteración 175: [-1.62544428e+24 -9.76902608e+24  1.87798262e+25], Error: 1.9592548335886474e+25\n",
      "Iteración 176: [ 3.75596524e+25  3.88223441e+24 -3.25906876e+24], Error: 3.918509667177295e+25\n",
      "Iteración 177: [-6.51813752e+24  1.79650590e+25 -3.56185352e+25], Error: 4.40777899075848e+25\n",
      "Iteración 178: [-7.12370704e+25 -1.21637026e+25  1.55006670e+25], Error: 6.4718932854491345e+25\n",
      "Iteración 179: [ 3.10013340e+25 -3.17433684e+25  6.51552191e+25], Error: 1.02238404412608e+26\n",
      "Iteración 180: [ 1.30310438e+26  3.17894718e+25 -4.68730183e+25], Error: 1.1202823735044282e+26\n",
      "Iteración 181: [-9.37460365e+25  5.34369645e+25 -1.14415702e+26], Error: 2.2405647470088564e+26\n",
      "Iteración 182: [-2.28831405e+26 -7.54769438e+25  1.20464519e+26], Error: 2.3488022106917498e+26\n",
      "Iteración 183: [ 2.40929038e+26 -8.42995726e+25  1.91092933e+26], Error: 4.6976044213834995e+26\n",
      "Iteración 184: [ 3.82185865e+26  1.68237752e+26 -2.83078824e+26], Error: 4.741717565226797e+26\n",
      "Iteración 185: [-5.66157648e+26  1.20323227e+26 -2.98066989e+26], Error: 9.483435130453594e+26\n",
      "Iteración 186: [-5.96133979e+26 -3.57595571e+26  6.26319261e+26], Error: 9.243862504261199e+26\n",
      "Iteración 187: [ 1.25263852e+27 -1.41487174e+26  4.17336193e+26], Error: 1.8487725008522397e+27\n",
      "Iteración 188: [ 8.34672386e+26  7.30653309e+26 -1.32338211e+27], Error: 1.7407183023056103e+27\n",
      "Iteración 189: [-2.64676422e+27  8.64906658e+25 -4.69345732e+26], Error: 3.4814366046112206e+27\n",
      "Iteración 190: [-9.38691463e+26 -1.44071854e+27  2.69000955e+27], Error: 3.15935528286104e+27\n",
      "Iteración 191: [5.38001910e+27 2.03156656e+26 2.18332192e+26], Error: 6.31871056572208e+27\n",
      "Iteración 192: [ 4.36664384e+26  2.74459260e+27 -5.27844077e+27], Error: 5.49677296657921e+27\n",
      "Iteración 193: [-1.05568815e+28 -1.10127800e+27  9.35631915e+26], Error: 1.099354593315842e+28\n",
      "Iteración 194: [ 1.87126383e+27 -5.04453280e+27  1.00062425e+28], Error: 1.2428145379476507e+28\n",
      "Iteración 195: [ 2.00124851e+28  3.43719255e+27 -4.39353023e+27], Error: 1.814122126557458e+28\n",
      "Iteración 196: [-8.78706046e+27  8.90785999e+27 -1.82938888e+28], Error: 2.879954555309766e+28\n",
      "Iteración 197: [-3.65877776e+28 -8.96700243e+27  1.32409905e+28], Error: 3.15348792724227e+28\n",
      "Iteración 198: [ 2.64819809e+28 -1.49836412e+28  3.21042764e+28], Error: 6.30697585448454e+28\n",
      "Iteración 199: [ 6.42085528e+28  2.12670596e+28 -3.39738015e+28], Error: 6.607807793159608e+28\n",
      "Iteración 200: [-6.79476030e+28  2.36108260e+28 -5.35750231e+28], Error: 1.3215615586319216e+29\n",
      "Iteración 201: [-1.07150046e+29 -4.73675573e+28  7.97530160e+28], Error: 1.3332803910723703e+29\n",
      "Iteración 202: [ 1.59506032e+29 -3.36367691e+28  8.34662675e+28], Error: 2.6665607821447406e+29\n",
      "Iteración 203: [ 1.66932535e+29  1.00619583e+29 -1.76324417e+29], Error: 2.5979068410576575e+29\n",
      "Iteración 204: [-3.52648833e+29  3.93851633e+28 -1.16622744e+29], Error: 5.195813682115315e+29\n",
      "Iteración 205: [-2.33245487e+29 -2.05480102e+29  3.72341415e+29], Error: 4.889641584273424e+29\n",
      "Iteración 206: [ 7.44682830e+29 -2.35373898e+28  1.30505436e+29], Error: 9.779283168546848e+29\n",
      "Iteración 207: [ 2.61010872e+29  4.04967774e+29 -7.56451525e+29], Error: 8.869569605163918e+29\n",
      "Iteración 208: [-1.51290305e+30 -5.86074453e+28 -5.85269847e+28], Error: 1.7739139210327836e+30\n",
      "Iteración 209: [-1.17053969e+29 -7.71083271e+29  1.48359933e+30], Error: 1.5421263114389024e+30\n",
      "Iteración 210: [ 2.96719865e+30  3.12372847e+29 -2.68487666e+29], Error: 3.084252622877805e+30\n",
      "Iteración 211: [-5.36975332e+29  1.41647741e+30 -2.81101223e+30], Error: 3.5041739853238923e+30\n",
      "Iteración 212: [-5.62202446e+30 -9.71240723e+29  1.24521404e+30], Error: 5.085049127947218e+30\n",
      "Iteración 213: [ 2.49042807e+30 -2.49970872e+30  5.13640410e+30], Error: 8.1124525339212e+30\n",
      "Iteración 214: [ 1.02728082e+31  2.52931506e+30 -3.74028243e+30], Error: 8.876686532537929e+30\n",
      "Iteración 215: [-7.48056487e+30  4.20133349e+30 -9.00815067e+30], Error: 1.7753373065075858e+31\n",
      "Iteración 216: [-1.80163013e+31 -5.99232010e+30  9.58123161e+30], Error: 1.8589382279068387e+31\n",
      "Iteración 217: [ 1.91624632e+31 -6.61284276e+30  1.50201413e+31], Error: 3.7178764558136773e+31\n",
      "Iteración 218: [ 3.00402826e+31  1.33362669e+31 -2.24688846e+31], Error: 3.7489025888812647e+31\n",
      "Iteración 219: [-4.49377692e+31  9.40292013e+30 -2.33721491e+31], Error: 7.4978051777625295e+31\n",
      "Iteración 220: [-4.67442982e+31 -2.83119219e+31  4.96392293e+31], Error: 7.301137837506315e+31\n",
      "Iteración 221: [ 9.92784586e+31 -1.09623418e+31  3.25883372e+31], Error: 1.460227567501263e+32\n",
      "Iteración 222: [ 6.51766745e+31  5.77863136e+31 -1.04759629e+32], Error: 1.3734796669636275e+32\n",
      "Iteración 223: [-2.09519259e+32  6.39842989e+30 -3.62835177e+31], Error: 2.746959333927255e+32\n",
      "Iteración 224: [-7.25670354e+31 -1.13830509e+32  2.12718474e+32], Error: 2.4900199153932576e+32\n",
      "Iteración 225: [4.25436948e+32 1.68961008e+31 1.56517810e+31], Error: 4.980039830786515e+32\n",
      "Iteración 226: [ 3.13035619e+31  2.16631419e+32 -4.16988897e+32], Error: 4.326406782618055e+32\n",
      "Iteración 227: [-8.33977795e+32 -8.85954434e+31  7.70121476e+31], Error: 8.65281356523611e+32\n",
      "Iteración 228: [ 1.54024295e+32 -3.97735860e+32  7.89680073e+32], Error: 9.880020898291817e+32\n",
      "Iteración 229: [ 1.57936015e+33  2.74432166e+32 -3.52892225e+32], Error: 1.4253358506044756e+33\n",
      "Iteración 230: [-7.05784451e+32  7.01457017e+32 -1.44214406e+33], Error: 2.285144596691521e+33\n",
      "Iteración 231: [-2.88428813e+33 -7.13428241e+32  1.05651296e+33], Error: 2.49865702204942e+33\n",
      "Iteración 232: [ 2.11302592e+33 -1.17801582e+33  2.52757401e+33], Error: 4.99731404409884e+33\n",
      "Iteración 233: [ 5.05514801e+33  1.68840646e+33 -2.70203383e+33], Error: 5.229607835084863e+33\n",
      "Iteración 234: [-5.40406766e+33  1.85206555e+33 -4.21094478e+33], Error: 1.0459215670169725e+34\n",
      "Iteración 235: [-8.42188956e+33 -3.75477002e+33  6.33010043e+33], Error: 1.0541045213839302e+34\n",
      "Iteración 236: [ 1.26602009e+34 -2.62841967e+33  6.54450455e+33], Error: 2.1082090427678604e+34\n",
      "Iteración 237: [ 1.30890091e+34  7.96622657e+33 -1.39744107e+34], Error: 2.051891525116481e+34\n",
      "Iteración 238: [-2.79488214e+34  3.05090187e+33 -9.10589581e+33], Error: 4.103783050232962e+34\n",
      "Iteración 239: [-1.82117916e+34 -1.62508847e+34  2.94742723e+34], Error: 3.8580168153193026e+34\n",
      "Iteración 240: [ 5.89485447e+34 -1.73732773e+33  1.00863493e+34], Error: 7.716033630638605e+34\n",
      "Iteración 241: [ 2.01726986e+34  3.19958597e+34 -5.98172085e+34], Error: 6.9903557841137725e+34\n",
      "Iteración 242: [-1.19634417e+35 -4.86795284e+33 -4.17476875e+33], Error: 1.3980711568227545e+35\n",
      "Iteración 243: [-8.34953751e+33 -6.08609007e+34  1.17200441e+35], Error: 1.2137520942790605e+35\n",
      "Iteración 244: [ 2.34400881e+35  2.51253414e+34 -2.20809129e+34], Error: 2.427504188558121e+35\n",
      "Iteración 245: [-4.41618257e+34  1.11680212e+35 -2.21838211e+35], Error: 2.785627070628195e+35\n",
      "Iteración 246: [-4.43676421e+35 -7.75404655e+34  1.00001932e+35], Error: 3.995145955621992e+35\n",
      "Iteración 247: [ 2.00003864e+35 -1.96837728e+35  4.04906189e+35], Error: 6.436802851706927e+35\n",
      "Iteración 248: [ 8.09812377e+35  2.01228479e+35 -2.98422728e+35], Error: 7.033289162380743e+35\n",
      "Iteración 249: [-5.96845455e+35  3.30300507e+35 -7.09198138e+35], Error: 1.4066578324761486e+36\n",
      "Iteración 250: [-1.41839628e+36 -4.75722262e+35  7.61995709e+35], Error: 1.4711938462333177e+36\n",
      "Iteración 251: [ 1.52399142e+36 -5.18699210e+35  1.18053514e+36], Error: 2.9423876924666353e+36\n",
      "Iteración 252: [ 2.36107029e+36  1.05712949e+36 -1.78334102e+36], Error: 2.963876166579125e+36\n",
      "Iteración 253: [-3.56668205e+36  7.34699888e+35 -1.83250554e+36], Error: 5.92775233315825e+36\n",
      "Iteración 254: [-3.66501108e+36 -2.24146741e+36  3.93403199e+36], Error: 5.766537529948192e+36\n",
      "Iteración 255: [ 7.86806398e+36 -8.48997543e+35  2.54427738e+36], Error: 1.1533075059896383e+37\n",
      "Iteración 256: [ 5.08855475e+36  4.57010133e+36 -8.29256275e+36], Error: 1.0836840127617654e+37\n",
      "Iteración 257: [-1.65851255e+37  4.71136690e+35 -2.80350409e+36], Error: 2.167368025523531e+37\n",
      "Iteración 258: [-5.60700818e+36 -8.99343877e+36  1.68206938e+37], Error: 1.9624197933197314e+37\n",
      "Iteración 259: [3.36413877e+37 1.40166937e+36 1.11028879e+36], Error: 3.9248395866394628e+37\n",
      "Iteración 260: [ 2.22057758e+36  1.70982660e+37 -3.29405530e+37], Error: 3.4050841793347063e+37\n",
      "Iteración 261: [-6.58811060e+37 -7.12484946e+36  6.32855544e+36], Error: 6.8101683586694125e+37\n",
      "Iteración 262: [ 1.26571109e+37 -3.13584141e+37  6.23186813e+37], Error: 7.853821689526346e+37\n",
      "Iteración 263: [ 1.24637363e+38  2.19082258e+37 -2.83363180e+37], Error: 1.119802516685005e+38\n",
      "Iteración 264: [-5.66726359e+37  5.52346018e+37 -1.13683250e+38], Error: 1.8130999847196603e+38\n",
      "Iteración 265: [-2.27366499e+38 -5.67571304e+37  8.42899368e+37], Error: 1.979731864845933e+38\n",
      "Iteración 266: [ 1.68579874e+38 -9.26107655e+37  1.98987934e+38], Error: 3.959463729691866e+38\n",
      "Iteración 267: [ 3.97975868e+38  1.34036920e+38 -2.14885256e+38], Error: 4.138731905163141e+38\n",
      "Iteración 268: [-4.29770513e+38  1.45266620e+38 -3.30957408e+38], Error: 8.277463810326282e+38\n",
      "Iteración 269: [-6.61914816e+38 -2.97624608e+38  5.02403823e+38], Error: 8.333612308922839e+38\n",
      "Iteración 270: [ 1.00480765e+39 -2.05356452e+38  5.13102512e+38], Error: 1.6667224617845677e+39\n",
      "Iteración 271: [ 1.02620502e+39  6.30679451e+38 -1.10748587e+39], Error: 1.6205883838159994e+39\n",
      "Iteración 272: [-2.21497174e+39  2.36231044e+38 -7.10865299e+38], Error: 3.241176767631999e+39\n",
      "Iteración 273: [-1.42173060e+39 -1.28520220e+39  2.33308727e+39], Error: 3.0439525643252335e+39\n",
      "Iteración 274: [ 4.66617453e+39 -1.27593482e+38  7.79129499e+38], Error: 6.087905128650467e+39\n",
      "Iteración 275: [ 1.55825900e+39  2.52786964e+39 -4.72997127e+39], Error: 5.509100771643433e+39\n",
      "Iteración 276: [-9.45994254e+39 -4.03363319e+38 -2.94324179e+38], Error: 1.1018201543286865e+40\n",
      "Iteración 277: [-5.88648357e+38 -4.80355232e+39  9.25826089e+39], Error: 9.552585063752972e+39\n",
      "Iteración 278: [ 1.85165218e+40  2.02024104e+39 -1.81312780e+39], Error: 1.9105170127505943e+40\n",
      "Iteración 279: [-3.62625560e+39  8.80497893e+39 -1.75064012e+40], Error: 2.214277737304414e+40\n",
      "Iteración 280: [-3.50128025e+40 -6.18972811e+39  8.02874507e+39], Error: 3.1386546895366787e+40\n",
      "Iteración 281: [ 1.60574901e+40 -1.54992150e+40  3.19179384e+40], Error: 5.107029263821074e+40\n",
      "Iteración 282: [ 6.38358769e+40  1.60082297e+40 -2.38070976e+40], Error: 5.5725036072164265e+40\n",
      "Iteración 283: [-4.76141953e+40  2.59661640e+40 -5.58317620e+40], Error: 1.1145007214432853e+41\n",
      "Iteración 284: [-1.11663524e+41 -3.77650381e+40  6.05972773e+40], Error: 1.1642903932088064e+41\n",
      "Iteración 285: [ 1.21194555e+41 -4.06824427e+40  9.27810050e+40], Error: 2.3285807864176128e+41\n",
      "Iteración 286: [ 1.85562010e+41  8.37925285e+40 -1.41535776e+41], Error: 2.3431678093232363e+41\n",
      "Iteración 287: [-2.83071552e+41  5.73970610e+40 -1.43665746e+41], Error: 4.686335618646473e+41\n",
      "Iteración 288: [-2.87331492e+41 -1.77452212e+41  3.11770082e+41], Error: 4.554358281157015e+41\n",
      "Iteración 289: [ 6.23540165e+41 -6.57232252e+40  1.98605385e+41], Error: 9.10871656231403e+41\n",
      "Iteración 290: [ 3.97210771e+41  3.61421429e+41 -6.56401777e+41], Error: 8.550071626384602e+41\n",
      "Iteración 291: [-1.31280355e+42  3.45049410e+40 -2.16500056e+41], Error: 1.7100143252769204e+42\n",
      "Iteración 292: [-4.33000113e+41 -7.10526791e+41  1.33005603e+42], Error: 1.5465560814418818e+42\n",
      "Iteración 293: [2.66011205e+42 1.16013950e+41 7.77367170e+40], Error: 3.0931121628837635e+42\n",
      "Iteración 294: [ 1.55473434e+41  1.34949020e+42 -2.60210508e+42], Error: 2.6798417922272942e+42\n",
      "Iteración 295: [-5.20421015e+42 -5.72789552e+41  5.19271668e+41], Error: 5.3596835844545885e+42\n",
      "Iteración 296: [ 1.03854334e+42 -2.47228716e+42  4.91781537e+42], Error: 6.242753486836031e+42\n",
      "Iteración 297: [ 9.83563075e+42  1.74872551e+42 -2.27468692e+42], Error: 8.797087412747247e+42\n",
      "Iteración 298: [-4.54937383e+42  4.34914365e+42 -8.96126799e+42], Error: 1.438500458004485e+43\n",
      "Iteración 299: [-1.79225360e+43 -4.51500391e+42  6.72394565e+42], Error: 1.568521364697886e+43\n",
      "Iteración 300: [ 1.34478913e+43 -7.28028158e+42  1.56650340e+43], Error: 3.137042729395772e+43\n"
     ]
    },
    {
     "data": {
      "text/plain": [
       "array([ 1.34478913e+43, -7.28028158e+42,  1.56650340e+43])"
      ]
     },
     "execution_count": 7,
     "metadata": {},
     "output_type": "execute_result"
    }
   ],
   "source": [
    "strictly_dominant = is_strictly_diagonally_dominant(A)\n",
    "print(f\"¿La nueva matriz es diagonal estrictamente dominante? {strictly_dominant}\")\n",
    "\n",
    "jacobi_method_with_tolerance(A, b, x0, tol, max_iterations)"
   ]
  },
  {
   "cell_type": "markdown",
   "metadata": {},
   "source": [
    "8. Un cable coaxial está formado por un conductor interno de 0.1 pulgadas cuadradas y un conductor externo de 0.5 pulgadas cuadradas. El potencial en un punto en la sección transversal del cable se describe mediante la ecuación de Laplace. Suponga que el conductor interno se mantiene en 0 volts y el conductor externo se mantiene en 110 volts. Aproximar el potencial entre los dos conductores requiere resolver el siguiente sistema lineal.\n",
    "\n",
    "El sistema de ecuaciones lineales es:\n",
    "\n",
    "\n",
    "$$\\begin{bmatrix}\n",
    "4 & -1 & 0 & -1 & 0 & 0 & 0 & 0 & 0 & 0 & 0 & 0 \\\\\n",
    "-1 & 4 & -1 & 0 & -1 & 0 & 0 & 0 & 0 & 0 & 0 & 0 \\\\\n",
    "0 & -1 & 4 & 0 & 0 & -1 & 0 & 0 & 0 & 0 & 0 & 0 \\\\\n",
    "0 & 0 & -1 & 4 & -1 & 0 & -1 & 0 & 0 & 0 & 0 & 0 \\\\\n",
    "-1 & 0 & 0 & -1 & 4 & -1 & 0 & -1 & 0 & 0 & 0 & 0 \\\\\n",
    "0 & 0 & -1 & 0 & -1 & 4 & 0 & 0 & -1 & 0 & 0 & 0 \\\\\n",
    "0 & 0 & 0 & -1 & 0 & 0 & 4 & -1 & 0 & -1 & 0 & 0 \\\\\n",
    "0 & 0 & 0 & 0 & -1 & 0 & -1 & 4 & -1 & 0 & -1 & 0 \\\\\n",
    "0 & 0 & 0 & 0 & 0 & -1 & 0 & -1 & 4 & 0 & 0 & -1 \\\\\n",
    "0 & 0 & 0 & 0 & 0 & 0 & -1 & 0 & 0 & 4 & -1 & 0 \\\\\n",
    "0 & 0 & 0 & 0 & 0 & 0 & 0 & -1 & 0 & -1 & 4 & -1 \\\\\n",
    "0 & 0 & 0 & 0 & 0 & 0 & 0 & 0 & -1 & 0 & -1 & 4 \\\\\n",
    "\\end{bmatrix}$$\n",
    "$$\\cdot$$\n",
    "$$\\begin{bmatrix}\n",
    "w_1 \\\\\n",
    "w_2 \\\\\n",
    "w_3 \\\\\n",
    "w_4 \\\\\n",
    "w_5 \\\\\n",
    "w_6 \\\\\n",
    "w_7 \\\\\n",
    "w_8 \\\\\n",
    "w_9 \\\\\n",
    "w_{10} \\\\\n",
    "w_{11} \\\\\n",
    "w_{12} \\\\\n",
    "\\end{bmatrix}$$\n",
    "=\n",
    "$$\\begin{bmatrix}\n",
    "220 \\\\\n",
    "110 \\\\\n",
    "110 \\\\\n",
    "220 \\\\\n",
    "110 \\\\\n",
    "110 \\\\\n",
    "110 \\\\\n",
    "110 \\\\\n",
    "110 \\\\\n",
    "110 \\\\\n",
    "110 \\\\\n",
    "220 \\\\\n",
    "\\end{bmatrix}$$\n"
   ]
  },
  {
   "cell_type": "markdown",
   "metadata": {},
   "source": [
    "a. ¿La matriz es estrictamente diagonalmente dominante?"
   ]
  },
  {
   "cell_type": "code",
   "execution_count": 8,
   "metadata": {},
   "outputs": [
    {
     "name": "stdout",
     "output_type": "stream",
     "text": [
      "¿La matriz es diagonal estrictamente dominante? False\n"
     ]
    }
   ],
   "source": [
    "A = np.array([\n",
    "    [4, -1, 0, -1, 0, 0, 0, 0, 0, 0, 0, 0],\n",
    "    [-1, 4, -1, 0, -1, 0, 0, 0, 0, 0, 0, 0],\n",
    "    [0, -1, 4, 0, 0, -1, 0, 0, 0, 0, 0, 0],\n",
    "    [-1, 0, 0, 4, -1, 0, -1, 0, 0, 0, 0, 0],\n",
    "    [0, -1, 0, -1, 4, -1, 0, -1, 0, 0, 0, 0],\n",
    "    [0, 0, -1, 0, -1, 4, 0, 0, -1, 0, 0, 0],\n",
    "    [0, 0, 0, -1, 0, 0, 4, -1, 0, -1, 0, 0],\n",
    "    [0, 0, 0, 0, -1, 0, -1, 4, -1, 0, -1, 0],\n",
    "    [0, 0, 0, 0, 0, -1, 0, -1, 4, 0, 0, -1],\n",
    "    [0, 0, 0, 0, 0, 0, -1, 0, 0, 4, -1, 0],\n",
    "    [0, 0, 0, 0, 0, 0, 0, -1, 0, -1, 4, -1],\n",
    "    [0, 0, 0, 0, 0, 0, 0, 0, -1, 0, -1, 4],\n",
    "], dtype=float)\n",
    "\n",
    "b = np.array([220, 110, 110, 110, 0, 0, 0, 0, 0, 0, 110, 220], dtype=float)\n",
    "\n",
    "strictly_dominant = is_strictly_diagonally_dominant(A)\n",
    "print(f\"¿La matriz es diagonal estrictamente dominante? {strictly_dominant}\")\n"
   ]
  },
  {
   "cell_type": "markdown",
   "metadata": {},
   "source": [
    "b. Resuelva el sistema lineal usando el método de Jacobi con $x_{(0)} = 0$ y TOL = $10^{-2}$."
   ]
  },
  {
   "cell_type": "code",
   "execution_count": 12,
   "metadata": {},
   "outputs": [
    {
     "name": "stdout",
     "output_type": "stream",
     "text": [
      "Iteración 1: [55.         41.25       37.8125     41.25       20.625      14.609375\n",
      " 10.3125      7.734375    5.5859375   2.578125   30.078125   63.91601562], Error: 63.916015625\n",
      "Iteración 2: [75.625      61.015625   46.40625    54.140625   34.375      21.59179688\n",
      " 16.11328125 21.53808594 26.76147461 11.54785156 51.75048828 74.62799072], Error: 21.67236328125\n",
      "Iteración 3: [83.7890625  68.64257812 50.05859375 61.06933594 43.21044922 30.00762939\n",
      " 23.53881836 36.31530762 35.23773193 18.82232666 59.94140625 78.79478455], Error: 14.7772216796875\n",
      "Iteración 4: [87.42797852 72.67425537 53.17047119 66.04431152 51.26037598 34.91714478\n",
      " 30.29548645 44.18375015 39.47391987 22.55922318 63.88443947 80.83958983], Error: 8.0499267578125\n",
      "Iteración 5: [89.67964172 76.02762222 55.23619175 70.30887604 56.3593483  37.76736498\n",
      " 34.26296234 48.49516749 41.77553058 24.53685045 65.96790195 81.93585813], Error: 5.098972320556641\n",
      "Iteración 6: [91.58412457 78.29491615 56.51557028 73.0516088  59.40226436 39.4233413\n",
      " 36.52090669 50.91665089 43.06896258 25.62220216 67.11867779 82.54691009], Error: 3.0429160594940186\n",
      "Iteración 7: [92.83663124 79.68861647 57.27798944 74.68995057 61.17963981 40.38164796\n",
      " 37.8072009  52.29362027 43.80554458 26.23146967 67.76800001 82.89338615], Error: 1.77737545222044\n",
      "Iteración 8: [93.59464176 80.51306775 57.72367893 75.64537062 62.20842665 40.93441254\n",
      " 38.54261514 53.0811466  44.22723632 26.57765379 68.13804663 83.09132074], Error: 1.0287868417799473\n",
      "Iteración 9: [94.03960959 80.99292879 57.98183533 76.19766285 62.80153769 41.25265234\n",
      " 38.96411581 53.53273411 44.4691768  26.77554061 68.34989887 83.20476892], Error: 0.5931110431265552\n",
      "Iteración 10: [94.29764791 81.27025523 58.13072689 76.51582535 63.14286676 41.43569261\n",
      " 39.20602502 53.79199186 44.60811335 26.88898097 68.47143544 83.2698872 ], Error: 0.3413290656862955\n",
      "Iteración 11: [94.44652015 81.43002845 58.21643027 76.69885298 63.33914148 41.54092127\n",
      " 39.34495645 53.94091168 44.68793004 26.95409797 68.54122421 83.30728856], Error: 0.19627471653052453\n",
      "Iteración 12: [94.53222036 81.52194802 58.26571732 76.80407957 63.45196514 41.60140312\n",
      " 39.42477231 54.02647292 44.73379115 26.99149913 68.58131515 83.32877658], Error: 0.11282366078930295\n",
      "Iteración 13: [94.5815069  81.57479734 58.29405012 76.86456109 63.51680862 41.63616247\n",
      " 39.47063328 54.07563705 44.76014403 27.01298711 68.60435018 83.34112355], Error: 0.06484348137342266\n",
      "Iteración 14: [94.60983961 81.60517459 58.31033426 76.89932038 63.55407362 41.65613798\n",
      " 39.49698613 54.10388849 44.77528751 27.02533408 68.61758653 83.34821851], Error: 0.0372650033916031\n",
      "Iteración 15: [94.62612374 81.62263291 58.31969272 76.91929587 63.57548881 41.66761726\n",
      " 39.51212961 54.12012312 44.78398972 27.03242904 68.62519266 83.3522956 ], Error: 0.021415190960304642\n",
      "Iteración 16: [94.6354822  81.63266593 58.3250708  76.93077515 63.58779537 41.67421397\n",
      " 39.52083183 54.12945239 44.78899049 27.03650612 68.62956353 83.3546385 ], Error: 0.012306552951216077\n",
      "Iteración 17: [94.64086027 81.63843161 58.32816139 76.93737187 63.59486746 41.67800484\n",
      " 39.5258326  54.13481352 44.79186421 27.03884903 68.63207526 83.35598487], Error: 0.007072094615622859\n",
      "Convergencia alcanzada.\n",
      "Solución aproximada con Gauss-Seidel: [94.6354822  81.63266593 58.3250708  76.93077515 63.58779537 41.67421397\n",
      " 39.52083183 54.12945239 44.78899049 27.03650612 68.62956353 83.3546385 ]\n"
     ]
    }
   ],
   "source": [
    "x0 = np.zeros(len(b))  \n",
    "tol = 1e-2\n",
    "max_iterations = 300\n",
    "\n",
    "solution_gauss_seidel = gauss_seidel_method_with_tolerance(A, b, x0, tol, max_iterations)\n",
    "print(\"Solución aproximada con Gauss-Seidel:\", solution_gauss_seidel)"
   ]
  },
  {
   "cell_type": "markdown",
   "metadata": {},
   "source": [
    "c. Repita la parte b) mediante el método de Gauss-Seidel."
   ]
  },
  {
   "cell_type": "code",
   "execution_count": 14,
   "metadata": {},
   "outputs": [
    {
     "name": "stdout",
     "output_type": "stream",
     "text": [
      "Iteración 1: [55.         41.25       37.8125     41.25       20.625      14.609375\n",
      " 10.3125      7.734375    5.5859375   2.578125   30.078125   63.91601562], Error: 63.916015625\n",
      "Iteración 2: [75.625      61.015625   46.40625    54.140625   34.375      21.59179688\n",
      " 16.11328125 21.53808594 26.76147461 11.54785156 51.75048828 74.62799072], Error: 21.67236328125\n",
      "Iteración 3: [83.7890625  68.64257812 50.05859375 61.06933594 43.21044922 30.00762939\n",
      " 23.53881836 36.31530762 35.23773193 18.82232666 59.94140625 78.79478455], Error: 14.7772216796875\n",
      "Iteración 4: [87.42797852 72.67425537 53.17047119 66.04431152 51.26037598 34.91714478\n",
      " 30.29548645 44.18375015 39.47391987 22.55922318 63.88443947 80.83958983], Error: 8.0499267578125\n",
      "Iteración 5: [89.67964172 76.02762222 55.23619175 70.30887604 56.3593483  37.76736498\n",
      " 34.26296234 48.49516749 41.77553058 24.53685045 65.96790195 81.93585813], Error: 5.098972320556641\n",
      "Iteración 6: [91.58412457 78.29491615 56.51557028 73.0516088  59.40226436 39.4233413\n",
      " 36.52090669 50.91665089 43.06896258 25.62220216 67.11867779 82.54691009], Error: 3.0429160594940186\n",
      "Iteración 7: [92.83663124 79.68861647 57.27798944 74.68995057 61.17963981 40.38164796\n",
      " 37.8072009  52.29362027 43.80554458 26.23146967 67.76800001 82.89338615], Error: 1.77737545222044\n",
      "Iteración 8: [93.59464176 80.51306775 57.72367893 75.64537062 62.20842665 40.93441254\n",
      " 38.54261514 53.0811466  44.22723632 26.57765379 68.13804663 83.09132074], Error: 1.0287868417799473\n",
      "Iteración 9: [94.03960959 80.99292879 57.98183533 76.19766285 62.80153769 41.25265234\n",
      " 38.96411581 53.53273411 44.4691768  26.77554061 68.34989887 83.20476892], Error: 0.5931110431265552\n",
      "Iteración 10: [94.29764791 81.27025523 58.13072689 76.51582535 63.14286676 41.43569261\n",
      " 39.20602502 53.79199186 44.60811335 26.88898097 68.47143544 83.2698872 ], Error: 0.3413290656862955\n",
      "Iteración 11: [94.44652015 81.43002845 58.21643027 76.69885298 63.33914148 41.54092127\n",
      " 39.34495645 53.94091168 44.68793004 26.95409797 68.54122421 83.30728856], Error: 0.19627471653052453\n",
      "Iteración 12: [94.53222036 81.52194802 58.26571732 76.80407957 63.45196514 41.60140312\n",
      " 39.42477231 54.02647292 44.73379115 26.99149913 68.58131515 83.32877658], Error: 0.11282366078930295\n",
      "Iteración 13: [94.5815069  81.57479734 58.29405012 76.86456109 63.51680862 41.63616247\n",
      " 39.47063328 54.07563705 44.76014403 27.01298711 68.60435018 83.34112355], Error: 0.06484348137342266\n",
      "Iteración 14: [94.60983961 81.60517459 58.31033426 76.89932038 63.55407362 41.65613798\n",
      " 39.49698613 54.10388849 44.77528751 27.02533408 68.61758653 83.34821851], Error: 0.0372650033916031\n",
      "Iteración 15: [94.62612374 81.62263291 58.31969272 76.91929587 63.57548881 41.66761726\n",
      " 39.51212961 54.12012312 44.78398972 27.03242904 68.62519266 83.3522956 ], Error: 0.021415190960304642\n",
      "Iteración 16: [94.6354822  81.63266593 58.3250708  76.93077515 63.58779537 41.67421397\n",
      " 39.52083183 54.12945239 44.78899049 27.03650612 68.62956353 83.3546385 ], Error: 0.012306552951216077\n",
      "Iteración 17: [94.64086027 81.63843161 58.32816139 76.93737187 63.59486746 41.67800484\n",
      " 39.5258326  54.13481352 44.79186421 27.03884903 68.63207526 83.35598487], Error: 0.007072094615622859\n",
      "Convergencia alcanzada.\n",
      "Solución aproximada con Gauss-Seidel: [94.6354822  81.63266593 58.3250708  76.93077515 63.58779537 41.67421397\n",
      " 39.52083183 54.12945239 44.78899049 27.03650612 68.62956353 83.3546385 ]\n"
     ]
    }
   ],
   "source": [
    "solution_gauss_seidel = gauss_seidel_method_with_tolerance(A, b, x0, tol, max_iterations)\n",
    "print(\"Solución aproximada con Gauss-Seidel:\", solution_gauss_seidel)"
   ]
  }
 ],
 "metadata": {
  "kernelspec": {
   "display_name": "Python 3",
   "language": "python",
   "name": "python3"
  },
  "language_info": {
   "codemirror_mode": {
    "name": "ipython",
    "version": 3
   },
   "file_extension": ".py",
   "mimetype": "text/x-python",
   "name": "python",
   "nbconvert_exporter": "python",
   "pygments_lexer": "ipython3",
   "version": "3.11.9"
  }
 },
 "nbformat": 4,
 "nbformat_minor": 2
}
